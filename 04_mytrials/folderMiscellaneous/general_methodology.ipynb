{
 "cells": [
  {
   "cell_type": "markdown",
   "id": "be12f879",
   "metadata": {},
   "source": [
    "# General Methodology\n",
    "\n",
    "## Reliability prediction for miscellaneous items\n",
    "\n",
    "For the four different sections (System, EEE, Mechanical and Miscellaneous), the same principle will be applied with for each section a clear definition of the objective(s) and then a clear explanation of the choices. When relevant, examples will be used to illustrate.\n",
    "\n",
    "The level of recommendation/rule or permission will be clearly indicated so that it is easy for the user to adapt its application of the method based on its needs.\n",
    "\n",
    "This chapter deals with the miscellaneous items which are represented by all parts/item (or sets of parts) which are not fully electrical parts, nor fully mechanical parts nor fully structural parts. The current reliability models (EEE parts, mechanical parts) are not adapted and are not the preferred way to support reliability predictions for these items. Therefore, other ways to provide reliability estimates are proposed in this chapter and are detailed in the next sections.\n",
    "\n",
    "The [following figure](figure4_1) represents examples of some miscellaneous parts/items:\n",
    "\n",
    "![alt text](picture/figure4_1.png \"Examples of some miscellaneous items\")\n",
    "\n"
   ]
  },
  {
   "cell_type": "code",
   "execution_count": null,
   "id": "03acb122",
   "metadata": {},
   "outputs": [],
   "source": []
  }
 ],
 "metadata": {
  "kernelspec": {
   "display_name": "Python 3 (ipykernel)",
   "language": "python",
   "name": "python3"
  },
  "language_info": {
   "codemirror_mode": {
    "name": "ipython",
    "version": 3
   },
   "file_extension": ".py",
   "mimetype": "text/x-python",
   "name": "python",
   "nbconvert_exporter": "python",
   "pygments_lexer": "ipython3",
   "version": "3.8.10"
  }
 },
 "nbformat": 4,
 "nbformat_minor": 5
}
