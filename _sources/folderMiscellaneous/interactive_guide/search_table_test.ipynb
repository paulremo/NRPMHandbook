{
 "cells": [
  {
   "cell_type": "markdown",
   "id": "e0018111",
   "metadata": {},
   "source": [
    "# Test for search table\n",
    "\n",
    "[Click here to go back to the handbook](back_from_search_table)"
   ]
  },
  {
   "cell_type": "markdown",
   "id": "a3d58eb8",
   "metadata": {},
   "source": [
    "<iframe src=\"../../_static/interactivity/html/misc_table4_8.html\" frameborder=\"0\" style=\"width:100%\" id=\"ext_interactive2\" onload=\"resize_iframe2()\"></iframe>"
   ]
  },
  {
   "cell_type": "markdown",
   "id": "60add31c",
   "metadata": {},
   "source": [
    "## Second shot"
   ]
  },
  {
   "cell_type": "code",
   "execution_count": null,
   "id": "eb764252",
   "metadata": {},
   "outputs": [],
   "source": []
  }
 ],
 "metadata": {
  "kernelspec": {
   "display_name": "Python 3 (ipykernel)",
   "language": "python",
   "name": "python3"
  },
  "language_info": {
   "codemirror_mode": {
    "name": "ipython",
    "version": 3
   },
   "file_extension": ".py",
   "mimetype": "text/x-python",
   "name": "python",
   "nbconvert_exporter": "python",
   "pygments_lexer": "ipython3",
   "version": "3.8.10"
  }
 },
 "nbformat": 4,
 "nbformat_minor": 5
}
