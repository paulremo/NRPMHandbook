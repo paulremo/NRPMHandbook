{
 "cells": [
  {
   "cell_type": "markdown",
   "id": "5ff83f3e",
   "metadata": {},
   "source": [
    "# Solid lubricant wear model\n",
    "\n",
    "```{note}\n",
    "To run the interactive reliability prediction on this page, click the {fa}`rocket` --> {guilabel}`Live Code` botton on the top of the page. Wait a few seconds until the Kernel has loaded and run the cell below with {guilabel}`Run`.\n",
    "```\n",
    "\n",
    "## Model description\n",
    "\n",
    "Solid lubricant wear modelling is described taking example in a ball bearing. The modelling is applicable to other cases of solid lubricant wear, however, the number of revolution has to be substituted with another measure of sliding distance. \n",
    "For solid lubricant reservoir wear (e.g. cage of a ball bearing), the limit state function for the adhesive wear model is formulated as follows:\n",
    "\n",
    "$g\\left( {\\bf{X}} \\right) = {V_{{\\text{lim}}}} - \\Theta  \\sum\\limits_{i = 1}^{{n_p}} {{K_{H,i}} {\\alpha _i} r_i}$\n",
    "\n",
    "Where $\\alpha$ denotes the average work of ball/cage interaction forces per revolution and $r_i$ the number of revolutions in time interval $i$ . The parameter $\\alpha$ will typically be estimated from tests and is, thus dependent on the wear rate $K_H$, which is used to estimate $\\alpha$ from the test results. Therefore, $K_H$ cannot be taken out of the sum.\n",
    "\n",
    "The following calculation is done by using First Order Reliability Analysis (FORM) for one time interval i=1.\n",
    "\n",
    "## Interactive reliability prediction\n",
    "\n",
    "The input variables of the reliability analysis are:\n",
    "- Limiting value (worn volume), $V_{\\text{lim}}$ $[m^3]$, described by: Mean Value, Coefficient of Variation and Distribution\n",
    "- Specific wear rate, $K_H$ $[Pa^{-1}=m^2/N]$ , described by: Mean Value, Coefficient of Variation and Distribution\n",
    "- Ball-cage interaction, $\\alpha$ $[N/m]$ , described by: Mean Value, Coefficient of Variation and Distribution\n",
    "- Model uncertainty, $\\Theta$ $[-]$ , described by: Mean Value, Coefficient of Variation, Lognomal distribution\n",
    "- Nominal number of revolutions, $r$ $[ \\# ]$, described by: Integer Value\n",
    "- Average number of revolution per hour $r_h$ (for plotting only) \n",
    "\n",
    "$$\n",
    "\\sum_{i\\in I} x_i^2\n",
    "$$"
   ]
  },
  {
   "cell_type": "markdown",
   "id": "c66fcc01",
   "metadata": {},
   "source": [
    "<button class=\"back-forward-button\" onclick=\"redirect('../digital_handbook/rp_mechanical/07_structural_models_equations_mechanical.html#solid_lubricant_button')\">Go to handbook</button>"
   ]
  },
  {
   "cell_type": "code",
   "execution_count": 3,
   "id": "f241b1d5-0047-4063-83ac-68b90a366dbf",
   "metadata": {
    "tags": [
     "thebe-init"
    ]
   },
   "outputs": [
    {
     "ename": "ModuleNotFoundError",
     "evalue": "No module named 'nrpmint'",
     "output_type": "error",
     "traceback": [
      "\u001b[0;31m---------------------------------------------------------------------------\u001b[0m",
      "\u001b[0;31mModuleNotFoundError\u001b[0m                       Traceback (most recent call last)",
      "Input \u001b[0;32mIn [3]\u001b[0m, in \u001b[0;36m<cell line: 1>\u001b[0;34m()\u001b[0m\n\u001b[0;32m----> 1\u001b[0m \u001b[38;5;28;01mfrom\u001b[39;00m \u001b[38;5;21;01mnrpmint\u001b[39;00m\u001b[38;5;21;01m.\u001b[39;00m\u001b[38;5;21;01mbooktools\u001b[39;00m \u001b[38;5;28;01mimport\u001b[39;00m solid_lubricant_wear\n\u001b[1;32m      3\u001b[0m \u001b[38;5;66;03m# start the web user-interface\u001b[39;00m\n\u001b[1;32m      4\u001b[0m solid_lubricant_wear\u001b[38;5;241m.\u001b[39mweb_ui()\n",
      "\u001b[0;31mModuleNotFoundError\u001b[0m: No module named 'nrpmint'"
     ]
    }
   ],
   "source": [
    "from nrpmint.booktools import solid_lubricant_wear\n",
    "\n",
    "# start the web user-interface\n",
    "solid_lubricant_wear.web_ui()"
   ]
  }
 ],
 "metadata": {
  "celltoolbar": "Tags",
  "kernelspec": {
   "display_name": "Python 3 (ipykernel)",
   "language": "python",
   "name": "python3"
  },
  "language_info": {
   "codemirror_mode": {
    "name": "ipython",
    "version": 3
   },
   "file_extension": ".py",
   "mimetype": "text/x-python",
   "name": "python",
   "nbconvert_exporter": "python",
   "pygments_lexer": "ipython3",
   "version": "3.8.10"
  }
 },
 "nbformat": 4,
 "nbformat_minor": 5
}
