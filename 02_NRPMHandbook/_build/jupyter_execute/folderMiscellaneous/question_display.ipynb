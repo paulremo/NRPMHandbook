{
 "cells": [
  {
   "cell_type": "markdown",
   "id": "856b11b4",
   "metadata": {},
   "source": [
    "# Here is a page where you can dynamically see Questions"
   ]
  },
  {
   "cell_type": "code",
   "execution_count": 1,
   "id": "49b8b1cb",
   "metadata": {},
   "outputs": [
    {
     "ename": "ModuleNotFoundError",
     "evalue": "No module named 'pandas'",
     "output_type": "error",
     "traceback": [
      "\u001b[0;31m---------------------------------------------------------------------------\u001b[0m",
      "\u001b[0;31mModuleNotFoundError\u001b[0m                       Traceback (most recent call last)",
      "Input \u001b[0;32mIn [1]\u001b[0m, in \u001b[0;36m<cell line: 1>\u001b[0;34m()\u001b[0m\n\u001b[0;32m----> 1\u001b[0m \u001b[38;5;28;01mimport\u001b[39;00m \u001b[38;5;21;01mpandas\u001b[39;00m \u001b[38;5;28;01mas\u001b[39;00m \u001b[38;5;21;01mpd\u001b[39;00m\n\u001b[1;32m      3\u001b[0m data_cols \u001b[38;5;241m=\u001b[39m [\u001b[38;5;124m\"\u001b[39m\u001b[38;5;124mNumber\u001b[39m\u001b[38;5;124m\"\u001b[39m,\u001b[38;5;124m\"\u001b[39m\u001b[38;5;124mRecommendation\u001b[39m\u001b[38;5;124m\"\u001b[39m,\u001b[38;5;124m\"\u001b[39m\u001b[38;5;124mAudit Question\u001b[39m\u001b[38;5;124m\"\u001b[39m,\u001b[38;5;124m\"\u001b[39m\u001b[38;5;124mWeight\u001b[39m\u001b[38;5;124m\"\u001b[39m,\u001b[38;5;124m\"\u001b[39m\u001b[38;5;124mLevel\u001b[39m\u001b[38;5;124m\"\u001b[39m,\u001b[38;5;124m\"\u001b[39m\u001b[38;5;124mDescription\u001b[39m\u001b[38;5;124m\"\u001b[39m,\u001b[38;5;124m\"\u001b[39m\u001b[38;5;124mGrade\u001b[39m\u001b[38;5;124m\"\u001b[39m]\n\u001b[1;32m      4\u001b[0m datas \u001b[38;5;241m=\u001b[39m pd\u001b[38;5;241m.\u001b[39mread_csv(\u001b[38;5;124m\"\u001b[39m\u001b[38;5;124mdata/manufactoring_on_board.csv\u001b[39m\u001b[38;5;124m\"\u001b[39m, header\u001b[38;5;241m=\u001b[39m\u001b[38;5;241m0\u001b[39m, names\u001b[38;5;241m=\u001b[39mdata_cols, na_filter\u001b[38;5;241m=\u001b[39m\u001b[38;5;28;01mFalse\u001b[39;00m)\n",
      "\u001b[0;31mModuleNotFoundError\u001b[0m: No module named 'pandas'"
     ]
    }
   ],
   "source": [
    "import pandas as pd\n",
    "\n",
    "data_cols = [\"Number\",\"Recommendation\",\"Audit Question\",\"Weight\",\"Level\",\"Description\",\"Grade\"]\n",
    "datas = pd.read_csv(\"data/manufactoring_on_board.csv\", header=0, names=data_cols, na_filter=False)\n",
    "\n",
    "print(datas.Level[1])\n",
    "datas"
   ]
  },
  {
   "cell_type": "code",
   "execution_count": 81,
   "id": "8e4367f4",
   "metadata": {},
   "outputs": [],
   "source": [
    "from IPython.display import Markdown as md\n",
    "\n",
    "def create_new_md(question):\n",
    "    #print(question)\n",
    "    q_id = datas.loc[datas['Audit Question'] == question].index[0]\n",
    "    print(q_id)\n",
    "    number_md = \"## Question N° \" + str(datas[\"Number\"][q_id]) + \"\\n\\n\\n\"\n",
    "    audit_q_md = \"### Audit Question : \" + str(datas[\"Audit Question\"][q_id]) + \"\\n\\n\"\n",
    "    desc_md = \"### Description : \" + str(datas[\"Description\"][q_id]) + \"\\n\\n\"\n",
    "    rec_md = \"### Recommendation : \" + str(datas[\"Recommendation\"][q_id]) + \"\\n\\n\"\n",
    "    weight_md = \"### Weight : \" + str(datas[\"Weight\"][q_id]) + \"\\n\\n\"\n",
    "    level_md = \"### Level : \" + str(datas[\"Level\"][q_id]) + \"\\n\\n\"\n",
    "    grade_md = \"### Grade : \" + str(datas[\"Grade\"][q_id]) + \"\\n\\n\"\n",
    "    \n",
    "    \n",
    "    return(number_md + audit_q_md + desc_md + rec_md + weight_md + level_md + grade_md)"
   ]
  },
  {
   "cell_type": "code",
   "execution_count": 88,
   "id": "c19fd2c8",
   "metadata": {},
   "outputs": [
    {
     "data": {
      "application/vnd.jupyter.widget-view+json": {
       "model_id": "f3b7a86c8545442583adac8d70ea33c2",
       "version_major": 2,
       "version_minor": 0
      },
      "text/plain": [
       "Dropdown(description='Question selection', options=('What process is used to collect technical events. to prod…"
      ]
     },
     "metadata": {},
     "output_type": "display_data"
    },
    {
     "name": "stdout",
     "output_type": "stream",
     "text": [
      "6\n",
      "## Question N° 22\n",
      "\n",
      "\n",
      "### Audit Question : Are the skills of final test operators systematically audited?\n",
      "\n",
      "### Description : The equivalent of an audit is done to monitor the skills of operators performing the final product test. but it is not formally defined.\n",
      "\n",
      "### Recommendation : This filter assures that the final test that forms the final verification milestone is carried out by a\n",
      "competent person and particularly a person whose skills are monitored to assure that the most\n",
      "recent requirements are taken into consideration.\n",
      "The audit assures that the operator reviews control over procedures and critical points. to achieve\n",
      "perfect confidence in execution of the final test.\n",
      "\n",
      "### Weight : 4.1\n",
      "\n",
      "### Level : 2\n",
      "\n",
      "### Grade : 4.1\n",
      "\n",
      "\n",
      "13\n",
      "## Question N° 43\n",
      "\n",
      "\n",
      "### Audit Question : How is it assured that production means are adapted to elements to be produced?\n",
      "\n",
      "### Description : Each production means is accompanied by a description of a set of parameters to be\n",
      "verified before use on a subassembly. These are formally identified in a document that has not been validated by an authority independent from the operating entity.\n",
      "\n",
      "### Recommendation : The description of actions to be carried out during application of a production tool on a subassembly must be sufficiently explicit to not allow interpretation by the operator that would result in accidental use of inappropriate means.\n",
      "It must be assured that the reliability of subassemblies will not be reduced by the use of an unsuitable tool.\n",
      "\n",
      "### Weight : 7.2\n",
      "\n",
      "### Level : 3\n",
      "\n",
      "### Grade : 14.4\n",
      "\n",
      "\n",
      "3\n",
      "## Question N° 18\n",
      "\n",
      "\n",
      "### Audit Question : Does corrective maintenance take place as soon as an anomaly appears on production means or produced subassemblies?\n",
      "\n",
      "### Description : Corrective actions are made directly where the anomaly was observed. although a corrective maintenance plan was not set up.\n",
      "\n",
      "### Recommendation : Maintenance procedures related to corrective actions in production must include:\n",
      "- Effective processing of complaints and subassembly nonconformity reports.\n",
      "- The search for causes of nonconformity related to the process and recording of the results of\n",
      "this search.\n",
      "- Determination of corrective actions necessary to eliminate causes of nonconformity.\n",
      "- Application of control means to assure that the corrective action is implemented and that it\n",
      "produces the required effect.\n",
      "\n",
      "### Weight : 6.9\n",
      "\n",
      "### Level : 2\n",
      "\n",
      "### Grade : 6.9\n",
      "\n",
      "\n"
     ]
    }
   ],
   "source": [
    "from ipywidgets import interact, interactive, fixed, interact_manual\n",
    "from ipywidgets import GridspecLayout\n",
    "import ipywidgets as widgets\n",
    "\n",
    "current_question_id = 0\n",
    "q_txt = \"\"\n",
    "\n",
    "all_questions = datas[\"Audit Question\"]\n",
    "#print(all_questions)\n",
    "\n",
    "\n",
    "def response(change):\n",
    "    #print(change.new)\n",
    "    q_txt = create_new_md(change.new)\n",
    "    print(q_txt)\n",
    "\n",
    "question_selection = widgets.Dropdown(\n",
    "    options=all_questions,\n",
    "    value=all_questions[0],\n",
    "    description='Question selection',\n",
    "    disabled=False,\n",
    ")\n",
    "question_selection.observe(response, names=\"value\")\n",
    "question_selection"
   ]
  },
  {
   "cell_type": "code",
   "execution_count": 89,
   "id": "09670a76",
   "metadata": {},
   "outputs": [
    {
     "name": "stdout",
     "output_type": "stream",
     "text": [
      "\n"
     ]
    },
    {
     "data": {
      "text/markdown": [],
      "text/plain": [
       "<IPython.core.display.Markdown object>"
      ]
     },
     "execution_count": 89,
     "metadata": {},
     "output_type": "execute_result"
    }
   ],
   "source": [
    "print(q_txt)\n",
    "md(q_txt)"
   ]
  },
  {
   "cell_type": "markdown",
   "id": "2bb5535a",
   "metadata": {},
   "source": [
    "<!DOCTYPE html>\n",
    "<html>\n",
    "<body>\n",
    "<h3>onClick event on JavaScript Button to display text</h3>\n",
    "<p>JavaScript element triggers an onClick function</p>\n",
    "<button onclick=\"clickText()\">Click to show text</button>\n",
    "<p id=\"btn\"></p>\n",
    "<script>\n",
    "function clickText() {\n",
    "document.getElementById(\"btn\").innerHTML = \"You have clicked on JavaScript button\";\n",
    "}\n",
    "</script>\n",
    "</body>\n",
    "</html>"
   ]
  },
  {
   "cell_type": "code",
   "execution_count": null,
   "id": "919cac84",
   "metadata": {},
   "outputs": [],
   "source": []
  }
 ],
 "metadata": {
  "kernelspec": {
   "display_name": "Python 3 (ipykernel)",
   "language": "python",
   "name": "python3"
  },
  "language_info": {
   "codemirror_mode": {
    "name": "ipython",
    "version": 3
   },
   "file_extension": ".py",
   "mimetype": "text/x-python",
   "name": "python",
   "nbconvert_exporter": "python",
   "pygments_lexer": "ipython3",
   "version": "3.8.10"
  }
 },
 "nbformat": 4,
 "nbformat_minor": 5
}