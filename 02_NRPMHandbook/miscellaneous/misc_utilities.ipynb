{
 "cells": [
  {
   "cell_type": "code",
   "execution_count": 9,
   "metadata": {},
   "outputs": [
    {
     "data": {
      "text/html": [
       "<div>\n",
       "<style scoped>\n",
       "    .dataframe tbody tr th:only-of-type {\n",
       "        vertical-align: middle;\n",
       "    }\n",
       "\n",
       "    .dataframe tbody tr th {\n",
       "        vertical-align: top;\n",
       "    }\n",
       "\n",
       "    .dataframe thead th {\n",
       "        text-align: right;\n",
       "    }\n",
       "</style>\n",
       "<table border=\"1\" class=\"dataframe\">\n",
       "  <thead>\n",
       "    <tr style=\"text-align: right;\">\n",
       "      <th></th>\n",
       "      <th>REF</th>\n",
       "      <th>SUBSYSTEM</th>\n",
       "      <th>UNIT / ITEM</th>\n",
       "      <th>RELIABILITY DATA</th>\n",
       "    </tr>\n",
       "  </thead>\n",
       "  <tbody>\n",
       "    <tr>\n",
       "      <th>0</th>\n",
       "      <td>RF - Radio Frequency</td>\n",
       "      <td>RF - Radio Frequency</td>\n",
       "      <td>RF - Radio Frequency</td>\n",
       "      <td>RF - Radio Frequency</td>\n",
       "    </tr>\n",
       "    <tr>\n",
       "      <th>1</th>\n",
       "      <td>STD_001</td>\n",
       "      <td>PAYLOAD</td>\n",
       "      <td>TWTA, Single MPM</td>\n",
       "      <td>Constant failure rate</td>\n",
       "    </tr>\n",
       "    <tr>\n",
       "      <th>2</th>\n",
       "      <td>STD_002</td>\n",
       "      <td>PAYLOAD</td>\n",
       "      <td>TWTA, Double MPM</td>\n",
       "      <td>Constant failure rate</td>\n",
       "    </tr>\n",
       "    <tr>\n",
       "      <th>3</th>\n",
       "      <td>PWR - Power</td>\n",
       "      <td>PWR - Power</td>\n",
       "      <td>PWR - Power</td>\n",
       "      <td>PWR - Power</td>\n",
       "    </tr>\n",
       "    <tr>\n",
       "      <th>4</th>\n",
       "      <td>STD_003</td>\n",
       "      <td>POWER</td>\n",
       "      <td>BATTERY CELL GEO</td>\n",
       "      <td>Constant failure rate</td>\n",
       "    </tr>\n",
       "    <tr>\n",
       "      <th>5</th>\n",
       "      <td>STD_004</td>\n",
       "      <td>POWER</td>\n",
       "      <td>BATTERY CELL LEO</td>\n",
       "      <td>Constant failure rate</td>\n",
       "    </tr>\n",
       "    <tr>\n",
       "      <th>6</th>\n",
       "      <td>STD_005</td>\n",
       "      <td>POWER</td>\n",
       "      <td>SOLAR ARRAY CELL Si</td>\n",
       "      <td>Constant failure rate</td>\n",
       "    </tr>\n",
       "    <tr>\n",
       "      <th>7</th>\n",
       "      <td>STD_006</td>\n",
       "      <td>POWER</td>\n",
       "      <td>SOLAR ARRAY CELL GaAs</td>\n",
       "      <td>Constant failure rate</td>\n",
       "    </tr>\n",
       "    <tr>\n",
       "      <th>8</th>\n",
       "      <td>STD_007</td>\n",
       "      <td>POWER</td>\n",
       "      <td>SADM (Solar Array drive Mechanism) GEO</td>\n",
       "      <td>Constant failure rate</td>\n",
       "    </tr>\n",
       "    <tr>\n",
       "      <th>9</th>\n",
       "      <td>STD_008</td>\n",
       "      <td>POWER</td>\n",
       "      <td>SADM (Solar Array drive Mechanism) LEO</td>\n",
       "      <td>Constant failure rate</td>\n",
       "    </tr>\n",
       "    <tr>\n",
       "      <th>10</th>\n",
       "      <td>PROP - Propulsion</td>\n",
       "      <td>PROP - Propulsion</td>\n",
       "      <td>PROP - Propulsion</td>\n",
       "      <td>PROP - Propulsion</td>\n",
       "    </tr>\n",
       "    <tr>\n",
       "      <th>11</th>\n",
       "      <td>STD_009</td>\n",
       "      <td>PROPULSION</td>\n",
       "      <td>THRUSTER</td>\n",
       "      <td>Constant failure rate</td>\n",
       "    </tr>\n",
       "    <tr>\n",
       "      <th>12</th>\n",
       "      <td>STD_010</td>\n",
       "      <td>PROPULSION</td>\n",
       "      <td>TANK TUBING</td>\n",
       "      <td>probability of failure</td>\n",
       "    </tr>\n",
       "    <tr>\n",
       "      <th>13</th>\n",
       "      <td>AOCS - Attitude and Orbit Control System</td>\n",
       "      <td>AOCS - Attitude and Orbit Control System</td>\n",
       "      <td>AOCS - Attitude and Orbit Control System</td>\n",
       "      <td>AOCS - Attitude and Orbit Control System</td>\n",
       "    </tr>\n",
       "    <tr>\n",
       "      <th>14</th>\n",
       "      <td>STD_011</td>\n",
       "      <td>AOCS</td>\n",
       "      <td>RW (Reaction Wheel) GEO</td>\n",
       "      <td>Constant failure rate</td>\n",
       "    </tr>\n",
       "    <tr>\n",
       "      <th>15</th>\n",
       "      <td>STD_012</td>\n",
       "      <td>AOCS</td>\n",
       "      <td>RW (Reaction Wheel) LEO</td>\n",
       "      <td>Constant failure rate</td>\n",
       "    </tr>\n",
       "    <tr>\n",
       "      <th>16</th>\n",
       "      <td>DEP - Deployment</td>\n",
       "      <td>DEP - Deployment</td>\n",
       "      <td>DEP - Deployment</td>\n",
       "      <td>DEP - Deployment</td>\n",
       "    </tr>\n",
       "    <tr>\n",
       "      <th>17</th>\n",
       "      <td>STD_013</td>\n",
       "      <td>DEPLOYMENT</td>\n",
       "      <td>DEPLOYMENT DEVICE  Antenna, boom</td>\n",
       "      <td>Probability of failure</td>\n",
       "    </tr>\n",
       "    <tr>\n",
       "      <th>18</th>\n",
       "      <td>STD_014</td>\n",
       "      <td>DEPLOYMENT</td>\n",
       "      <td>DEPLOYMENT DEVICE  Solar Array</td>\n",
       "      <td>Probability of failure</td>\n",
       "    </tr>\n",
       "  </tbody>\n",
       "</table>\n",
       "</div>"
      ],
      "text/plain": [
       "                                         REF  \\\n",
       "0                       RF - Radio Frequency   \n",
       "1                                    STD_001   \n",
       "2                                    STD_002   \n",
       "3                                PWR - Power   \n",
       "4                                    STD_003   \n",
       "5                                    STD_004   \n",
       "6                                    STD_005   \n",
       "7                                    STD_006   \n",
       "8                                    STD_007   \n",
       "9                                    STD_008   \n",
       "10                         PROP - Propulsion   \n",
       "11                                   STD_009   \n",
       "12                                   STD_010   \n",
       "13  AOCS - Attitude and Orbit Control System   \n",
       "14                                   STD_011   \n",
       "15                                   STD_012   \n",
       "16                          DEP - Deployment   \n",
       "17                                   STD_013   \n",
       "18                                   STD_014   \n",
       "\n",
       "                                   SUBSYSTEM  \\\n",
       "0                       RF - Radio Frequency   \n",
       "1                                    PAYLOAD   \n",
       "2                                    PAYLOAD   \n",
       "3                                PWR - Power   \n",
       "4                                      POWER   \n",
       "5                                      POWER   \n",
       "6                                      POWER   \n",
       "7                                      POWER   \n",
       "8                                      POWER   \n",
       "9                                      POWER   \n",
       "10                         PROP - Propulsion   \n",
       "11                                PROPULSION   \n",
       "12                                PROPULSION   \n",
       "13  AOCS - Attitude and Orbit Control System   \n",
       "14                                      AOCS   \n",
       "15                                      AOCS   \n",
       "16                          DEP - Deployment   \n",
       "17                                DEPLOYMENT   \n",
       "18                                DEPLOYMENT   \n",
       "\n",
       "                                 UNIT / ITEM  \\\n",
       "0                       RF - Radio Frequency   \n",
       "1                           TWTA, Single MPM   \n",
       "2                           TWTA, Double MPM   \n",
       "3                                PWR - Power   \n",
       "4                           BATTERY CELL GEO   \n",
       "5                           BATTERY CELL LEO   \n",
       "6                        SOLAR ARRAY CELL Si   \n",
       "7                      SOLAR ARRAY CELL GaAs   \n",
       "8     SADM (Solar Array drive Mechanism) GEO   \n",
       "9     SADM (Solar Array drive Mechanism) LEO   \n",
       "10                         PROP - Propulsion   \n",
       "11                                  THRUSTER   \n",
       "12                               TANK TUBING   \n",
       "13  AOCS - Attitude and Orbit Control System   \n",
       "14                   RW (Reaction Wheel) GEO   \n",
       "15                   RW (Reaction Wheel) LEO   \n",
       "16                          DEP - Deployment   \n",
       "17          DEPLOYMENT DEVICE  Antenna, boom   \n",
       "18            DEPLOYMENT DEVICE  Solar Array   \n",
       "\n",
       "                            RELIABILITY DATA  \n",
       "0                       RF - Radio Frequency  \n",
       "1                      Constant failure rate  \n",
       "2                      Constant failure rate  \n",
       "3                                PWR - Power  \n",
       "4                      Constant failure rate  \n",
       "5                      Constant failure rate  \n",
       "6                      Constant failure rate  \n",
       "7                      Constant failure rate  \n",
       "8                      Constant failure rate  \n",
       "9                      Constant failure rate  \n",
       "10                         PROP - Propulsion  \n",
       "11                     Constant failure rate  \n",
       "12                    probability of failure  \n",
       "13  AOCS - Attitude and Orbit Control System  \n",
       "14                     Constant failure rate  \n",
       "15                     Constant failure rate  \n",
       "16                          DEP - Deployment  \n",
       "17                    Probability of failure  \n",
       "18                    Probability of failure  "
      ]
     },
     "metadata": {
      "scrapbook": {
       "mime_prefix": "",
       "name": "table4_1"
      }
     },
     "output_type": "display_data"
    }
   ],
   "source": [
    "import pandas as pd\n",
    "from myst_nb import glue\n",
    "\n",
    "df1 = pd.read_html(\"table4_1.html\")\n",
    "datas = pd.DataFrame(df1[0])\n",
    "#print(datas[:3])\n",
    "#print(datas[3:10])\n",
    "#print(datas[10:13])\n",
    "#print(datas[13:16])\n",
    "#print(datas[16:])\n",
    "glue(\"table4_1\",datas)"
   ]
  },
  {
   "cell_type": "code",
   "execution_count": 10,
   "metadata": {},
   "outputs": [
    {
     "data": {
      "application/vnd.plotly.v1+json": {
       "config": {
        "plotlyServerURL": "https://plot.ly"
       },
       "data": [
        {
         "cells": {
          "align": "left",
          "fill": {
           "color": "lavender"
          },
          "values": [
           [
            "RF - Radio Frequency",
            "STD_001",
            "STD_002",
            "PWR - Power",
            "STD_003",
            "STD_004",
            "STD_005",
            "STD_006",
            "STD_007",
            "STD_008",
            "PROP - Propulsion",
            "STD_009",
            "STD_010",
            "AOCS - Attitude and Orbit Control System",
            "STD_011",
            "STD_012",
            "DEP - Deployment",
            "STD_013",
            "STD_014"
           ],
           [
            "RF - Radio Frequency",
            "PAYLOAD",
            "PAYLOAD",
            "PWR - Power",
            "POWER",
            "POWER",
            "POWER",
            "POWER",
            "POWER",
            "POWER",
            "PROP - Propulsion",
            "PROPULSION",
            "PROPULSION",
            "AOCS - Attitude and Orbit Control System",
            "AOCS",
            "AOCS",
            "DEP - Deployment",
            "DEPLOYMENT",
            "DEPLOYMENT"
           ],
           [
            "RF - Radio Frequency",
            "TWTA, Single MPM",
            "TWTA, Double MPM",
            "PWR - Power",
            "BATTERY CELL GEO",
            "BATTERY CELL LEO",
            "SOLAR ARRAY CELL Si",
            "SOLAR ARRAY CELL GaAs",
            "SADM (Solar Array drive Mechanism) GEO",
            "SADM (Solar Array drive Mechanism) LEO",
            "PROP - Propulsion",
            "THRUSTER",
            "TANK TUBING",
            "AOCS - Attitude and Orbit Control System",
            "RW (Reaction Wheel) GEO",
            "RW (Reaction Wheel) LEO",
            "DEP - Deployment",
            "DEPLOYMENT DEVICE  Antenna, boom",
            "DEPLOYMENT DEVICE  Solar Array"
           ],
           [
            "RF - Radio Frequency",
            "Constant failure rate",
            "Constant failure rate",
            "PWR - Power",
            "Constant failure rate",
            "Constant failure rate",
            "Constant failure rate",
            "Constant failure rate",
            "Constant failure rate",
            "Constant failure rate",
            "PROP - Propulsion",
            "Constant failure rate",
            "probability of failure",
            "AOCS - Attitude and Orbit Control System",
            "Constant failure rate",
            "Constant failure rate",
            "DEP - Deployment",
            "Probability of failure",
            "Probability of failure"
           ]
          ]
         },
         "header": {
          "align": "left",
          "fill": {
           "color": "paleturquoise"
          },
          "values": [
           "REF",
           "SUBSYSTEM",
           "UNIT / ITEM",
           "RELIABILITY DATA"
          ]
         },
         "type": "table"
        }
       ],
       "layout": {
        "template": {
         "data": {
          "bar": [
           {
            "error_x": {
             "color": "#2a3f5f"
            },
            "error_y": {
             "color": "#2a3f5f"
            },
            "marker": {
             "line": {
              "color": "#E5ECF6",
              "width": 0.5
             },
             "pattern": {
              "fillmode": "overlay",
              "size": 10,
              "solidity": 0.2
             }
            },
            "type": "bar"
           }
          ],
          "barpolar": [
           {
            "marker": {
             "line": {
              "color": "#E5ECF6",
              "width": 0.5
             },
             "pattern": {
              "fillmode": "overlay",
              "size": 10,
              "solidity": 0.2
             }
            },
            "type": "barpolar"
           }
          ],
          "carpet": [
           {
            "aaxis": {
             "endlinecolor": "#2a3f5f",
             "gridcolor": "white",
             "linecolor": "white",
             "minorgridcolor": "white",
             "startlinecolor": "#2a3f5f"
            },
            "baxis": {
             "endlinecolor": "#2a3f5f",
             "gridcolor": "white",
             "linecolor": "white",
             "minorgridcolor": "white",
             "startlinecolor": "#2a3f5f"
            },
            "type": "carpet"
           }
          ],
          "choropleth": [
           {
            "colorbar": {
             "outlinewidth": 0,
             "ticks": ""
            },
            "type": "choropleth"
           }
          ],
          "contour": [
           {
            "colorbar": {
             "outlinewidth": 0,
             "ticks": ""
            },
            "colorscale": [
             [
              0,
              "#0d0887"
             ],
             [
              0.1111111111111111,
              "#46039f"
             ],
             [
              0.2222222222222222,
              "#7201a8"
             ],
             [
              0.3333333333333333,
              "#9c179e"
             ],
             [
              0.4444444444444444,
              "#bd3786"
             ],
             [
              0.5555555555555556,
              "#d8576b"
             ],
             [
              0.6666666666666666,
              "#ed7953"
             ],
             [
              0.7777777777777778,
              "#fb9f3a"
             ],
             [
              0.8888888888888888,
              "#fdca26"
             ],
             [
              1,
              "#f0f921"
             ]
            ],
            "type": "contour"
           }
          ],
          "contourcarpet": [
           {
            "colorbar": {
             "outlinewidth": 0,
             "ticks": ""
            },
            "type": "contourcarpet"
           }
          ],
          "heatmap": [
           {
            "colorbar": {
             "outlinewidth": 0,
             "ticks": ""
            },
            "colorscale": [
             [
              0,
              "#0d0887"
             ],
             [
              0.1111111111111111,
              "#46039f"
             ],
             [
              0.2222222222222222,
              "#7201a8"
             ],
             [
              0.3333333333333333,
              "#9c179e"
             ],
             [
              0.4444444444444444,
              "#bd3786"
             ],
             [
              0.5555555555555556,
              "#d8576b"
             ],
             [
              0.6666666666666666,
              "#ed7953"
             ],
             [
              0.7777777777777778,
              "#fb9f3a"
             ],
             [
              0.8888888888888888,
              "#fdca26"
             ],
             [
              1,
              "#f0f921"
             ]
            ],
            "type": "heatmap"
           }
          ],
          "heatmapgl": [
           {
            "colorbar": {
             "outlinewidth": 0,
             "ticks": ""
            },
            "colorscale": [
             [
              0,
              "#0d0887"
             ],
             [
              0.1111111111111111,
              "#46039f"
             ],
             [
              0.2222222222222222,
              "#7201a8"
             ],
             [
              0.3333333333333333,
              "#9c179e"
             ],
             [
              0.4444444444444444,
              "#bd3786"
             ],
             [
              0.5555555555555556,
              "#d8576b"
             ],
             [
              0.6666666666666666,
              "#ed7953"
             ],
             [
              0.7777777777777778,
              "#fb9f3a"
             ],
             [
              0.8888888888888888,
              "#fdca26"
             ],
             [
              1,
              "#f0f921"
             ]
            ],
            "type": "heatmapgl"
           }
          ],
          "histogram": [
           {
            "marker": {
             "pattern": {
              "fillmode": "overlay",
              "size": 10,
              "solidity": 0.2
             }
            },
            "type": "histogram"
           }
          ],
          "histogram2d": [
           {
            "colorbar": {
             "outlinewidth": 0,
             "ticks": ""
            },
            "colorscale": [
             [
              0,
              "#0d0887"
             ],
             [
              0.1111111111111111,
              "#46039f"
             ],
             [
              0.2222222222222222,
              "#7201a8"
             ],
             [
              0.3333333333333333,
              "#9c179e"
             ],
             [
              0.4444444444444444,
              "#bd3786"
             ],
             [
              0.5555555555555556,
              "#d8576b"
             ],
             [
              0.6666666666666666,
              "#ed7953"
             ],
             [
              0.7777777777777778,
              "#fb9f3a"
             ],
             [
              0.8888888888888888,
              "#fdca26"
             ],
             [
              1,
              "#f0f921"
             ]
            ],
            "type": "histogram2d"
           }
          ],
          "histogram2dcontour": [
           {
            "colorbar": {
             "outlinewidth": 0,
             "ticks": ""
            },
            "colorscale": [
             [
              0,
              "#0d0887"
             ],
             [
              0.1111111111111111,
              "#46039f"
             ],
             [
              0.2222222222222222,
              "#7201a8"
             ],
             [
              0.3333333333333333,
              "#9c179e"
             ],
             [
              0.4444444444444444,
              "#bd3786"
             ],
             [
              0.5555555555555556,
              "#d8576b"
             ],
             [
              0.6666666666666666,
              "#ed7953"
             ],
             [
              0.7777777777777778,
              "#fb9f3a"
             ],
             [
              0.8888888888888888,
              "#fdca26"
             ],
             [
              1,
              "#f0f921"
             ]
            ],
            "type": "histogram2dcontour"
           }
          ],
          "mesh3d": [
           {
            "colorbar": {
             "outlinewidth": 0,
             "ticks": ""
            },
            "type": "mesh3d"
           }
          ],
          "parcoords": [
           {
            "line": {
             "colorbar": {
              "outlinewidth": 0,
              "ticks": ""
             }
            },
            "type": "parcoords"
           }
          ],
          "pie": [
           {
            "automargin": true,
            "type": "pie"
           }
          ],
          "scatter": [
           {
            "fillpattern": {
             "fillmode": "overlay",
             "size": 10,
             "solidity": 0.2
            },
            "type": "scatter"
           }
          ],
          "scatter3d": [
           {
            "line": {
             "colorbar": {
              "outlinewidth": 0,
              "ticks": ""
             }
            },
            "marker": {
             "colorbar": {
              "outlinewidth": 0,
              "ticks": ""
             }
            },
            "type": "scatter3d"
           }
          ],
          "scattercarpet": [
           {
            "marker": {
             "colorbar": {
              "outlinewidth": 0,
              "ticks": ""
             }
            },
            "type": "scattercarpet"
           }
          ],
          "scattergeo": [
           {
            "marker": {
             "colorbar": {
              "outlinewidth": 0,
              "ticks": ""
             }
            },
            "type": "scattergeo"
           }
          ],
          "scattergl": [
           {
            "marker": {
             "colorbar": {
              "outlinewidth": 0,
              "ticks": ""
             }
            },
            "type": "scattergl"
           }
          ],
          "scattermapbox": [
           {
            "marker": {
             "colorbar": {
              "outlinewidth": 0,
              "ticks": ""
             }
            },
            "type": "scattermapbox"
           }
          ],
          "scatterpolar": [
           {
            "marker": {
             "colorbar": {
              "outlinewidth": 0,
              "ticks": ""
             }
            },
            "type": "scatterpolar"
           }
          ],
          "scatterpolargl": [
           {
            "marker": {
             "colorbar": {
              "outlinewidth": 0,
              "ticks": ""
             }
            },
            "type": "scatterpolargl"
           }
          ],
          "scatterternary": [
           {
            "marker": {
             "colorbar": {
              "outlinewidth": 0,
              "ticks": ""
             }
            },
            "type": "scatterternary"
           }
          ],
          "surface": [
           {
            "colorbar": {
             "outlinewidth": 0,
             "ticks": ""
            },
            "colorscale": [
             [
              0,
              "#0d0887"
             ],
             [
              0.1111111111111111,
              "#46039f"
             ],
             [
              0.2222222222222222,
              "#7201a8"
             ],
             [
              0.3333333333333333,
              "#9c179e"
             ],
             [
              0.4444444444444444,
              "#bd3786"
             ],
             [
              0.5555555555555556,
              "#d8576b"
             ],
             [
              0.6666666666666666,
              "#ed7953"
             ],
             [
              0.7777777777777778,
              "#fb9f3a"
             ],
             [
              0.8888888888888888,
              "#fdca26"
             ],
             [
              1,
              "#f0f921"
             ]
            ],
            "type": "surface"
           }
          ],
          "table": [
           {
            "cells": {
             "fill": {
              "color": "#EBF0F8"
             },
             "line": {
              "color": "white"
             }
            },
            "header": {
             "fill": {
              "color": "#C8D4E3"
             },
             "line": {
              "color": "white"
             }
            },
            "type": "table"
           }
          ]
         },
         "layout": {
          "annotationdefaults": {
           "arrowcolor": "#2a3f5f",
           "arrowhead": 0,
           "arrowwidth": 1
          },
          "autotypenumbers": "strict",
          "coloraxis": {
           "colorbar": {
            "outlinewidth": 0,
            "ticks": ""
           }
          },
          "colorscale": {
           "diverging": [
            [
             0,
             "#8e0152"
            ],
            [
             0.1,
             "#c51b7d"
            ],
            [
             0.2,
             "#de77ae"
            ],
            [
             0.3,
             "#f1b6da"
            ],
            [
             0.4,
             "#fde0ef"
            ],
            [
             0.5,
             "#f7f7f7"
            ],
            [
             0.6,
             "#e6f5d0"
            ],
            [
             0.7,
             "#b8e186"
            ],
            [
             0.8,
             "#7fbc41"
            ],
            [
             0.9,
             "#4d9221"
            ],
            [
             1,
             "#276419"
            ]
           ],
           "sequential": [
            [
             0,
             "#0d0887"
            ],
            [
             0.1111111111111111,
             "#46039f"
            ],
            [
             0.2222222222222222,
             "#7201a8"
            ],
            [
             0.3333333333333333,
             "#9c179e"
            ],
            [
             0.4444444444444444,
             "#bd3786"
            ],
            [
             0.5555555555555556,
             "#d8576b"
            ],
            [
             0.6666666666666666,
             "#ed7953"
            ],
            [
             0.7777777777777778,
             "#fb9f3a"
            ],
            [
             0.8888888888888888,
             "#fdca26"
            ],
            [
             1,
             "#f0f921"
            ]
           ],
           "sequentialminus": [
            [
             0,
             "#0d0887"
            ],
            [
             0.1111111111111111,
             "#46039f"
            ],
            [
             0.2222222222222222,
             "#7201a8"
            ],
            [
             0.3333333333333333,
             "#9c179e"
            ],
            [
             0.4444444444444444,
             "#bd3786"
            ],
            [
             0.5555555555555556,
             "#d8576b"
            ],
            [
             0.6666666666666666,
             "#ed7953"
            ],
            [
             0.7777777777777778,
             "#fb9f3a"
            ],
            [
             0.8888888888888888,
             "#fdca26"
            ],
            [
             1,
             "#f0f921"
            ]
           ]
          },
          "colorway": [
           "#636efa",
           "#EF553B",
           "#00cc96",
           "#ab63fa",
           "#FFA15A",
           "#19d3f3",
           "#FF6692",
           "#B6E880",
           "#FF97FF",
           "#FECB52"
          ],
          "font": {
           "color": "#2a3f5f"
          },
          "geo": {
           "bgcolor": "white",
           "lakecolor": "white",
           "landcolor": "#E5ECF6",
           "showlakes": true,
           "showland": true,
           "subunitcolor": "white"
          },
          "hoverlabel": {
           "align": "left"
          },
          "hovermode": "closest",
          "mapbox": {
           "style": "light"
          },
          "paper_bgcolor": "white",
          "plot_bgcolor": "#E5ECF6",
          "polar": {
           "angularaxis": {
            "gridcolor": "white",
            "linecolor": "white",
            "ticks": ""
           },
           "bgcolor": "#E5ECF6",
           "radialaxis": {
            "gridcolor": "white",
            "linecolor": "white",
            "ticks": ""
           }
          },
          "scene": {
           "xaxis": {
            "backgroundcolor": "#E5ECF6",
            "gridcolor": "white",
            "gridwidth": 2,
            "linecolor": "white",
            "showbackground": true,
            "ticks": "",
            "zerolinecolor": "white"
           },
           "yaxis": {
            "backgroundcolor": "#E5ECF6",
            "gridcolor": "white",
            "gridwidth": 2,
            "linecolor": "white",
            "showbackground": true,
            "ticks": "",
            "zerolinecolor": "white"
           },
           "zaxis": {
            "backgroundcolor": "#E5ECF6",
            "gridcolor": "white",
            "gridwidth": 2,
            "linecolor": "white",
            "showbackground": true,
            "ticks": "",
            "zerolinecolor": "white"
           }
          },
          "shapedefaults": {
           "line": {
            "color": "#2a3f5f"
           }
          },
          "ternary": {
           "aaxis": {
            "gridcolor": "white",
            "linecolor": "white",
            "ticks": ""
           },
           "baxis": {
            "gridcolor": "white",
            "linecolor": "white",
            "ticks": ""
           },
           "bgcolor": "#E5ECF6",
           "caxis": {
            "gridcolor": "white",
            "linecolor": "white",
            "ticks": ""
           }
          },
          "title": {
           "x": 0.05
          },
          "xaxis": {
           "automargin": true,
           "gridcolor": "white",
           "linecolor": "white",
           "ticks": "",
           "title": {
            "standoff": 15
           },
           "zerolinecolor": "white",
           "zerolinewidth": 2
          },
          "yaxis": {
           "automargin": true,
           "gridcolor": "white",
           "linecolor": "white",
           "ticks": "",
           "title": {
            "standoff": 15
           },
           "zerolinecolor": "white",
           "zerolinewidth": 2
          }
         }
        }
       }
      },
      "text/html": [
       "<div>                            <div id=\"a882098c-da40-40a5-8a47-5fdb9cec8d0e\" class=\"plotly-graph-div\" style=\"height:525px; width:100%;\"></div>            <script type=\"text/javascript\">                require([\"plotly\"], function(Plotly) {                    window.PLOTLYENV=window.PLOTLYENV || {};                                    if (document.getElementById(\"a882098c-da40-40a5-8a47-5fdb9cec8d0e\")) {                    Plotly.newPlot(                        \"a882098c-da40-40a5-8a47-5fdb9cec8d0e\",                        [{\"cells\":{\"align\":\"left\",\"fill\":{\"color\":\"lavender\"},\"values\":[[\"RF - Radio Frequency\",\"STD_001\",\"STD_002\",\"PWR - Power\",\"STD_003\",\"STD_004\",\"STD_005\",\"STD_006\",\"STD_007\",\"STD_008\",\"PROP - Propulsion\",\"STD_009\",\"STD_010\",\"AOCS - Attitude and Orbit Control System\",\"STD_011\",\"STD_012\",\"DEP - Deployment\",\"STD_013\",\"STD_014\"],[\"RF - Radio Frequency\",\"PAYLOAD\",\"PAYLOAD\",\"PWR - Power\",\"POWER\",\"POWER\",\"POWER\",\"POWER\",\"POWER\",\"POWER\",\"PROP - Propulsion\",\"PROPULSION\",\"PROPULSION\",\"AOCS - Attitude and Orbit Control System\",\"AOCS\",\"AOCS\",\"DEP - Deployment\",\"DEPLOYMENT\",\"DEPLOYMENT\"],[\"RF - Radio Frequency\",\"TWTA, Single MPM\",\"TWTA, Double MPM\",\"PWR - Power\",\"BATTERY CELL GEO\",\"BATTERY CELL LEO\",\"SOLAR ARRAY CELL Si\",\"SOLAR ARRAY CELL GaAs\",\"SADM (Solar Array drive Mechanism) GEO\",\"SADM (Solar Array drive Mechanism) LEO\",\"PROP - Propulsion\",\"THRUSTER\",\"TANK TUBING\",\"AOCS - Attitude and Orbit Control System\",\"RW (Reaction Wheel) GEO\",\"RW (Reaction Wheel) LEO\",\"DEP - Deployment\",\"DEPLOYMENT DEVICE  Antenna, boom\",\"DEPLOYMENT DEVICE  Solar Array\"],[\"RF - Radio Frequency\",\"Constant failure rate\",\"Constant failure rate\",\"PWR - Power\",\"Constant failure rate\",\"Constant failure rate\",\"Constant failure rate\",\"Constant failure rate\",\"Constant failure rate\",\"Constant failure rate\",\"PROP - Propulsion\",\"Constant failure rate\",\"probability of failure\",\"AOCS - Attitude and Orbit Control System\",\"Constant failure rate\",\"Constant failure rate\",\"DEP - Deployment\",\"Probability of failure\",\"Probability of failure\"]]},\"header\":{\"align\":\"left\",\"fill\":{\"color\":\"paleturquoise\"},\"values\":[\"REF\",\"SUBSYSTEM\",\"UNIT / ITEM\",\"RELIABILITY DATA\"]},\"type\":\"table\"}],                        {\"template\":{\"data\":{\"histogram2dcontour\":[{\"type\":\"histogram2dcontour\",\"colorbar\":{\"outlinewidth\":0,\"ticks\":\"\"},\"colorscale\":[[0.0,\"#0d0887\"],[0.1111111111111111,\"#46039f\"],[0.2222222222222222,\"#7201a8\"],[0.3333333333333333,\"#9c179e\"],[0.4444444444444444,\"#bd3786\"],[0.5555555555555556,\"#d8576b\"],[0.6666666666666666,\"#ed7953\"],[0.7777777777777778,\"#fb9f3a\"],[0.8888888888888888,\"#fdca26\"],[1.0,\"#f0f921\"]]}],\"choropleth\":[{\"type\":\"choropleth\",\"colorbar\":{\"outlinewidth\":0,\"ticks\":\"\"}}],\"histogram2d\":[{\"type\":\"histogram2d\",\"colorbar\":{\"outlinewidth\":0,\"ticks\":\"\"},\"colorscale\":[[0.0,\"#0d0887\"],[0.1111111111111111,\"#46039f\"],[0.2222222222222222,\"#7201a8\"],[0.3333333333333333,\"#9c179e\"],[0.4444444444444444,\"#bd3786\"],[0.5555555555555556,\"#d8576b\"],[0.6666666666666666,\"#ed7953\"],[0.7777777777777778,\"#fb9f3a\"],[0.8888888888888888,\"#fdca26\"],[1.0,\"#f0f921\"]]}],\"heatmap\":[{\"type\":\"heatmap\",\"colorbar\":{\"outlinewidth\":0,\"ticks\":\"\"},\"colorscale\":[[0.0,\"#0d0887\"],[0.1111111111111111,\"#46039f\"],[0.2222222222222222,\"#7201a8\"],[0.3333333333333333,\"#9c179e\"],[0.4444444444444444,\"#bd3786\"],[0.5555555555555556,\"#d8576b\"],[0.6666666666666666,\"#ed7953\"],[0.7777777777777778,\"#fb9f3a\"],[0.8888888888888888,\"#fdca26\"],[1.0,\"#f0f921\"]]}],\"heatmapgl\":[{\"type\":\"heatmapgl\",\"colorbar\":{\"outlinewidth\":0,\"ticks\":\"\"},\"colorscale\":[[0.0,\"#0d0887\"],[0.1111111111111111,\"#46039f\"],[0.2222222222222222,\"#7201a8\"],[0.3333333333333333,\"#9c179e\"],[0.4444444444444444,\"#bd3786\"],[0.5555555555555556,\"#d8576b\"],[0.6666666666666666,\"#ed7953\"],[0.7777777777777778,\"#fb9f3a\"],[0.8888888888888888,\"#fdca26\"],[1.0,\"#f0f921\"]]}],\"contourcarpet\":[{\"type\":\"contourcarpet\",\"colorbar\":{\"outlinewidth\":0,\"ticks\":\"\"}}],\"contour\":[{\"type\":\"contour\",\"colorbar\":{\"outlinewidth\":0,\"ticks\":\"\"},\"colorscale\":[[0.0,\"#0d0887\"],[0.1111111111111111,\"#46039f\"],[0.2222222222222222,\"#7201a8\"],[0.3333333333333333,\"#9c179e\"],[0.4444444444444444,\"#bd3786\"],[0.5555555555555556,\"#d8576b\"],[0.6666666666666666,\"#ed7953\"],[0.7777777777777778,\"#fb9f3a\"],[0.8888888888888888,\"#fdca26\"],[1.0,\"#f0f921\"]]}],\"surface\":[{\"type\":\"surface\",\"colorbar\":{\"outlinewidth\":0,\"ticks\":\"\"},\"colorscale\":[[0.0,\"#0d0887\"],[0.1111111111111111,\"#46039f\"],[0.2222222222222222,\"#7201a8\"],[0.3333333333333333,\"#9c179e\"],[0.4444444444444444,\"#bd3786\"],[0.5555555555555556,\"#d8576b\"],[0.6666666666666666,\"#ed7953\"],[0.7777777777777778,\"#fb9f3a\"],[0.8888888888888888,\"#fdca26\"],[1.0,\"#f0f921\"]]}],\"mesh3d\":[{\"type\":\"mesh3d\",\"colorbar\":{\"outlinewidth\":0,\"ticks\":\"\"}}],\"scatter\":[{\"fillpattern\":{\"fillmode\":\"overlay\",\"size\":10,\"solidity\":0.2},\"type\":\"scatter\"}],\"parcoords\":[{\"type\":\"parcoords\",\"line\":{\"colorbar\":{\"outlinewidth\":0,\"ticks\":\"\"}}}],\"scatterpolargl\":[{\"type\":\"scatterpolargl\",\"marker\":{\"colorbar\":{\"outlinewidth\":0,\"ticks\":\"\"}}}],\"bar\":[{\"error_x\":{\"color\":\"#2a3f5f\"},\"error_y\":{\"color\":\"#2a3f5f\"},\"marker\":{\"line\":{\"color\":\"#E5ECF6\",\"width\":0.5},\"pattern\":{\"fillmode\":\"overlay\",\"size\":10,\"solidity\":0.2}},\"type\":\"bar\"}],\"scattergeo\":[{\"type\":\"scattergeo\",\"marker\":{\"colorbar\":{\"outlinewidth\":0,\"ticks\":\"\"}}}],\"scatterpolar\":[{\"type\":\"scatterpolar\",\"marker\":{\"colorbar\":{\"outlinewidth\":0,\"ticks\":\"\"}}}],\"histogram\":[{\"marker\":{\"pattern\":{\"fillmode\":\"overlay\",\"size\":10,\"solidity\":0.2}},\"type\":\"histogram\"}],\"scattergl\":[{\"type\":\"scattergl\",\"marker\":{\"colorbar\":{\"outlinewidth\":0,\"ticks\":\"\"}}}],\"scatter3d\":[{\"type\":\"scatter3d\",\"line\":{\"colorbar\":{\"outlinewidth\":0,\"ticks\":\"\"}},\"marker\":{\"colorbar\":{\"outlinewidth\":0,\"ticks\":\"\"}}}],\"scattermapbox\":[{\"type\":\"scattermapbox\",\"marker\":{\"colorbar\":{\"outlinewidth\":0,\"ticks\":\"\"}}}],\"scatterternary\":[{\"type\":\"scatterternary\",\"marker\":{\"colorbar\":{\"outlinewidth\":0,\"ticks\":\"\"}}}],\"scattercarpet\":[{\"type\":\"scattercarpet\",\"marker\":{\"colorbar\":{\"outlinewidth\":0,\"ticks\":\"\"}}}],\"carpet\":[{\"aaxis\":{\"endlinecolor\":\"#2a3f5f\",\"gridcolor\":\"white\",\"linecolor\":\"white\",\"minorgridcolor\":\"white\",\"startlinecolor\":\"#2a3f5f\"},\"baxis\":{\"endlinecolor\":\"#2a3f5f\",\"gridcolor\":\"white\",\"linecolor\":\"white\",\"minorgridcolor\":\"white\",\"startlinecolor\":\"#2a3f5f\"},\"type\":\"carpet\"}],\"table\":[{\"cells\":{\"fill\":{\"color\":\"#EBF0F8\"},\"line\":{\"color\":\"white\"}},\"header\":{\"fill\":{\"color\":\"#C8D4E3\"},\"line\":{\"color\":\"white\"}},\"type\":\"table\"}],\"barpolar\":[{\"marker\":{\"line\":{\"color\":\"#E5ECF6\",\"width\":0.5},\"pattern\":{\"fillmode\":\"overlay\",\"size\":10,\"solidity\":0.2}},\"type\":\"barpolar\"}],\"pie\":[{\"automargin\":true,\"type\":\"pie\"}]},\"layout\":{\"autotypenumbers\":\"strict\",\"colorway\":[\"#636efa\",\"#EF553B\",\"#00cc96\",\"#ab63fa\",\"#FFA15A\",\"#19d3f3\",\"#FF6692\",\"#B6E880\",\"#FF97FF\",\"#FECB52\"],\"font\":{\"color\":\"#2a3f5f\"},\"hovermode\":\"closest\",\"hoverlabel\":{\"align\":\"left\"},\"paper_bgcolor\":\"white\",\"plot_bgcolor\":\"#E5ECF6\",\"polar\":{\"bgcolor\":\"#E5ECF6\",\"angularaxis\":{\"gridcolor\":\"white\",\"linecolor\":\"white\",\"ticks\":\"\"},\"radialaxis\":{\"gridcolor\":\"white\",\"linecolor\":\"white\",\"ticks\":\"\"}},\"ternary\":{\"bgcolor\":\"#E5ECF6\",\"aaxis\":{\"gridcolor\":\"white\",\"linecolor\":\"white\",\"ticks\":\"\"},\"baxis\":{\"gridcolor\":\"white\",\"linecolor\":\"white\",\"ticks\":\"\"},\"caxis\":{\"gridcolor\":\"white\",\"linecolor\":\"white\",\"ticks\":\"\"}},\"coloraxis\":{\"colorbar\":{\"outlinewidth\":0,\"ticks\":\"\"}},\"colorscale\":{\"sequential\":[[0.0,\"#0d0887\"],[0.1111111111111111,\"#46039f\"],[0.2222222222222222,\"#7201a8\"],[0.3333333333333333,\"#9c179e\"],[0.4444444444444444,\"#bd3786\"],[0.5555555555555556,\"#d8576b\"],[0.6666666666666666,\"#ed7953\"],[0.7777777777777778,\"#fb9f3a\"],[0.8888888888888888,\"#fdca26\"],[1.0,\"#f0f921\"]],\"sequentialminus\":[[0.0,\"#0d0887\"],[0.1111111111111111,\"#46039f\"],[0.2222222222222222,\"#7201a8\"],[0.3333333333333333,\"#9c179e\"],[0.4444444444444444,\"#bd3786\"],[0.5555555555555556,\"#d8576b\"],[0.6666666666666666,\"#ed7953\"],[0.7777777777777778,\"#fb9f3a\"],[0.8888888888888888,\"#fdca26\"],[1.0,\"#f0f921\"]],\"diverging\":[[0,\"#8e0152\"],[0.1,\"#c51b7d\"],[0.2,\"#de77ae\"],[0.3,\"#f1b6da\"],[0.4,\"#fde0ef\"],[0.5,\"#f7f7f7\"],[0.6,\"#e6f5d0\"],[0.7,\"#b8e186\"],[0.8,\"#7fbc41\"],[0.9,\"#4d9221\"],[1,\"#276419\"]]},\"xaxis\":{\"gridcolor\":\"white\",\"linecolor\":\"white\",\"ticks\":\"\",\"title\":{\"standoff\":15},\"zerolinecolor\":\"white\",\"automargin\":true,\"zerolinewidth\":2},\"yaxis\":{\"gridcolor\":\"white\",\"linecolor\":\"white\",\"ticks\":\"\",\"title\":{\"standoff\":15},\"zerolinecolor\":\"white\",\"automargin\":true,\"zerolinewidth\":2},\"scene\":{\"xaxis\":{\"backgroundcolor\":\"#E5ECF6\",\"gridcolor\":\"white\",\"linecolor\":\"white\",\"showbackground\":true,\"ticks\":\"\",\"zerolinecolor\":\"white\",\"gridwidth\":2},\"yaxis\":{\"backgroundcolor\":\"#E5ECF6\",\"gridcolor\":\"white\",\"linecolor\":\"white\",\"showbackground\":true,\"ticks\":\"\",\"zerolinecolor\":\"white\",\"gridwidth\":2},\"zaxis\":{\"backgroundcolor\":\"#E5ECF6\",\"gridcolor\":\"white\",\"linecolor\":\"white\",\"showbackground\":true,\"ticks\":\"\",\"zerolinecolor\":\"white\",\"gridwidth\":2}},\"shapedefaults\":{\"line\":{\"color\":\"#2a3f5f\"}},\"annotationdefaults\":{\"arrowcolor\":\"#2a3f5f\",\"arrowhead\":0,\"arrowwidth\":1},\"geo\":{\"bgcolor\":\"white\",\"landcolor\":\"#E5ECF6\",\"subunitcolor\":\"white\",\"showland\":true,\"showlakes\":true,\"lakecolor\":\"white\"},\"title\":{\"x\":0.05},\"mapbox\":{\"style\":\"light\"}}}},                        {\"responsive\": true}                    ).then(function(){\n",
       "                            \n",
       "var gd = document.getElementById('a882098c-da40-40a5-8a47-5fdb9cec8d0e');\n",
       "var x = new MutationObserver(function (mutations, observer) {{\n",
       "        var display = window.getComputedStyle(gd).display;\n",
       "        if (!display || display === 'none') {{\n",
       "            console.log([gd, 'removed!']);\n",
       "            Plotly.purge(gd);\n",
       "            observer.disconnect();\n",
       "        }}\n",
       "}});\n",
       "\n",
       "// Listen for the removal of the full notebook cells\n",
       "var notebookContainer = gd.closest('#notebook-container');\n",
       "if (notebookContainer) {{\n",
       "    x.observe(notebookContainer, {childList: true});\n",
       "}}\n",
       "\n",
       "// Listen for the clearing of the current output cell\n",
       "var outputEl = gd.closest('.output');\n",
       "if (outputEl) {{\n",
       "    x.observe(outputEl, {childList: true});\n",
       "}}\n",
       "\n",
       "                        })                };                });            </script>        </div>"
      ]
     },
     "metadata": {},
     "output_type": "display_data"
    },
    {
     "data": {
      "text/plain": [
       "None"
      ]
     },
     "metadata": {
      "scrapbook": {
       "mime_prefix": "",
       "name": "plotly_t4_1"
      }
     },
     "output_type": "display_data"
    }
   ],
   "source": [
    "import plotly.graph_objects as go\n",
    "import pandas as pd\n",
    "\n",
    "\n",
    "fig = go.Figure(data=[go.Table(\n",
    "    header=dict(values=list(datas.columns),\n",
    "                fill_color='paleturquoise',\n",
    "                align='left'),\n",
    "    cells=dict(values=[datas.REF, datas.SUBSYSTEM, datas[\"UNIT / ITEM\"], datas[\"RELIABILITY DATA\"]],\n",
    "               fill_color='lavender',\n",
    "               align='left'))\n",
    "])\n",
    "\n",
    "#fig.show()\n",
    "\n",
    "glue(\"plotly_t4_1\", fig.show())"
   ]
  },
  {
   "cell_type": "code",
   "execution_count": null,
   "metadata": {},
   "outputs": [],
   "source": []
  },
  {
   "cell_type": "code",
   "execution_count": 11,
   "metadata": {},
   "outputs": [
    {
     "data": {
      "text/html": [
       "<div>\n",
       "<style scoped>\n",
       "    .dataframe tbody tr th:only-of-type {\n",
       "        vertical-align: middle;\n",
       "    }\n",
       "\n",
       "    .dataframe tbody tr th {\n",
       "        vertical-align: top;\n",
       "    }\n",
       "\n",
       "    .dataframe thead th {\n",
       "        text-align: right;\n",
       "    }\n",
       "</style>\n",
       "<table border=\"1\" class=\"dataframe\">\n",
       "  <thead>\n",
       "    <tr style=\"text-align: right;\">\n",
       "      <th></th>\n",
       "      <th>REF</th>\n",
       "      <th>SUBSYSTEM</th>\n",
       "      <th>UNIT / ITEM</th>\n",
       "      <th>RELIABILITY DATA</th>\n",
       "    </tr>\n",
       "  </thead>\n",
       "  <tbody>\n",
       "    <tr>\n",
       "      <th>0</th>\n",
       "      <td>RF - Radio Frequency</td>\n",
       "      <td>RF - Radio Frequency</td>\n",
       "      <td>RF - Radio Frequency</td>\n",
       "      <td>RF - Radio Frequency</td>\n",
       "    </tr>\n",
       "    <tr>\n",
       "      <th>1</th>\n",
       "      <td>N-STD_001</td>\n",
       "      <td>PAYLOAD</td>\n",
       "      <td>RF PASSIVE</td>\n",
       "      <td>Refer to user experience</td>\n",
       "    </tr>\n",
       "    <tr>\n",
       "      <th>2</th>\n",
       "      <td>PWR - Power</td>\n",
       "      <td>PWR - Power</td>\n",
       "      <td>PWR - Power</td>\n",
       "      <td>PWR - Power</td>\n",
       "    </tr>\n",
       "    <tr>\n",
       "      <th>3</th>\n",
       "      <td>N-STD_002</td>\n",
       "      <td>POWER</td>\n",
       "      <td>CONNECTORS</td>\n",
       "      <td>See EEE</td>\n",
       "    </tr>\n",
       "    <tr>\n",
       "      <th>4</th>\n",
       "      <td>PROP - Propulsion</td>\n",
       "      <td>PROP - Propulsion</td>\n",
       "      <td>PROP - Propulsion</td>\n",
       "      <td>PROP - Propulsion</td>\n",
       "    </tr>\n",
       "    <tr>\n",
       "      <th>5</th>\n",
       "      <td>N-STD_003</td>\n",
       "      <td>PROPULSION</td>\n",
       "      <td>HET (Hall Effect Thruster)</td>\n",
       "      <td>Refer to user experience</td>\n",
       "    </tr>\n",
       "    <tr>\n",
       "      <th>6</th>\n",
       "      <td>N-STD_004</td>\n",
       "      <td>PROPULSION</td>\n",
       "      <td>VALVE LV (Latching Valve)</td>\n",
       "      <td>Refer to Manufacturer data</td>\n",
       "    </tr>\n",
       "    <tr>\n",
       "      <th>7</th>\n",
       "      <td>N-STD_005</td>\n",
       "      <td>PROPULSION</td>\n",
       "      <td>VALVE FCV (MONO STABLE) Flow Control Valve</td>\n",
       "      <td>Refer to Manufacturer data</td>\n",
       "    </tr>\n",
       "    <tr>\n",
       "      <th>8</th>\n",
       "      <td>N-STD_006</td>\n",
       "      <td>PROPULSION</td>\n",
       "      <td>VALVE PYRO VALVE</td>\n",
       "      <td>Refer to Manufacturer data</td>\n",
       "    </tr>\n",
       "    <tr>\n",
       "      <th>9</th>\n",
       "      <td>N-STD_007</td>\n",
       "      <td>PROPULSION</td>\n",
       "      <td>PT (Pressure Transducer)</td>\n",
       "      <td>Refer to Manufacturer data</td>\n",
       "    </tr>\n",
       "    <tr>\n",
       "      <th>10</th>\n",
       "      <td>N-STD_008</td>\n",
       "      <td>PROPULSION</td>\n",
       "      <td>FILTER</td>\n",
       "      <td>Refer to Manufacturer data</td>\n",
       "    </tr>\n",
       "    <tr>\n",
       "      <th>11</th>\n",
       "      <td>THER - Thermal</td>\n",
       "      <td>THER - Thermal</td>\n",
       "      <td>THER - Thermal</td>\n",
       "      <td>THER - Thermal</td>\n",
       "    </tr>\n",
       "    <tr>\n",
       "      <th>12</th>\n",
       "      <td>N-STD_009</td>\n",
       "      <td>THERMAL</td>\n",
       "      <td>HEAT PIPES</td>\n",
       "      <td>Refer to Manufacturer data</td>\n",
       "    </tr>\n",
       "    <tr>\n",
       "      <th>13</th>\n",
       "      <td>N-STD_010</td>\n",
       "      <td>THERMAL</td>\n",
       "      <td>THERMO SWITCH</td>\n",
       "      <td>Refer to Manufacturer data</td>\n",
       "    </tr>\n",
       "    <tr>\n",
       "      <th>14</th>\n",
       "      <td>N-STD_011</td>\n",
       "      <td>THERMAL</td>\n",
       "      <td>HEATER</td>\n",
       "      <td>NaN</td>\n",
       "    </tr>\n",
       "    <tr>\n",
       "      <th>15</th>\n",
       "      <td>PYRO - Pyrotechnics</td>\n",
       "      <td>PYRO - Pyrotechnics</td>\n",
       "      <td>PYRO - Pyrotechnics</td>\n",
       "      <td>PYRO - Pyrotechnics</td>\n",
       "    </tr>\n",
       "    <tr>\n",
       "      <th>16</th>\n",
       "      <td>N-STD_012</td>\n",
       "      <td>AOCS</td>\n",
       "      <td>Pyro Actuator</td>\n",
       "      <td>Based on Tests results (Bruceton, PROBIT, seve...</td>\n",
       "    </tr>\n",
       "    <tr>\n",
       "      <th>17</th>\n",
       "      <td>DEP - Deployment</td>\n",
       "      <td>DEP - Deployment</td>\n",
       "      <td>DEP - Deployment</td>\n",
       "      <td>DEP - Deployment</td>\n",
       "    </tr>\n",
       "    <tr>\n",
       "      <th>18</th>\n",
       "      <td>N-STD_013</td>\n",
       "      <td>NEA</td>\n",
       "      <td>Non Explosive Actuator</td>\n",
       "      <td>NaN</td>\n",
       "    </tr>\n",
       "    <tr>\n",
       "      <th>19</th>\n",
       "      <td>Other</td>\n",
       "      <td>Other</td>\n",
       "      <td>Other</td>\n",
       "      <td>Other</td>\n",
       "    </tr>\n",
       "    <tr>\n",
       "      <th>20</th>\n",
       "      <td>N-STD_014</td>\n",
       "      <td>PAYLOAD</td>\n",
       "      <td>OPTICS</td>\n",
       "      <td>Based on Manufacturer data.  Mechanical models...</td>\n",
       "    </tr>\n",
       "    <tr>\n",
       "      <th>21</th>\n",
       "      <td>N-STD_015</td>\n",
       "      <td>ALL</td>\n",
       "      <td>OPTRONICS</td>\n",
       "      <td>See EEE</td>\n",
       "    </tr>\n",
       "  </tbody>\n",
       "</table>\n",
       "</div>"
      ],
      "text/plain": [
       "                     REF             SUBSYSTEM  \\\n",
       "0   RF - Radio Frequency  RF - Radio Frequency   \n",
       "1              N-STD_001               PAYLOAD   \n",
       "2            PWR - Power           PWR - Power   \n",
       "3              N-STD_002                 POWER   \n",
       "4      PROP - Propulsion     PROP - Propulsion   \n",
       "5              N-STD_003            PROPULSION   \n",
       "6              N-STD_004            PROPULSION   \n",
       "7              N-STD_005            PROPULSION   \n",
       "8              N-STD_006            PROPULSION   \n",
       "9              N-STD_007            PROPULSION   \n",
       "10             N-STD_008            PROPULSION   \n",
       "11        THER - Thermal        THER - Thermal   \n",
       "12             N-STD_009               THERMAL   \n",
       "13             N-STD_010               THERMAL   \n",
       "14             N-STD_011               THERMAL   \n",
       "15   PYRO - Pyrotechnics   PYRO - Pyrotechnics   \n",
       "16             N-STD_012                  AOCS   \n",
       "17      DEP - Deployment      DEP - Deployment   \n",
       "18             N-STD_013                   NEA   \n",
       "19                 Other                 Other   \n",
       "20             N-STD_014               PAYLOAD   \n",
       "21             N-STD_015                   ALL   \n",
       "\n",
       "                                   UNIT / ITEM  \\\n",
       "0                         RF - Radio Frequency   \n",
       "1                                   RF PASSIVE   \n",
       "2                                  PWR - Power   \n",
       "3                                   CONNECTORS   \n",
       "4                            PROP - Propulsion   \n",
       "5                   HET (Hall Effect Thruster)   \n",
       "6                    VALVE LV (Latching Valve)   \n",
       "7   VALVE FCV (MONO STABLE) Flow Control Valve   \n",
       "8                             VALVE PYRO VALVE   \n",
       "9                     PT (Pressure Transducer)   \n",
       "10                                      FILTER   \n",
       "11                              THER - Thermal   \n",
       "12                                  HEAT PIPES   \n",
       "13                               THERMO SWITCH   \n",
       "14                                      HEATER   \n",
       "15                         PYRO - Pyrotechnics   \n",
       "16                               Pyro Actuator   \n",
       "17                            DEP - Deployment   \n",
       "18                      Non Explosive Actuator   \n",
       "19                                       Other   \n",
       "20                                      OPTICS   \n",
       "21                                   OPTRONICS   \n",
       "\n",
       "                                     RELIABILITY DATA  \n",
       "0                                RF - Radio Frequency  \n",
       "1                            Refer to user experience  \n",
       "2                                         PWR - Power  \n",
       "3                                             See EEE  \n",
       "4                                   PROP - Propulsion  \n",
       "5                            Refer to user experience  \n",
       "6                          Refer to Manufacturer data  \n",
       "7                          Refer to Manufacturer data  \n",
       "8                          Refer to Manufacturer data  \n",
       "9                          Refer to Manufacturer data  \n",
       "10                         Refer to Manufacturer data  \n",
       "11                                     THER - Thermal  \n",
       "12                         Refer to Manufacturer data  \n",
       "13                         Refer to Manufacturer data  \n",
       "14                                                NaN  \n",
       "15                                PYRO - Pyrotechnics  \n",
       "16  Based on Tests results (Bruceton, PROBIT, seve...  \n",
       "17                                   DEP - Deployment  \n",
       "18                                                NaN  \n",
       "19                                              Other  \n",
       "20  Based on Manufacturer data.  Mechanical models...  \n",
       "21                                            See EEE  "
      ]
     },
     "metadata": {
      "scrapbook": {
       "mime_prefix": "",
       "name": "table4_2"
      }
     },
     "output_type": "display_data"
    }
   ],
   "source": [
    "df2 = pd.read_html(\"table4_2.html\")\n",
    "datas2 = pd.DataFrame(df2[0])\n",
    "\n",
    "glue(\"table4_2\",datas2)"
   ]
  },
  {
   "cell_type": "code",
   "execution_count": 12,
   "metadata": {},
   "outputs": [
    {
     "data": {
      "application/vnd.plotly.v1+json": {
       "config": {
        "plotlyServerURL": "https://plot.ly"
       },
       "data": [
        {
         "cells": {
          "align": "left",
          "fill": {
           "color": "lavender"
          },
          "values": [
           [
            "RF - Radio Frequency",
            "N-STD_001",
            "PWR - Power",
            "N-STD_002",
            "PROP - Propulsion",
            "N-STD_003",
            "N-STD_004",
            "N-STD_005",
            "N-STD_006",
            "N-STD_007",
            "N-STD_008",
            "THER - Thermal",
            "N-STD_009",
            "N-STD_010",
            "N-STD_011",
            "PYRO - Pyrotechnics",
            "N-STD_012",
            "DEP - Deployment",
            "N-STD_013",
            "Other",
            "N-STD_014",
            "N-STD_015"
           ],
           [
            "RF - Radio Frequency",
            "PAYLOAD",
            "PWR - Power",
            "POWER",
            "PROP - Propulsion",
            "PROPULSION",
            "PROPULSION",
            "PROPULSION",
            "PROPULSION",
            "PROPULSION",
            "PROPULSION",
            "THER - Thermal",
            "THERMAL",
            "THERMAL",
            "THERMAL",
            "PYRO - Pyrotechnics",
            "AOCS",
            "DEP - Deployment",
            "NEA",
            "Other",
            "PAYLOAD",
            "ALL"
           ],
           [
            "RF - Radio Frequency",
            "RF PASSIVE",
            "PWR - Power",
            "CONNECTORS",
            "PROP - Propulsion",
            "HET (Hall Effect Thruster)",
            "VALVE LV (Latching Valve)",
            "VALVE FCV (MONO STABLE) Flow Control Valve",
            "VALVE PYRO VALVE",
            "PT (Pressure Transducer)",
            "FILTER",
            "THER - Thermal",
            "HEAT PIPES",
            "THERMO SWITCH",
            "HEATER",
            "PYRO - Pyrotechnics",
            "Pyro Actuator",
            "DEP - Deployment",
            "Non Explosive Actuator",
            "Other",
            "OPTICS",
            "OPTRONICS"
           ],
           [
            "RF - Radio Frequency",
            "Refer to user experience",
            "PWR - Power",
            "See EEE",
            "PROP - Propulsion",
            "Refer to user experience",
            "Refer to Manufacturer data",
            "Refer to Manufacturer data",
            "Refer to Manufacturer data",
            "Refer to Manufacturer data",
            "Refer to Manufacturer data",
            "THER - Thermal",
            "Refer to Manufacturer data",
            "Refer to Manufacturer data",
            null,
            "PYRO - Pyrotechnics",
            "Based on Tests results (Bruceton, PROBIT, severe, one-shot, Neyer  tests)",
            "DEP - Deployment",
            null,
            "Other",
            "Based on Manufacturer data.  Mechanical models for structural failure mechanisms and radiation  degradation (wear-out).",
            "See EEE"
           ]
          ]
         },
         "header": {
          "align": "left",
          "fill": {
           "color": "paleturquoise"
          },
          "values": [
           "REF",
           "SUBSYSTEM",
           "UNIT / ITEM",
           "RELIABILITY DATA"
          ]
         },
         "type": "table"
        }
       ],
       "layout": {
        "template": {
         "data": {
          "bar": [
           {
            "error_x": {
             "color": "#2a3f5f"
            },
            "error_y": {
             "color": "#2a3f5f"
            },
            "marker": {
             "line": {
              "color": "#E5ECF6",
              "width": 0.5
             },
             "pattern": {
              "fillmode": "overlay",
              "size": 10,
              "solidity": 0.2
             }
            },
            "type": "bar"
           }
          ],
          "barpolar": [
           {
            "marker": {
             "line": {
              "color": "#E5ECF6",
              "width": 0.5
             },
             "pattern": {
              "fillmode": "overlay",
              "size": 10,
              "solidity": 0.2
             }
            },
            "type": "barpolar"
           }
          ],
          "carpet": [
           {
            "aaxis": {
             "endlinecolor": "#2a3f5f",
             "gridcolor": "white",
             "linecolor": "white",
             "minorgridcolor": "white",
             "startlinecolor": "#2a3f5f"
            },
            "baxis": {
             "endlinecolor": "#2a3f5f",
             "gridcolor": "white",
             "linecolor": "white",
             "minorgridcolor": "white",
             "startlinecolor": "#2a3f5f"
            },
            "type": "carpet"
           }
          ],
          "choropleth": [
           {
            "colorbar": {
             "outlinewidth": 0,
             "ticks": ""
            },
            "type": "choropleth"
           }
          ],
          "contour": [
           {
            "colorbar": {
             "outlinewidth": 0,
             "ticks": ""
            },
            "colorscale": [
             [
              0,
              "#0d0887"
             ],
             [
              0.1111111111111111,
              "#46039f"
             ],
             [
              0.2222222222222222,
              "#7201a8"
             ],
             [
              0.3333333333333333,
              "#9c179e"
             ],
             [
              0.4444444444444444,
              "#bd3786"
             ],
             [
              0.5555555555555556,
              "#d8576b"
             ],
             [
              0.6666666666666666,
              "#ed7953"
             ],
             [
              0.7777777777777778,
              "#fb9f3a"
             ],
             [
              0.8888888888888888,
              "#fdca26"
             ],
             [
              1,
              "#f0f921"
             ]
            ],
            "type": "contour"
           }
          ],
          "contourcarpet": [
           {
            "colorbar": {
             "outlinewidth": 0,
             "ticks": ""
            },
            "type": "contourcarpet"
           }
          ],
          "heatmap": [
           {
            "colorbar": {
             "outlinewidth": 0,
             "ticks": ""
            },
            "colorscale": [
             [
              0,
              "#0d0887"
             ],
             [
              0.1111111111111111,
              "#46039f"
             ],
             [
              0.2222222222222222,
              "#7201a8"
             ],
             [
              0.3333333333333333,
              "#9c179e"
             ],
             [
              0.4444444444444444,
              "#bd3786"
             ],
             [
              0.5555555555555556,
              "#d8576b"
             ],
             [
              0.6666666666666666,
              "#ed7953"
             ],
             [
              0.7777777777777778,
              "#fb9f3a"
             ],
             [
              0.8888888888888888,
              "#fdca26"
             ],
             [
              1,
              "#f0f921"
             ]
            ],
            "type": "heatmap"
           }
          ],
          "heatmapgl": [
           {
            "colorbar": {
             "outlinewidth": 0,
             "ticks": ""
            },
            "colorscale": [
             [
              0,
              "#0d0887"
             ],
             [
              0.1111111111111111,
              "#46039f"
             ],
             [
              0.2222222222222222,
              "#7201a8"
             ],
             [
              0.3333333333333333,
              "#9c179e"
             ],
             [
              0.4444444444444444,
              "#bd3786"
             ],
             [
              0.5555555555555556,
              "#d8576b"
             ],
             [
              0.6666666666666666,
              "#ed7953"
             ],
             [
              0.7777777777777778,
              "#fb9f3a"
             ],
             [
              0.8888888888888888,
              "#fdca26"
             ],
             [
              1,
              "#f0f921"
             ]
            ],
            "type": "heatmapgl"
           }
          ],
          "histogram": [
           {
            "marker": {
             "pattern": {
              "fillmode": "overlay",
              "size": 10,
              "solidity": 0.2
             }
            },
            "type": "histogram"
           }
          ],
          "histogram2d": [
           {
            "colorbar": {
             "outlinewidth": 0,
             "ticks": ""
            },
            "colorscale": [
             [
              0,
              "#0d0887"
             ],
             [
              0.1111111111111111,
              "#46039f"
             ],
             [
              0.2222222222222222,
              "#7201a8"
             ],
             [
              0.3333333333333333,
              "#9c179e"
             ],
             [
              0.4444444444444444,
              "#bd3786"
             ],
             [
              0.5555555555555556,
              "#d8576b"
             ],
             [
              0.6666666666666666,
              "#ed7953"
             ],
             [
              0.7777777777777778,
              "#fb9f3a"
             ],
             [
              0.8888888888888888,
              "#fdca26"
             ],
             [
              1,
              "#f0f921"
             ]
            ],
            "type": "histogram2d"
           }
          ],
          "histogram2dcontour": [
           {
            "colorbar": {
             "outlinewidth": 0,
             "ticks": ""
            },
            "colorscale": [
             [
              0,
              "#0d0887"
             ],
             [
              0.1111111111111111,
              "#46039f"
             ],
             [
              0.2222222222222222,
              "#7201a8"
             ],
             [
              0.3333333333333333,
              "#9c179e"
             ],
             [
              0.4444444444444444,
              "#bd3786"
             ],
             [
              0.5555555555555556,
              "#d8576b"
             ],
             [
              0.6666666666666666,
              "#ed7953"
             ],
             [
              0.7777777777777778,
              "#fb9f3a"
             ],
             [
              0.8888888888888888,
              "#fdca26"
             ],
             [
              1,
              "#f0f921"
             ]
            ],
            "type": "histogram2dcontour"
           }
          ],
          "mesh3d": [
           {
            "colorbar": {
             "outlinewidth": 0,
             "ticks": ""
            },
            "type": "mesh3d"
           }
          ],
          "parcoords": [
           {
            "line": {
             "colorbar": {
              "outlinewidth": 0,
              "ticks": ""
             }
            },
            "type": "parcoords"
           }
          ],
          "pie": [
           {
            "automargin": true,
            "type": "pie"
           }
          ],
          "scatter": [
           {
            "fillpattern": {
             "fillmode": "overlay",
             "size": 10,
             "solidity": 0.2
            },
            "type": "scatter"
           }
          ],
          "scatter3d": [
           {
            "line": {
             "colorbar": {
              "outlinewidth": 0,
              "ticks": ""
             }
            },
            "marker": {
             "colorbar": {
              "outlinewidth": 0,
              "ticks": ""
             }
            },
            "type": "scatter3d"
           }
          ],
          "scattercarpet": [
           {
            "marker": {
             "colorbar": {
              "outlinewidth": 0,
              "ticks": ""
             }
            },
            "type": "scattercarpet"
           }
          ],
          "scattergeo": [
           {
            "marker": {
             "colorbar": {
              "outlinewidth": 0,
              "ticks": ""
             }
            },
            "type": "scattergeo"
           }
          ],
          "scattergl": [
           {
            "marker": {
             "colorbar": {
              "outlinewidth": 0,
              "ticks": ""
             }
            },
            "type": "scattergl"
           }
          ],
          "scattermapbox": [
           {
            "marker": {
             "colorbar": {
              "outlinewidth": 0,
              "ticks": ""
             }
            },
            "type": "scattermapbox"
           }
          ],
          "scatterpolar": [
           {
            "marker": {
             "colorbar": {
              "outlinewidth": 0,
              "ticks": ""
             }
            },
            "type": "scatterpolar"
           }
          ],
          "scatterpolargl": [
           {
            "marker": {
             "colorbar": {
              "outlinewidth": 0,
              "ticks": ""
             }
            },
            "type": "scatterpolargl"
           }
          ],
          "scatterternary": [
           {
            "marker": {
             "colorbar": {
              "outlinewidth": 0,
              "ticks": ""
             }
            },
            "type": "scatterternary"
           }
          ],
          "surface": [
           {
            "colorbar": {
             "outlinewidth": 0,
             "ticks": ""
            },
            "colorscale": [
             [
              0,
              "#0d0887"
             ],
             [
              0.1111111111111111,
              "#46039f"
             ],
             [
              0.2222222222222222,
              "#7201a8"
             ],
             [
              0.3333333333333333,
              "#9c179e"
             ],
             [
              0.4444444444444444,
              "#bd3786"
             ],
             [
              0.5555555555555556,
              "#d8576b"
             ],
             [
              0.6666666666666666,
              "#ed7953"
             ],
             [
              0.7777777777777778,
              "#fb9f3a"
             ],
             [
              0.8888888888888888,
              "#fdca26"
             ],
             [
              1,
              "#f0f921"
             ]
            ],
            "type": "surface"
           }
          ],
          "table": [
           {
            "cells": {
             "fill": {
              "color": "#EBF0F8"
             },
             "line": {
              "color": "white"
             }
            },
            "header": {
             "fill": {
              "color": "#C8D4E3"
             },
             "line": {
              "color": "white"
             }
            },
            "type": "table"
           }
          ]
         },
         "layout": {
          "annotationdefaults": {
           "arrowcolor": "#2a3f5f",
           "arrowhead": 0,
           "arrowwidth": 1
          },
          "autotypenumbers": "strict",
          "coloraxis": {
           "colorbar": {
            "outlinewidth": 0,
            "ticks": ""
           }
          },
          "colorscale": {
           "diverging": [
            [
             0,
             "#8e0152"
            ],
            [
             0.1,
             "#c51b7d"
            ],
            [
             0.2,
             "#de77ae"
            ],
            [
             0.3,
             "#f1b6da"
            ],
            [
             0.4,
             "#fde0ef"
            ],
            [
             0.5,
             "#f7f7f7"
            ],
            [
             0.6,
             "#e6f5d0"
            ],
            [
             0.7,
             "#b8e186"
            ],
            [
             0.8,
             "#7fbc41"
            ],
            [
             0.9,
             "#4d9221"
            ],
            [
             1,
             "#276419"
            ]
           ],
           "sequential": [
            [
             0,
             "#0d0887"
            ],
            [
             0.1111111111111111,
             "#46039f"
            ],
            [
             0.2222222222222222,
             "#7201a8"
            ],
            [
             0.3333333333333333,
             "#9c179e"
            ],
            [
             0.4444444444444444,
             "#bd3786"
            ],
            [
             0.5555555555555556,
             "#d8576b"
            ],
            [
             0.6666666666666666,
             "#ed7953"
            ],
            [
             0.7777777777777778,
             "#fb9f3a"
            ],
            [
             0.8888888888888888,
             "#fdca26"
            ],
            [
             1,
             "#f0f921"
            ]
           ],
           "sequentialminus": [
            [
             0,
             "#0d0887"
            ],
            [
             0.1111111111111111,
             "#46039f"
            ],
            [
             0.2222222222222222,
             "#7201a8"
            ],
            [
             0.3333333333333333,
             "#9c179e"
            ],
            [
             0.4444444444444444,
             "#bd3786"
            ],
            [
             0.5555555555555556,
             "#d8576b"
            ],
            [
             0.6666666666666666,
             "#ed7953"
            ],
            [
             0.7777777777777778,
             "#fb9f3a"
            ],
            [
             0.8888888888888888,
             "#fdca26"
            ],
            [
             1,
             "#f0f921"
            ]
           ]
          },
          "colorway": [
           "#636efa",
           "#EF553B",
           "#00cc96",
           "#ab63fa",
           "#FFA15A",
           "#19d3f3",
           "#FF6692",
           "#B6E880",
           "#FF97FF",
           "#FECB52"
          ],
          "font": {
           "color": "#2a3f5f"
          },
          "geo": {
           "bgcolor": "white",
           "lakecolor": "white",
           "landcolor": "#E5ECF6",
           "showlakes": true,
           "showland": true,
           "subunitcolor": "white"
          },
          "hoverlabel": {
           "align": "left"
          },
          "hovermode": "closest",
          "mapbox": {
           "style": "light"
          },
          "paper_bgcolor": "white",
          "plot_bgcolor": "#E5ECF6",
          "polar": {
           "angularaxis": {
            "gridcolor": "white",
            "linecolor": "white",
            "ticks": ""
           },
           "bgcolor": "#E5ECF6",
           "radialaxis": {
            "gridcolor": "white",
            "linecolor": "white",
            "ticks": ""
           }
          },
          "scene": {
           "xaxis": {
            "backgroundcolor": "#E5ECF6",
            "gridcolor": "white",
            "gridwidth": 2,
            "linecolor": "white",
            "showbackground": true,
            "ticks": "",
            "zerolinecolor": "white"
           },
           "yaxis": {
            "backgroundcolor": "#E5ECF6",
            "gridcolor": "white",
            "gridwidth": 2,
            "linecolor": "white",
            "showbackground": true,
            "ticks": "",
            "zerolinecolor": "white"
           },
           "zaxis": {
            "backgroundcolor": "#E5ECF6",
            "gridcolor": "white",
            "gridwidth": 2,
            "linecolor": "white",
            "showbackground": true,
            "ticks": "",
            "zerolinecolor": "white"
           }
          },
          "shapedefaults": {
           "line": {
            "color": "#2a3f5f"
           }
          },
          "ternary": {
           "aaxis": {
            "gridcolor": "white",
            "linecolor": "white",
            "ticks": ""
           },
           "baxis": {
            "gridcolor": "white",
            "linecolor": "white",
            "ticks": ""
           },
           "bgcolor": "#E5ECF6",
           "caxis": {
            "gridcolor": "white",
            "linecolor": "white",
            "ticks": ""
           }
          },
          "title": {
           "x": 0.05
          },
          "xaxis": {
           "automargin": true,
           "gridcolor": "white",
           "linecolor": "white",
           "ticks": "",
           "title": {
            "standoff": 15
           },
           "zerolinecolor": "white",
           "zerolinewidth": 2
          },
          "yaxis": {
           "automargin": true,
           "gridcolor": "white",
           "linecolor": "white",
           "ticks": "",
           "title": {
            "standoff": 15
           },
           "zerolinecolor": "white",
           "zerolinewidth": 2
          }
         }
        }
       }
      },
      "text/html": [
       "<div>                            <div id=\"71ec6f89-b20a-4f18-9517-16ef71c67486\" class=\"plotly-graph-div\" style=\"height:525px; width:100%;\"></div>            <script type=\"text/javascript\">                require([\"plotly\"], function(Plotly) {                    window.PLOTLYENV=window.PLOTLYENV || {};                                    if (document.getElementById(\"71ec6f89-b20a-4f18-9517-16ef71c67486\")) {                    Plotly.newPlot(                        \"71ec6f89-b20a-4f18-9517-16ef71c67486\",                        [{\"cells\":{\"align\":\"left\",\"fill\":{\"color\":\"lavender\"},\"values\":[[\"RF - Radio Frequency\",\"N-STD_001\",\"PWR - Power\",\"N-STD_002\",\"PROP - Propulsion\",\"N-STD_003\",\"N-STD_004\",\"N-STD_005\",\"N-STD_006\",\"N-STD_007\",\"N-STD_008\",\"THER - Thermal\",\"N-STD_009\",\"N-STD_010\",\"N-STD_011\",\"PYRO - Pyrotechnics\",\"N-STD_012\",\"DEP - Deployment\",\"N-STD_013\",\"Other\",\"N-STD_014\",\"N-STD_015\"],[\"RF - Radio Frequency\",\"PAYLOAD\",\"PWR - Power\",\"POWER\",\"PROP - Propulsion\",\"PROPULSION\",\"PROPULSION\",\"PROPULSION\",\"PROPULSION\",\"PROPULSION\",\"PROPULSION\",\"THER - Thermal\",\"THERMAL\",\"THERMAL\",\"THERMAL\",\"PYRO - Pyrotechnics\",\"AOCS\",\"DEP - Deployment\",\"NEA\",\"Other\",\"PAYLOAD\",\"ALL\"],[\"RF - Radio Frequency\",\"RF PASSIVE\",\"PWR - Power\",\"CONNECTORS\",\"PROP - Propulsion\",\"HET (Hall Effect Thruster)\",\"VALVE LV (Latching Valve)\",\"VALVE FCV (MONO STABLE) Flow Control Valve\",\"VALVE PYRO VALVE\",\"PT (Pressure Transducer)\",\"FILTER\",\"THER - Thermal\",\"HEAT PIPES\",\"THERMO SWITCH\",\"HEATER\",\"PYRO - Pyrotechnics\",\"Pyro Actuator\",\"DEP - Deployment\",\"Non Explosive Actuator\",\"Other\",\"OPTICS\",\"OPTRONICS\"],[\"RF - Radio Frequency\",\"Refer to user experience\",\"PWR - Power\",\"See EEE\",\"PROP - Propulsion\",\"Refer to user experience\",\"Refer to Manufacturer data\",\"Refer to Manufacturer data\",\"Refer to Manufacturer data\",\"Refer to Manufacturer data\",\"Refer to Manufacturer data\",\"THER - Thermal\",\"Refer to Manufacturer data\",\"Refer to Manufacturer data\",null,\"PYRO - Pyrotechnics\",\"Based on Tests results (Bruceton, PROBIT, severe, one-shot, Neyer  tests)\",\"DEP - Deployment\",null,\"Other\",\"Based on Manufacturer data.  Mechanical models for structural failure mechanisms and radiation  degradation (wear-out).\",\"See EEE\"]]},\"header\":{\"align\":\"left\",\"fill\":{\"color\":\"paleturquoise\"},\"values\":[\"REF\",\"SUBSYSTEM\",\"UNIT / ITEM\",\"RELIABILITY DATA\"]},\"type\":\"table\"}],                        {\"template\":{\"data\":{\"histogram2dcontour\":[{\"type\":\"histogram2dcontour\",\"colorbar\":{\"outlinewidth\":0,\"ticks\":\"\"},\"colorscale\":[[0.0,\"#0d0887\"],[0.1111111111111111,\"#46039f\"],[0.2222222222222222,\"#7201a8\"],[0.3333333333333333,\"#9c179e\"],[0.4444444444444444,\"#bd3786\"],[0.5555555555555556,\"#d8576b\"],[0.6666666666666666,\"#ed7953\"],[0.7777777777777778,\"#fb9f3a\"],[0.8888888888888888,\"#fdca26\"],[1.0,\"#f0f921\"]]}],\"choropleth\":[{\"type\":\"choropleth\",\"colorbar\":{\"outlinewidth\":0,\"ticks\":\"\"}}],\"histogram2d\":[{\"type\":\"histogram2d\",\"colorbar\":{\"outlinewidth\":0,\"ticks\":\"\"},\"colorscale\":[[0.0,\"#0d0887\"],[0.1111111111111111,\"#46039f\"],[0.2222222222222222,\"#7201a8\"],[0.3333333333333333,\"#9c179e\"],[0.4444444444444444,\"#bd3786\"],[0.5555555555555556,\"#d8576b\"],[0.6666666666666666,\"#ed7953\"],[0.7777777777777778,\"#fb9f3a\"],[0.8888888888888888,\"#fdca26\"],[1.0,\"#f0f921\"]]}],\"heatmap\":[{\"type\":\"heatmap\",\"colorbar\":{\"outlinewidth\":0,\"ticks\":\"\"},\"colorscale\":[[0.0,\"#0d0887\"],[0.1111111111111111,\"#46039f\"],[0.2222222222222222,\"#7201a8\"],[0.3333333333333333,\"#9c179e\"],[0.4444444444444444,\"#bd3786\"],[0.5555555555555556,\"#d8576b\"],[0.6666666666666666,\"#ed7953\"],[0.7777777777777778,\"#fb9f3a\"],[0.8888888888888888,\"#fdca26\"],[1.0,\"#f0f921\"]]}],\"heatmapgl\":[{\"type\":\"heatmapgl\",\"colorbar\":{\"outlinewidth\":0,\"ticks\":\"\"},\"colorscale\":[[0.0,\"#0d0887\"],[0.1111111111111111,\"#46039f\"],[0.2222222222222222,\"#7201a8\"],[0.3333333333333333,\"#9c179e\"],[0.4444444444444444,\"#bd3786\"],[0.5555555555555556,\"#d8576b\"],[0.6666666666666666,\"#ed7953\"],[0.7777777777777778,\"#fb9f3a\"],[0.8888888888888888,\"#fdca26\"],[1.0,\"#f0f921\"]]}],\"contourcarpet\":[{\"type\":\"contourcarpet\",\"colorbar\":{\"outlinewidth\":0,\"ticks\":\"\"}}],\"contour\":[{\"type\":\"contour\",\"colorbar\":{\"outlinewidth\":0,\"ticks\":\"\"},\"colorscale\":[[0.0,\"#0d0887\"],[0.1111111111111111,\"#46039f\"],[0.2222222222222222,\"#7201a8\"],[0.3333333333333333,\"#9c179e\"],[0.4444444444444444,\"#bd3786\"],[0.5555555555555556,\"#d8576b\"],[0.6666666666666666,\"#ed7953\"],[0.7777777777777778,\"#fb9f3a\"],[0.8888888888888888,\"#fdca26\"],[1.0,\"#f0f921\"]]}],\"surface\":[{\"type\":\"surface\",\"colorbar\":{\"outlinewidth\":0,\"ticks\":\"\"},\"colorscale\":[[0.0,\"#0d0887\"],[0.1111111111111111,\"#46039f\"],[0.2222222222222222,\"#7201a8\"],[0.3333333333333333,\"#9c179e\"],[0.4444444444444444,\"#bd3786\"],[0.5555555555555556,\"#d8576b\"],[0.6666666666666666,\"#ed7953\"],[0.7777777777777778,\"#fb9f3a\"],[0.8888888888888888,\"#fdca26\"],[1.0,\"#f0f921\"]]}],\"mesh3d\":[{\"type\":\"mesh3d\",\"colorbar\":{\"outlinewidth\":0,\"ticks\":\"\"}}],\"scatter\":[{\"fillpattern\":{\"fillmode\":\"overlay\",\"size\":10,\"solidity\":0.2},\"type\":\"scatter\"}],\"parcoords\":[{\"type\":\"parcoords\",\"line\":{\"colorbar\":{\"outlinewidth\":0,\"ticks\":\"\"}}}],\"scatterpolargl\":[{\"type\":\"scatterpolargl\",\"marker\":{\"colorbar\":{\"outlinewidth\":0,\"ticks\":\"\"}}}],\"bar\":[{\"error_x\":{\"color\":\"#2a3f5f\"},\"error_y\":{\"color\":\"#2a3f5f\"},\"marker\":{\"line\":{\"color\":\"#E5ECF6\",\"width\":0.5},\"pattern\":{\"fillmode\":\"overlay\",\"size\":10,\"solidity\":0.2}},\"type\":\"bar\"}],\"scattergeo\":[{\"type\":\"scattergeo\",\"marker\":{\"colorbar\":{\"outlinewidth\":0,\"ticks\":\"\"}}}],\"scatterpolar\":[{\"type\":\"scatterpolar\",\"marker\":{\"colorbar\":{\"outlinewidth\":0,\"ticks\":\"\"}}}],\"histogram\":[{\"marker\":{\"pattern\":{\"fillmode\":\"overlay\",\"size\":10,\"solidity\":0.2}},\"type\":\"histogram\"}],\"scattergl\":[{\"type\":\"scattergl\",\"marker\":{\"colorbar\":{\"outlinewidth\":0,\"ticks\":\"\"}}}],\"scatter3d\":[{\"type\":\"scatter3d\",\"line\":{\"colorbar\":{\"outlinewidth\":0,\"ticks\":\"\"}},\"marker\":{\"colorbar\":{\"outlinewidth\":0,\"ticks\":\"\"}}}],\"scattermapbox\":[{\"type\":\"scattermapbox\",\"marker\":{\"colorbar\":{\"outlinewidth\":0,\"ticks\":\"\"}}}],\"scatterternary\":[{\"type\":\"scatterternary\",\"marker\":{\"colorbar\":{\"outlinewidth\":0,\"ticks\":\"\"}}}],\"scattercarpet\":[{\"type\":\"scattercarpet\",\"marker\":{\"colorbar\":{\"outlinewidth\":0,\"ticks\":\"\"}}}],\"carpet\":[{\"aaxis\":{\"endlinecolor\":\"#2a3f5f\",\"gridcolor\":\"white\",\"linecolor\":\"white\",\"minorgridcolor\":\"white\",\"startlinecolor\":\"#2a3f5f\"},\"baxis\":{\"endlinecolor\":\"#2a3f5f\",\"gridcolor\":\"white\",\"linecolor\":\"white\",\"minorgridcolor\":\"white\",\"startlinecolor\":\"#2a3f5f\"},\"type\":\"carpet\"}],\"table\":[{\"cells\":{\"fill\":{\"color\":\"#EBF0F8\"},\"line\":{\"color\":\"white\"}},\"header\":{\"fill\":{\"color\":\"#C8D4E3\"},\"line\":{\"color\":\"white\"}},\"type\":\"table\"}],\"barpolar\":[{\"marker\":{\"line\":{\"color\":\"#E5ECF6\",\"width\":0.5},\"pattern\":{\"fillmode\":\"overlay\",\"size\":10,\"solidity\":0.2}},\"type\":\"barpolar\"}],\"pie\":[{\"automargin\":true,\"type\":\"pie\"}]},\"layout\":{\"autotypenumbers\":\"strict\",\"colorway\":[\"#636efa\",\"#EF553B\",\"#00cc96\",\"#ab63fa\",\"#FFA15A\",\"#19d3f3\",\"#FF6692\",\"#B6E880\",\"#FF97FF\",\"#FECB52\"],\"font\":{\"color\":\"#2a3f5f\"},\"hovermode\":\"closest\",\"hoverlabel\":{\"align\":\"left\"},\"paper_bgcolor\":\"white\",\"plot_bgcolor\":\"#E5ECF6\",\"polar\":{\"bgcolor\":\"#E5ECF6\",\"angularaxis\":{\"gridcolor\":\"white\",\"linecolor\":\"white\",\"ticks\":\"\"},\"radialaxis\":{\"gridcolor\":\"white\",\"linecolor\":\"white\",\"ticks\":\"\"}},\"ternary\":{\"bgcolor\":\"#E5ECF6\",\"aaxis\":{\"gridcolor\":\"white\",\"linecolor\":\"white\",\"ticks\":\"\"},\"baxis\":{\"gridcolor\":\"white\",\"linecolor\":\"white\",\"ticks\":\"\"},\"caxis\":{\"gridcolor\":\"white\",\"linecolor\":\"white\",\"ticks\":\"\"}},\"coloraxis\":{\"colorbar\":{\"outlinewidth\":0,\"ticks\":\"\"}},\"colorscale\":{\"sequential\":[[0.0,\"#0d0887\"],[0.1111111111111111,\"#46039f\"],[0.2222222222222222,\"#7201a8\"],[0.3333333333333333,\"#9c179e\"],[0.4444444444444444,\"#bd3786\"],[0.5555555555555556,\"#d8576b\"],[0.6666666666666666,\"#ed7953\"],[0.7777777777777778,\"#fb9f3a\"],[0.8888888888888888,\"#fdca26\"],[1.0,\"#f0f921\"]],\"sequentialminus\":[[0.0,\"#0d0887\"],[0.1111111111111111,\"#46039f\"],[0.2222222222222222,\"#7201a8\"],[0.3333333333333333,\"#9c179e\"],[0.4444444444444444,\"#bd3786\"],[0.5555555555555556,\"#d8576b\"],[0.6666666666666666,\"#ed7953\"],[0.7777777777777778,\"#fb9f3a\"],[0.8888888888888888,\"#fdca26\"],[1.0,\"#f0f921\"]],\"diverging\":[[0,\"#8e0152\"],[0.1,\"#c51b7d\"],[0.2,\"#de77ae\"],[0.3,\"#f1b6da\"],[0.4,\"#fde0ef\"],[0.5,\"#f7f7f7\"],[0.6,\"#e6f5d0\"],[0.7,\"#b8e186\"],[0.8,\"#7fbc41\"],[0.9,\"#4d9221\"],[1,\"#276419\"]]},\"xaxis\":{\"gridcolor\":\"white\",\"linecolor\":\"white\",\"ticks\":\"\",\"title\":{\"standoff\":15},\"zerolinecolor\":\"white\",\"automargin\":true,\"zerolinewidth\":2},\"yaxis\":{\"gridcolor\":\"white\",\"linecolor\":\"white\",\"ticks\":\"\",\"title\":{\"standoff\":15},\"zerolinecolor\":\"white\",\"automargin\":true,\"zerolinewidth\":2},\"scene\":{\"xaxis\":{\"backgroundcolor\":\"#E5ECF6\",\"gridcolor\":\"white\",\"linecolor\":\"white\",\"showbackground\":true,\"ticks\":\"\",\"zerolinecolor\":\"white\",\"gridwidth\":2},\"yaxis\":{\"backgroundcolor\":\"#E5ECF6\",\"gridcolor\":\"white\",\"linecolor\":\"white\",\"showbackground\":true,\"ticks\":\"\",\"zerolinecolor\":\"white\",\"gridwidth\":2},\"zaxis\":{\"backgroundcolor\":\"#E5ECF6\",\"gridcolor\":\"white\",\"linecolor\":\"white\",\"showbackground\":true,\"ticks\":\"\",\"zerolinecolor\":\"white\",\"gridwidth\":2}},\"shapedefaults\":{\"line\":{\"color\":\"#2a3f5f\"}},\"annotationdefaults\":{\"arrowcolor\":\"#2a3f5f\",\"arrowhead\":0,\"arrowwidth\":1},\"geo\":{\"bgcolor\":\"white\",\"landcolor\":\"#E5ECF6\",\"subunitcolor\":\"white\",\"showland\":true,\"showlakes\":true,\"lakecolor\":\"white\"},\"title\":{\"x\":0.05},\"mapbox\":{\"style\":\"light\"}}}},                        {\"responsive\": true}                    ).then(function(){\n",
       "                            \n",
       "var gd = document.getElementById('71ec6f89-b20a-4f18-9517-16ef71c67486');\n",
       "var x = new MutationObserver(function (mutations, observer) {{\n",
       "        var display = window.getComputedStyle(gd).display;\n",
       "        if (!display || display === 'none') {{\n",
       "            console.log([gd, 'removed!']);\n",
       "            Plotly.purge(gd);\n",
       "            observer.disconnect();\n",
       "        }}\n",
       "}});\n",
       "\n",
       "// Listen for the removal of the full notebook cells\n",
       "var notebookContainer = gd.closest('#notebook-container');\n",
       "if (notebookContainer) {{\n",
       "    x.observe(notebookContainer, {childList: true});\n",
       "}}\n",
       "\n",
       "// Listen for the clearing of the current output cell\n",
       "var outputEl = gd.closest('.output');\n",
       "if (outputEl) {{\n",
       "    x.observe(outputEl, {childList: true});\n",
       "}}\n",
       "\n",
       "                        })                };                });            </script>        </div>"
      ]
     },
     "metadata": {},
     "output_type": "display_data"
    }
   ],
   "source": [
    "fig2 = go.Figure(data=[go.Table(\n",
    "    header=dict(values=list(datas2.columns),\n",
    "                fill_color='paleturquoise',\n",
    "                align='left'),\n",
    "    cells=dict(values=[datas2.REF, datas2.SUBSYSTEM, datas2[\"UNIT / ITEM\"], datas2[\"RELIABILITY DATA\"]],\n",
    "               fill_color='lavender',\n",
    "               align='left'))\n",
    "])\n",
    "\n",
    "fig2.show()"
   ]
  },
  {
   "cell_type": "code",
   "execution_count": null,
   "metadata": {},
   "outputs": [],
   "source": []
  },
  {
   "cell_type": "code",
   "execution_count": 13,
   "metadata": {},
   "outputs": [
    {
     "data": {
      "text/plain": [
       "'|    | Root cause category   | Coverage by the miscellaneous reliability prediction  methodology                                                                                                                                                                                                                                                                                                                                                                                                                                                                                                                                                                                                             |\\n|---:|:----------------------|:------------------------------------------------------------------------------------------------------------------------------------------------------------------------------------------------------------------------------------------------------------------------------------------------------------------------------------------------------------------------------------------------------------------------------------------------------------------------------------------------------------------------------------------------------------------------------------------------------------------------------------------------------------------------------|\\n|  0 | Random failure        | Random failures are \"one-off\" events. They are modelled by a  constant failure rate. In the frame of the Current document, a basic  failure rate is attributed to a class of miscellaneous item, derived  from IOR data and valid in a certain range of parameters. The model is  only valid for the design lifetime. It can be used beyond the design  lifetime in the case there is no wear.                                                                                                                                                                                                                                                                                |\\n|  1 | Systematic failures   | All physical failures are related to Design errors /  manufacturing errors.  When the errors are sufficiently minor inducing a \"One-shot\"  event/situation with typical failure mechanisms in line with the item  quality level, they are modelled as random failures.  When it is no longer the case (obvious weakness in design, or actual  design characteristics changed by manufacturing defect, premature  wear-out before the end of the specified lifetime, weakness regarding  the space environment) it is necessary to address and to model  systematic failures. This is done based on statistics and not  considering the human factor as an initial root cause. |\\n|  2 | Wear-out failures     | Considered by the process described in Section 11.5 (Wear-Out  modelling), only for miscellaneous items considered as lifetime-limited  items. Safe life qualification is used to address wear-out failure based  on probability distribution (parameters derived from the duration for  qualification). The model addresses nominal lifetime and lifetime  extension.                                                                                                                                                                                                                                                                                                        |\\n|  3 | Extrinsic failures    | Foreseen extrinsic effects due to the launch environment  (vibrations, shocks) and physical conditions in-orbit (e.g. temperature)  are assumed to be covered by design and adequate qualification (to be  verified before modelling). Any design/manufacturing errors are  represented by Systematic failures modelling.  A separate modelling may be required if the probability of additional  failure mechanisms induced by the space environment cannot be neglected - e.g. space debris impact.                                                                                                                                                                         |'"
      ]
     },
     "metadata": {
      "scrapbook": {
       "mime_prefix": "",
       "name": "table4_3"
      }
     },
     "output_type": "display_data"
    }
   ],
   "source": [
    "df3 = pd.read_html(\"table4_3.html\")\n",
    "datas3 = pd.DataFrame(df3[0])\n",
    "\n",
    "glue(\"table4_3\",datas3.to_markdown())"
   ]
  },
  {
   "cell_type": "code",
   "execution_count": 14,
   "metadata": {},
   "outputs": [
    {
     "data": {
      "application/vnd.plotly.v1+json": {
       "config": {
        "plotlyServerURL": "https://plot.ly"
       },
       "data": [
        {
         "cells": {
          "align": "left",
          "fill": {
           "color": "lavender"
          },
          "values": [
           [
            "Random failure",
            "Systematic failures",
            "Wear-out failures",
            "Extrinsic failures"
           ],
           [
            "Random failures are \"one-off\" events. They are modelled by a  constant failure rate. In the frame of the Current document, a basic  failure rate is attributed to a class of miscellaneous item, derived  from IOR data and valid in a certain range of parameters. The model is  only valid for the design lifetime. It can be used beyond the design  lifetime in the case there is no wear.",
            "All physical failures are related to Design errors /  manufacturing errors.  When the errors are sufficiently minor inducing a \"One-shot\"  event/situation with typical failure mechanisms in line with the item  quality level, they are modelled as random failures.  When it is no longer the case (obvious weakness in design, or actual  design characteristics changed by manufacturing defect, premature  wear-out before the end of the specified lifetime, weakness regarding  the space environment) it is necessary to address and to model  systematic failures. This is done based on statistics and not  considering the human factor as an initial root cause.",
            "Considered by the process described in Section 11.5 (Wear-Out  modelling), only for miscellaneous items considered as lifetime-limited  items. Safe life qualification is used to address wear-out failure based  on probability distribution (parameters derived from the duration for  qualification). The model addresses nominal lifetime and lifetime  extension.",
            "Foreseen extrinsic effects due to the launch environment  (vibrations, shocks) and physical conditions in-orbit (e.g. temperature)  are assumed to be covered by design and adequate qualification (to be  verified before modelling). Any design/manufacturing errors are  represented by Systematic failures modelling.  A separate modelling may be required if the probability of additional  failure mechanisms induced by the space environment cannot be neglected - e.g. space debris impact."
           ]
          ]
         },
         "header": {
          "align": "left",
          "fill": {
           "color": "paleturquoise"
          },
          "values": [
           "Root cause category",
           "Coverage by the miscellaneous reliability prediction  methodology"
          ]
         },
         "type": "table"
        }
       ],
       "layout": {
        "template": {
         "data": {
          "bar": [
           {
            "error_x": {
             "color": "#2a3f5f"
            },
            "error_y": {
             "color": "#2a3f5f"
            },
            "marker": {
             "line": {
              "color": "#E5ECF6",
              "width": 0.5
             },
             "pattern": {
              "fillmode": "overlay",
              "size": 10,
              "solidity": 0.2
             }
            },
            "type": "bar"
           }
          ],
          "barpolar": [
           {
            "marker": {
             "line": {
              "color": "#E5ECF6",
              "width": 0.5
             },
             "pattern": {
              "fillmode": "overlay",
              "size": 10,
              "solidity": 0.2
             }
            },
            "type": "barpolar"
           }
          ],
          "carpet": [
           {
            "aaxis": {
             "endlinecolor": "#2a3f5f",
             "gridcolor": "white",
             "linecolor": "white",
             "minorgridcolor": "white",
             "startlinecolor": "#2a3f5f"
            },
            "baxis": {
             "endlinecolor": "#2a3f5f",
             "gridcolor": "white",
             "linecolor": "white",
             "minorgridcolor": "white",
             "startlinecolor": "#2a3f5f"
            },
            "type": "carpet"
           }
          ],
          "choropleth": [
           {
            "colorbar": {
             "outlinewidth": 0,
             "ticks": ""
            },
            "type": "choropleth"
           }
          ],
          "contour": [
           {
            "colorbar": {
             "outlinewidth": 0,
             "ticks": ""
            },
            "colorscale": [
             [
              0,
              "#0d0887"
             ],
             [
              0.1111111111111111,
              "#46039f"
             ],
             [
              0.2222222222222222,
              "#7201a8"
             ],
             [
              0.3333333333333333,
              "#9c179e"
             ],
             [
              0.4444444444444444,
              "#bd3786"
             ],
             [
              0.5555555555555556,
              "#d8576b"
             ],
             [
              0.6666666666666666,
              "#ed7953"
             ],
             [
              0.7777777777777778,
              "#fb9f3a"
             ],
             [
              0.8888888888888888,
              "#fdca26"
             ],
             [
              1,
              "#f0f921"
             ]
            ],
            "type": "contour"
           }
          ],
          "contourcarpet": [
           {
            "colorbar": {
             "outlinewidth": 0,
             "ticks": ""
            },
            "type": "contourcarpet"
           }
          ],
          "heatmap": [
           {
            "colorbar": {
             "outlinewidth": 0,
             "ticks": ""
            },
            "colorscale": [
             [
              0,
              "#0d0887"
             ],
             [
              0.1111111111111111,
              "#46039f"
             ],
             [
              0.2222222222222222,
              "#7201a8"
             ],
             [
              0.3333333333333333,
              "#9c179e"
             ],
             [
              0.4444444444444444,
              "#bd3786"
             ],
             [
              0.5555555555555556,
              "#d8576b"
             ],
             [
              0.6666666666666666,
              "#ed7953"
             ],
             [
              0.7777777777777778,
              "#fb9f3a"
             ],
             [
              0.8888888888888888,
              "#fdca26"
             ],
             [
              1,
              "#f0f921"
             ]
            ],
            "type": "heatmap"
           }
          ],
          "heatmapgl": [
           {
            "colorbar": {
             "outlinewidth": 0,
             "ticks": ""
            },
            "colorscale": [
             [
              0,
              "#0d0887"
             ],
             [
              0.1111111111111111,
              "#46039f"
             ],
             [
              0.2222222222222222,
              "#7201a8"
             ],
             [
              0.3333333333333333,
              "#9c179e"
             ],
             [
              0.4444444444444444,
              "#bd3786"
             ],
             [
              0.5555555555555556,
              "#d8576b"
             ],
             [
              0.6666666666666666,
              "#ed7953"
             ],
             [
              0.7777777777777778,
              "#fb9f3a"
             ],
             [
              0.8888888888888888,
              "#fdca26"
             ],
             [
              1,
              "#f0f921"
             ]
            ],
            "type": "heatmapgl"
           }
          ],
          "histogram": [
           {
            "marker": {
             "pattern": {
              "fillmode": "overlay",
              "size": 10,
              "solidity": 0.2
             }
            },
            "type": "histogram"
           }
          ],
          "histogram2d": [
           {
            "colorbar": {
             "outlinewidth": 0,
             "ticks": ""
            },
            "colorscale": [
             [
              0,
              "#0d0887"
             ],
             [
              0.1111111111111111,
              "#46039f"
             ],
             [
              0.2222222222222222,
              "#7201a8"
             ],
             [
              0.3333333333333333,
              "#9c179e"
             ],
             [
              0.4444444444444444,
              "#bd3786"
             ],
             [
              0.5555555555555556,
              "#d8576b"
             ],
             [
              0.6666666666666666,
              "#ed7953"
             ],
             [
              0.7777777777777778,
              "#fb9f3a"
             ],
             [
              0.8888888888888888,
              "#fdca26"
             ],
             [
              1,
              "#f0f921"
             ]
            ],
            "type": "histogram2d"
           }
          ],
          "histogram2dcontour": [
           {
            "colorbar": {
             "outlinewidth": 0,
             "ticks": ""
            },
            "colorscale": [
             [
              0,
              "#0d0887"
             ],
             [
              0.1111111111111111,
              "#46039f"
             ],
             [
              0.2222222222222222,
              "#7201a8"
             ],
             [
              0.3333333333333333,
              "#9c179e"
             ],
             [
              0.4444444444444444,
              "#bd3786"
             ],
             [
              0.5555555555555556,
              "#d8576b"
             ],
             [
              0.6666666666666666,
              "#ed7953"
             ],
             [
              0.7777777777777778,
              "#fb9f3a"
             ],
             [
              0.8888888888888888,
              "#fdca26"
             ],
             [
              1,
              "#f0f921"
             ]
            ],
            "type": "histogram2dcontour"
           }
          ],
          "mesh3d": [
           {
            "colorbar": {
             "outlinewidth": 0,
             "ticks": ""
            },
            "type": "mesh3d"
           }
          ],
          "parcoords": [
           {
            "line": {
             "colorbar": {
              "outlinewidth": 0,
              "ticks": ""
             }
            },
            "type": "parcoords"
           }
          ],
          "pie": [
           {
            "automargin": true,
            "type": "pie"
           }
          ],
          "scatter": [
           {
            "fillpattern": {
             "fillmode": "overlay",
             "size": 10,
             "solidity": 0.2
            },
            "type": "scatter"
           }
          ],
          "scatter3d": [
           {
            "line": {
             "colorbar": {
              "outlinewidth": 0,
              "ticks": ""
             }
            },
            "marker": {
             "colorbar": {
              "outlinewidth": 0,
              "ticks": ""
             }
            },
            "type": "scatter3d"
           }
          ],
          "scattercarpet": [
           {
            "marker": {
             "colorbar": {
              "outlinewidth": 0,
              "ticks": ""
             }
            },
            "type": "scattercarpet"
           }
          ],
          "scattergeo": [
           {
            "marker": {
             "colorbar": {
              "outlinewidth": 0,
              "ticks": ""
             }
            },
            "type": "scattergeo"
           }
          ],
          "scattergl": [
           {
            "marker": {
             "colorbar": {
              "outlinewidth": 0,
              "ticks": ""
             }
            },
            "type": "scattergl"
           }
          ],
          "scattermapbox": [
           {
            "marker": {
             "colorbar": {
              "outlinewidth": 0,
              "ticks": ""
             }
            },
            "type": "scattermapbox"
           }
          ],
          "scatterpolar": [
           {
            "marker": {
             "colorbar": {
              "outlinewidth": 0,
              "ticks": ""
             }
            },
            "type": "scatterpolar"
           }
          ],
          "scatterpolargl": [
           {
            "marker": {
             "colorbar": {
              "outlinewidth": 0,
              "ticks": ""
             }
            },
            "type": "scatterpolargl"
           }
          ],
          "scatterternary": [
           {
            "marker": {
             "colorbar": {
              "outlinewidth": 0,
              "ticks": ""
             }
            },
            "type": "scatterternary"
           }
          ],
          "surface": [
           {
            "colorbar": {
             "outlinewidth": 0,
             "ticks": ""
            },
            "colorscale": [
             [
              0,
              "#0d0887"
             ],
             [
              0.1111111111111111,
              "#46039f"
             ],
             [
              0.2222222222222222,
              "#7201a8"
             ],
             [
              0.3333333333333333,
              "#9c179e"
             ],
             [
              0.4444444444444444,
              "#bd3786"
             ],
             [
              0.5555555555555556,
              "#d8576b"
             ],
             [
              0.6666666666666666,
              "#ed7953"
             ],
             [
              0.7777777777777778,
              "#fb9f3a"
             ],
             [
              0.8888888888888888,
              "#fdca26"
             ],
             [
              1,
              "#f0f921"
             ]
            ],
            "type": "surface"
           }
          ],
          "table": [
           {
            "cells": {
             "fill": {
              "color": "#EBF0F8"
             },
             "line": {
              "color": "white"
             }
            },
            "header": {
             "fill": {
              "color": "#C8D4E3"
             },
             "line": {
              "color": "white"
             }
            },
            "type": "table"
           }
          ]
         },
         "layout": {
          "annotationdefaults": {
           "arrowcolor": "#2a3f5f",
           "arrowhead": 0,
           "arrowwidth": 1
          },
          "autotypenumbers": "strict",
          "coloraxis": {
           "colorbar": {
            "outlinewidth": 0,
            "ticks": ""
           }
          },
          "colorscale": {
           "diverging": [
            [
             0,
             "#8e0152"
            ],
            [
             0.1,
             "#c51b7d"
            ],
            [
             0.2,
             "#de77ae"
            ],
            [
             0.3,
             "#f1b6da"
            ],
            [
             0.4,
             "#fde0ef"
            ],
            [
             0.5,
             "#f7f7f7"
            ],
            [
             0.6,
             "#e6f5d0"
            ],
            [
             0.7,
             "#b8e186"
            ],
            [
             0.8,
             "#7fbc41"
            ],
            [
             0.9,
             "#4d9221"
            ],
            [
             1,
             "#276419"
            ]
           ],
           "sequential": [
            [
             0,
             "#0d0887"
            ],
            [
             0.1111111111111111,
             "#46039f"
            ],
            [
             0.2222222222222222,
             "#7201a8"
            ],
            [
             0.3333333333333333,
             "#9c179e"
            ],
            [
             0.4444444444444444,
             "#bd3786"
            ],
            [
             0.5555555555555556,
             "#d8576b"
            ],
            [
             0.6666666666666666,
             "#ed7953"
            ],
            [
             0.7777777777777778,
             "#fb9f3a"
            ],
            [
             0.8888888888888888,
             "#fdca26"
            ],
            [
             1,
             "#f0f921"
            ]
           ],
           "sequentialminus": [
            [
             0,
             "#0d0887"
            ],
            [
             0.1111111111111111,
             "#46039f"
            ],
            [
             0.2222222222222222,
             "#7201a8"
            ],
            [
             0.3333333333333333,
             "#9c179e"
            ],
            [
             0.4444444444444444,
             "#bd3786"
            ],
            [
             0.5555555555555556,
             "#d8576b"
            ],
            [
             0.6666666666666666,
             "#ed7953"
            ],
            [
             0.7777777777777778,
             "#fb9f3a"
            ],
            [
             0.8888888888888888,
             "#fdca26"
            ],
            [
             1,
             "#f0f921"
            ]
           ]
          },
          "colorway": [
           "#636efa",
           "#EF553B",
           "#00cc96",
           "#ab63fa",
           "#FFA15A",
           "#19d3f3",
           "#FF6692",
           "#B6E880",
           "#FF97FF",
           "#FECB52"
          ],
          "font": {
           "color": "#2a3f5f"
          },
          "geo": {
           "bgcolor": "white",
           "lakecolor": "white",
           "landcolor": "#E5ECF6",
           "showlakes": true,
           "showland": true,
           "subunitcolor": "white"
          },
          "hoverlabel": {
           "align": "left"
          },
          "hovermode": "closest",
          "mapbox": {
           "style": "light"
          },
          "paper_bgcolor": "white",
          "plot_bgcolor": "#E5ECF6",
          "polar": {
           "angularaxis": {
            "gridcolor": "white",
            "linecolor": "white",
            "ticks": ""
           },
           "bgcolor": "#E5ECF6",
           "radialaxis": {
            "gridcolor": "white",
            "linecolor": "white",
            "ticks": ""
           }
          },
          "scene": {
           "xaxis": {
            "backgroundcolor": "#E5ECF6",
            "gridcolor": "white",
            "gridwidth": 2,
            "linecolor": "white",
            "showbackground": true,
            "ticks": "",
            "zerolinecolor": "white"
           },
           "yaxis": {
            "backgroundcolor": "#E5ECF6",
            "gridcolor": "white",
            "gridwidth": 2,
            "linecolor": "white",
            "showbackground": true,
            "ticks": "",
            "zerolinecolor": "white"
           },
           "zaxis": {
            "backgroundcolor": "#E5ECF6",
            "gridcolor": "white",
            "gridwidth": 2,
            "linecolor": "white",
            "showbackground": true,
            "ticks": "",
            "zerolinecolor": "white"
           }
          },
          "shapedefaults": {
           "line": {
            "color": "#2a3f5f"
           }
          },
          "ternary": {
           "aaxis": {
            "gridcolor": "white",
            "linecolor": "white",
            "ticks": ""
           },
           "baxis": {
            "gridcolor": "white",
            "linecolor": "white",
            "ticks": ""
           },
           "bgcolor": "#E5ECF6",
           "caxis": {
            "gridcolor": "white",
            "linecolor": "white",
            "ticks": ""
           }
          },
          "title": {
           "x": 0.05
          },
          "xaxis": {
           "automargin": true,
           "gridcolor": "white",
           "linecolor": "white",
           "ticks": "",
           "title": {
            "standoff": 15
           },
           "zerolinecolor": "white",
           "zerolinewidth": 2
          },
          "yaxis": {
           "automargin": true,
           "gridcolor": "white",
           "linecolor": "white",
           "ticks": "",
           "title": {
            "standoff": 15
           },
           "zerolinecolor": "white",
           "zerolinewidth": 2
          }
         }
        }
       }
      },
      "text/html": [
       "<div>                            <div id=\"5cac1fe5-ba16-4591-970c-f8778368fdb7\" class=\"plotly-graph-div\" style=\"height:525px; width:100%;\"></div>            <script type=\"text/javascript\">                require([\"plotly\"], function(Plotly) {                    window.PLOTLYENV=window.PLOTLYENV || {};                                    if (document.getElementById(\"5cac1fe5-ba16-4591-970c-f8778368fdb7\")) {                    Plotly.newPlot(                        \"5cac1fe5-ba16-4591-970c-f8778368fdb7\",                        [{\"cells\":{\"align\":\"left\",\"fill\":{\"color\":\"lavender\"},\"values\":[[\"Random failure\",\"Systematic failures\",\"Wear-out failures\",\"Extrinsic failures\"],[\"Random failures are \\\"one-off\\\" events. They are modelled by a  constant failure rate. In the frame of the Current document, a basic  failure rate is attributed to a class of miscellaneous item, derived  from IOR data and valid in a certain range of parameters. The model is  only valid for the design lifetime. It can be used beyond the design  lifetime in the case there is no wear.\",\"All physical failures are related to Design errors /  manufacturing errors.  When the errors are sufficiently minor inducing a \\\"One-shot\\\"  event/situation with typical failure mechanisms in line with the item  quality level, they are modelled as random failures.  When it is no longer the case (obvious weakness in design, or actual  design characteristics changed by manufacturing defect, premature  wear-out before the end of the specified lifetime, weakness regarding  the space environment) it is necessary to address and to model  systematic failures. This is done based on statistics and not  considering the human factor as an initial root cause.\",\"Considered by the process described in Section 11.5 (Wear-Out  modelling), only for miscellaneous items considered as lifetime-limited  items. Safe life qualification is used to address wear-out failure based  on probability distribution (parameters derived from the duration for  qualification). The model addresses nominal lifetime and lifetime  extension.\",\"Foreseen extrinsic effects due to the launch environment  (vibrations, shocks) and physical conditions in-orbit (e.g. temperature)  are assumed to be covered by design and adequate qualification (to be  verified before modelling). Any design/manufacturing errors are  represented by Systematic failures modelling.  A separate modelling may be required if the probability of additional  failure mechanisms induced by the space environment cannot be neglected - e.g. space debris impact.\"]]},\"header\":{\"align\":\"left\",\"fill\":{\"color\":\"paleturquoise\"},\"values\":[\"Root cause category\",\"Coverage by the miscellaneous reliability prediction  methodology\"]},\"type\":\"table\"}],                        {\"template\":{\"data\":{\"histogram2dcontour\":[{\"type\":\"histogram2dcontour\",\"colorbar\":{\"outlinewidth\":0,\"ticks\":\"\"},\"colorscale\":[[0.0,\"#0d0887\"],[0.1111111111111111,\"#46039f\"],[0.2222222222222222,\"#7201a8\"],[0.3333333333333333,\"#9c179e\"],[0.4444444444444444,\"#bd3786\"],[0.5555555555555556,\"#d8576b\"],[0.6666666666666666,\"#ed7953\"],[0.7777777777777778,\"#fb9f3a\"],[0.8888888888888888,\"#fdca26\"],[1.0,\"#f0f921\"]]}],\"choropleth\":[{\"type\":\"choropleth\",\"colorbar\":{\"outlinewidth\":0,\"ticks\":\"\"}}],\"histogram2d\":[{\"type\":\"histogram2d\",\"colorbar\":{\"outlinewidth\":0,\"ticks\":\"\"},\"colorscale\":[[0.0,\"#0d0887\"],[0.1111111111111111,\"#46039f\"],[0.2222222222222222,\"#7201a8\"],[0.3333333333333333,\"#9c179e\"],[0.4444444444444444,\"#bd3786\"],[0.5555555555555556,\"#d8576b\"],[0.6666666666666666,\"#ed7953\"],[0.7777777777777778,\"#fb9f3a\"],[0.8888888888888888,\"#fdca26\"],[1.0,\"#f0f921\"]]}],\"heatmap\":[{\"type\":\"heatmap\",\"colorbar\":{\"outlinewidth\":0,\"ticks\":\"\"},\"colorscale\":[[0.0,\"#0d0887\"],[0.1111111111111111,\"#46039f\"],[0.2222222222222222,\"#7201a8\"],[0.3333333333333333,\"#9c179e\"],[0.4444444444444444,\"#bd3786\"],[0.5555555555555556,\"#d8576b\"],[0.6666666666666666,\"#ed7953\"],[0.7777777777777778,\"#fb9f3a\"],[0.8888888888888888,\"#fdca26\"],[1.0,\"#f0f921\"]]}],\"heatmapgl\":[{\"type\":\"heatmapgl\",\"colorbar\":{\"outlinewidth\":0,\"ticks\":\"\"},\"colorscale\":[[0.0,\"#0d0887\"],[0.1111111111111111,\"#46039f\"],[0.2222222222222222,\"#7201a8\"],[0.3333333333333333,\"#9c179e\"],[0.4444444444444444,\"#bd3786\"],[0.5555555555555556,\"#d8576b\"],[0.6666666666666666,\"#ed7953\"],[0.7777777777777778,\"#fb9f3a\"],[0.8888888888888888,\"#fdca26\"],[1.0,\"#f0f921\"]]}],\"contourcarpet\":[{\"type\":\"contourcarpet\",\"colorbar\":{\"outlinewidth\":0,\"ticks\":\"\"}}],\"contour\":[{\"type\":\"contour\",\"colorbar\":{\"outlinewidth\":0,\"ticks\":\"\"},\"colorscale\":[[0.0,\"#0d0887\"],[0.1111111111111111,\"#46039f\"],[0.2222222222222222,\"#7201a8\"],[0.3333333333333333,\"#9c179e\"],[0.4444444444444444,\"#bd3786\"],[0.5555555555555556,\"#d8576b\"],[0.6666666666666666,\"#ed7953\"],[0.7777777777777778,\"#fb9f3a\"],[0.8888888888888888,\"#fdca26\"],[1.0,\"#f0f921\"]]}],\"surface\":[{\"type\":\"surface\",\"colorbar\":{\"outlinewidth\":0,\"ticks\":\"\"},\"colorscale\":[[0.0,\"#0d0887\"],[0.1111111111111111,\"#46039f\"],[0.2222222222222222,\"#7201a8\"],[0.3333333333333333,\"#9c179e\"],[0.4444444444444444,\"#bd3786\"],[0.5555555555555556,\"#d8576b\"],[0.6666666666666666,\"#ed7953\"],[0.7777777777777778,\"#fb9f3a\"],[0.8888888888888888,\"#fdca26\"],[1.0,\"#f0f921\"]]}],\"mesh3d\":[{\"type\":\"mesh3d\",\"colorbar\":{\"outlinewidth\":0,\"ticks\":\"\"}}],\"scatter\":[{\"fillpattern\":{\"fillmode\":\"overlay\",\"size\":10,\"solidity\":0.2},\"type\":\"scatter\"}],\"parcoords\":[{\"type\":\"parcoords\",\"line\":{\"colorbar\":{\"outlinewidth\":0,\"ticks\":\"\"}}}],\"scatterpolargl\":[{\"type\":\"scatterpolargl\",\"marker\":{\"colorbar\":{\"outlinewidth\":0,\"ticks\":\"\"}}}],\"bar\":[{\"error_x\":{\"color\":\"#2a3f5f\"},\"error_y\":{\"color\":\"#2a3f5f\"},\"marker\":{\"line\":{\"color\":\"#E5ECF6\",\"width\":0.5},\"pattern\":{\"fillmode\":\"overlay\",\"size\":10,\"solidity\":0.2}},\"type\":\"bar\"}],\"scattergeo\":[{\"type\":\"scattergeo\",\"marker\":{\"colorbar\":{\"outlinewidth\":0,\"ticks\":\"\"}}}],\"scatterpolar\":[{\"type\":\"scatterpolar\",\"marker\":{\"colorbar\":{\"outlinewidth\":0,\"ticks\":\"\"}}}],\"histogram\":[{\"marker\":{\"pattern\":{\"fillmode\":\"overlay\",\"size\":10,\"solidity\":0.2}},\"type\":\"histogram\"}],\"scattergl\":[{\"type\":\"scattergl\",\"marker\":{\"colorbar\":{\"outlinewidth\":0,\"ticks\":\"\"}}}],\"scatter3d\":[{\"type\":\"scatter3d\",\"line\":{\"colorbar\":{\"outlinewidth\":0,\"ticks\":\"\"}},\"marker\":{\"colorbar\":{\"outlinewidth\":0,\"ticks\":\"\"}}}],\"scattermapbox\":[{\"type\":\"scattermapbox\",\"marker\":{\"colorbar\":{\"outlinewidth\":0,\"ticks\":\"\"}}}],\"scatterternary\":[{\"type\":\"scatterternary\",\"marker\":{\"colorbar\":{\"outlinewidth\":0,\"ticks\":\"\"}}}],\"scattercarpet\":[{\"type\":\"scattercarpet\",\"marker\":{\"colorbar\":{\"outlinewidth\":0,\"ticks\":\"\"}}}],\"carpet\":[{\"aaxis\":{\"endlinecolor\":\"#2a3f5f\",\"gridcolor\":\"white\",\"linecolor\":\"white\",\"minorgridcolor\":\"white\",\"startlinecolor\":\"#2a3f5f\"},\"baxis\":{\"endlinecolor\":\"#2a3f5f\",\"gridcolor\":\"white\",\"linecolor\":\"white\",\"minorgridcolor\":\"white\",\"startlinecolor\":\"#2a3f5f\"},\"type\":\"carpet\"}],\"table\":[{\"cells\":{\"fill\":{\"color\":\"#EBF0F8\"},\"line\":{\"color\":\"white\"}},\"header\":{\"fill\":{\"color\":\"#C8D4E3\"},\"line\":{\"color\":\"white\"}},\"type\":\"table\"}],\"barpolar\":[{\"marker\":{\"line\":{\"color\":\"#E5ECF6\",\"width\":0.5},\"pattern\":{\"fillmode\":\"overlay\",\"size\":10,\"solidity\":0.2}},\"type\":\"barpolar\"}],\"pie\":[{\"automargin\":true,\"type\":\"pie\"}]},\"layout\":{\"autotypenumbers\":\"strict\",\"colorway\":[\"#636efa\",\"#EF553B\",\"#00cc96\",\"#ab63fa\",\"#FFA15A\",\"#19d3f3\",\"#FF6692\",\"#B6E880\",\"#FF97FF\",\"#FECB52\"],\"font\":{\"color\":\"#2a3f5f\"},\"hovermode\":\"closest\",\"hoverlabel\":{\"align\":\"left\"},\"paper_bgcolor\":\"white\",\"plot_bgcolor\":\"#E5ECF6\",\"polar\":{\"bgcolor\":\"#E5ECF6\",\"angularaxis\":{\"gridcolor\":\"white\",\"linecolor\":\"white\",\"ticks\":\"\"},\"radialaxis\":{\"gridcolor\":\"white\",\"linecolor\":\"white\",\"ticks\":\"\"}},\"ternary\":{\"bgcolor\":\"#E5ECF6\",\"aaxis\":{\"gridcolor\":\"white\",\"linecolor\":\"white\",\"ticks\":\"\"},\"baxis\":{\"gridcolor\":\"white\",\"linecolor\":\"white\",\"ticks\":\"\"},\"caxis\":{\"gridcolor\":\"white\",\"linecolor\":\"white\",\"ticks\":\"\"}},\"coloraxis\":{\"colorbar\":{\"outlinewidth\":0,\"ticks\":\"\"}},\"colorscale\":{\"sequential\":[[0.0,\"#0d0887\"],[0.1111111111111111,\"#46039f\"],[0.2222222222222222,\"#7201a8\"],[0.3333333333333333,\"#9c179e\"],[0.4444444444444444,\"#bd3786\"],[0.5555555555555556,\"#d8576b\"],[0.6666666666666666,\"#ed7953\"],[0.7777777777777778,\"#fb9f3a\"],[0.8888888888888888,\"#fdca26\"],[1.0,\"#f0f921\"]],\"sequentialminus\":[[0.0,\"#0d0887\"],[0.1111111111111111,\"#46039f\"],[0.2222222222222222,\"#7201a8\"],[0.3333333333333333,\"#9c179e\"],[0.4444444444444444,\"#bd3786\"],[0.5555555555555556,\"#d8576b\"],[0.6666666666666666,\"#ed7953\"],[0.7777777777777778,\"#fb9f3a\"],[0.8888888888888888,\"#fdca26\"],[1.0,\"#f0f921\"]],\"diverging\":[[0,\"#8e0152\"],[0.1,\"#c51b7d\"],[0.2,\"#de77ae\"],[0.3,\"#f1b6da\"],[0.4,\"#fde0ef\"],[0.5,\"#f7f7f7\"],[0.6,\"#e6f5d0\"],[0.7,\"#b8e186\"],[0.8,\"#7fbc41\"],[0.9,\"#4d9221\"],[1,\"#276419\"]]},\"xaxis\":{\"gridcolor\":\"white\",\"linecolor\":\"white\",\"ticks\":\"\",\"title\":{\"standoff\":15},\"zerolinecolor\":\"white\",\"automargin\":true,\"zerolinewidth\":2},\"yaxis\":{\"gridcolor\":\"white\",\"linecolor\":\"white\",\"ticks\":\"\",\"title\":{\"standoff\":15},\"zerolinecolor\":\"white\",\"automargin\":true,\"zerolinewidth\":2},\"scene\":{\"xaxis\":{\"backgroundcolor\":\"#E5ECF6\",\"gridcolor\":\"white\",\"linecolor\":\"white\",\"showbackground\":true,\"ticks\":\"\",\"zerolinecolor\":\"white\",\"gridwidth\":2},\"yaxis\":{\"backgroundcolor\":\"#E5ECF6\",\"gridcolor\":\"white\",\"linecolor\":\"white\",\"showbackground\":true,\"ticks\":\"\",\"zerolinecolor\":\"white\",\"gridwidth\":2},\"zaxis\":{\"backgroundcolor\":\"#E5ECF6\",\"gridcolor\":\"white\",\"linecolor\":\"white\",\"showbackground\":true,\"ticks\":\"\",\"zerolinecolor\":\"white\",\"gridwidth\":2}},\"shapedefaults\":{\"line\":{\"color\":\"#2a3f5f\"}},\"annotationdefaults\":{\"arrowcolor\":\"#2a3f5f\",\"arrowhead\":0,\"arrowwidth\":1},\"geo\":{\"bgcolor\":\"white\",\"landcolor\":\"#E5ECF6\",\"subunitcolor\":\"white\",\"showland\":true,\"showlakes\":true,\"lakecolor\":\"white\"},\"title\":{\"x\":0.05},\"mapbox\":{\"style\":\"light\"}}}},                        {\"responsive\": true}                    ).then(function(){\n",
       "                            \n",
       "var gd = document.getElementById('5cac1fe5-ba16-4591-970c-f8778368fdb7');\n",
       "var x = new MutationObserver(function (mutations, observer) {{\n",
       "        var display = window.getComputedStyle(gd).display;\n",
       "        if (!display || display === 'none') {{\n",
       "            console.log([gd, 'removed!']);\n",
       "            Plotly.purge(gd);\n",
       "            observer.disconnect();\n",
       "        }}\n",
       "}});\n",
       "\n",
       "// Listen for the removal of the full notebook cells\n",
       "var notebookContainer = gd.closest('#notebook-container');\n",
       "if (notebookContainer) {{\n",
       "    x.observe(notebookContainer, {childList: true});\n",
       "}}\n",
       "\n",
       "// Listen for the clearing of the current output cell\n",
       "var outputEl = gd.closest('.output');\n",
       "if (outputEl) {{\n",
       "    x.observe(outputEl, {childList: true});\n",
       "}}\n",
       "\n",
       "                        })                };                });            </script>        </div>"
      ]
     },
     "metadata": {},
     "output_type": "display_data"
    }
   ],
   "source": [
    "fig3 = go.Figure(data=[go.Table(\n",
    "    header=dict(values=list(datas3.columns),\n",
    "                fill_color='paleturquoise',\n",
    "                align='left'),\n",
    "    cells=dict(values=[datas3[\"Root cause category\"], datas3[\"Coverage by the miscellaneous reliability prediction  methodology\"]],\n",
    "               fill_color='lavender',\n",
    "               align='left'))\n",
    "])\n",
    "\n",
    "fig3.show()"
   ]
  },
  {
   "cell_type": "code",
   "execution_count": 17,
   "metadata": {},
   "outputs": [
    {
     "data": {
      "text/html": [
       "<div>\n",
       "<style scoped>\n",
       "    .dataframe tbody tr th:only-of-type {\n",
       "        vertical-align: middle;\n",
       "    }\n",
       "\n",
       "    .dataframe tbody tr th {\n",
       "        vertical-align: top;\n",
       "    }\n",
       "\n",
       "    .dataframe thead th {\n",
       "        text-align: right;\n",
       "    }\n",
       "</style>\n",
       "<table border=\"1\" class=\"dataframe\">\n",
       "  <thead>\n",
       "    <tr style=\"text-align: right;\">\n",
       "      <th></th>\n",
       "      <th>REF</th>\n",
       "      <th>EQUIPEMENT</th>\n",
       "      <th>FR  (fit) / %</th>\n",
       "      <th>POINT ESTIM.</th>\n",
       "      <th>QUALITY</th>\n",
       "      <th>MATURITY</th>\n",
       "      <th>TECHNOLOGY</th>\n",
       "      <th>COMPLEXITY</th>\n",
       "      <th>ORBIT</th>\n",
       "      <th>TÂ°</th>\n",
       "      <th>POWER</th>\n",
       "      <th>CYCLING</th>\n",
       "      <th>DUTY CYCLE</th>\n",
       "      <th>OTHER</th>\n",
       "      <th>WO</th>\n",
       "    </tr>\n",
       "  </thead>\n",
       "  <tbody>\n",
       "    <tr>\n",
       "      <th>0</th>\n",
       "      <td>RF â Radio Frequency</td>\n",
       "      <td>RF â Radio Frequency</td>\n",
       "      <td>RF â Radio Frequency</td>\n",
       "      <td>RF â Radio Frequency</td>\n",
       "      <td>RF â Radio Frequency</td>\n",
       "      <td>RF â Radio Frequency</td>\n",
       "      <td>RF â Radio Frequency</td>\n",
       "      <td>RF â Radio Frequency</td>\n",
       "      <td>RF â Radio Frequency</td>\n",
       "      <td>RF â Radio Frequency</td>\n",
       "      <td>RF â Radio Frequency</td>\n",
       "      <td>RF â Radio Frequency</td>\n",
       "      <td>RF â Radio Frequency</td>\n",
       "      <td>RF â Radio Frequency</td>\n",
       "      <td>RF â Radio Frequency</td>\n",
       "    </tr>\n",
       "    <tr>\n",
       "      <th>1</th>\n",
       "      <td>STD_001</td>\n",
       "      <td>TWTA, Single HPA  (refer to note 1)</td>\n",
       "      <td>200</td>\n",
       "      <td>NaN</td>\n",
       "      <td>HIGH</td>\n",
       "      <td>since 1990</td>\n",
       "      <td>HPA (TWTA)</td>\n",
       "      <td>TWTA complexity</td>\n",
       "      <td>GEO  LEO</td>\n",
       "      <td>30Â° C &lt; TÂ° &lt; 60Â°C</td>\n",
       "      <td>ALL</td>\n",
       "      <td>30Â° C &lt; TÂ° &lt; 60Â°C</td>\n",
       "      <td>ON  ON/OFF</td>\n",
       "      <td>All frequencies C, X, Ku, Ka, L</td>\n",
       "      <td>YES</td>\n",
       "    </tr>\n",
       "    <tr>\n",
       "      <th>2</th>\n",
       "      <td>STD_002</td>\n",
       "      <td>TWTA, Dual HPA</td>\n",
       "      <td>400</td>\n",
       "      <td>NaN</td>\n",
       "      <td>HIGH</td>\n",
       "      <td>since 1990</td>\n",
       "      <td>HPA (TWTA)</td>\n",
       "      <td>TWTA complexity</td>\n",
       "      <td>GEO  LEO</td>\n",
       "      <td>30Â° C &lt; TÂ° &lt; 60Â°C</td>\n",
       "      <td>ALL</td>\n",
       "      <td>30Â° C &lt; TÂ° &lt; 60Â°C</td>\n",
       "      <td>ON  ON/OFF</td>\n",
       "      <td>All frequencies C, X, Ku, Ka, L</td>\n",
       "      <td>YES</td>\n",
       "    </tr>\n",
       "    <tr>\n",
       "      <th>3</th>\n",
       "      <td>PWR - Power</td>\n",
       "      <td>PWR - Power</td>\n",
       "      <td>PWR - Power</td>\n",
       "      <td>PWR - Power</td>\n",
       "      <td>PWR - Power</td>\n",
       "      <td>PWR - Power</td>\n",
       "      <td>PWR - Power</td>\n",
       "      <td>PWR - Power</td>\n",
       "      <td>PWR - Power</td>\n",
       "      <td>PWR - Power</td>\n",
       "      <td>PWR - Power</td>\n",
       "      <td>PWR - Power</td>\n",
       "      <td>PWR - Power</td>\n",
       "      <td>PWR - Power</td>\n",
       "      <td>PWR - Power</td>\n",
       "    </tr>\n",
       "    <tr>\n",
       "      <th>4</th>\n",
       "      <td>STD_003</td>\n",
       "      <td>BATTERY CELL (GEO)</td>\n",
       "      <td>5</td>\n",
       "      <td>2</td>\n",
       "      <td>HIGH</td>\n",
       "      <td>since 2000</td>\n",
       "      <td>Li-Ion</td>\n",
       "      <td>X S - Y P  Z P- A S</td>\n",
       "      <td>GEO</td>\n",
       "      <td>0Â°C &lt; TÂ°C &lt; 20Â°C</td>\n",
       "      <td>NaN</td>\n",
       "      <td>n /a</td>\n",
       "      <td>100%</td>\n",
       "      <td>DoD &lt; 70%  V &lt; 50v</td>\n",
       "      <td>YES</td>\n",
       "    </tr>\n",
       "    <tr>\n",
       "      <th>5</th>\n",
       "      <td>STD_004</td>\n",
       "      <td>BATTERY CELL (LEO)</td>\n",
       "      <td>1</td>\n",
       "      <td>NaN</td>\n",
       "      <td>HIGH</td>\n",
       "      <td>since 2000</td>\n",
       "      <td>Li-Ion</td>\n",
       "      <td>18560</td>\n",
       "      <td>LEO</td>\n",
       "      <td>0Â°C &lt; TÂ°C &lt; 20Â°C</td>\n",
       "      <td>NaN</td>\n",
       "      <td>90mn</td>\n",
       "      <td>100%</td>\n",
       "      <td>DoD &lt; 70%  CID, PTC</td>\n",
       "      <td>YES</td>\n",
       "    </tr>\n",
       "    <tr>\n",
       "      <th>6</th>\n",
       "      <td>STD_005</td>\n",
       "      <td>SOLAR ARRAY CELL Si</td>\n",
       "      <td>015</td>\n",
       "      <td>NaN</td>\n",
       "      <td>HIGH</td>\n",
       "      <td>since 1990</td>\n",
       "      <td>Si</td>\n",
       "      <td>Triple-Junction</td>\n",
       "      <td>GEO  LEO</td>\n",
       "      <td>-100Â°C &lt; TÂ° &lt;100Â°C</td>\n",
       "      <td>NaN</td>\n",
       "      <td>NaN</td>\n",
       "      <td>NaN</td>\n",
       "      <td>NaN</td>\n",
       "      <td>YES</td>\n",
       "    </tr>\n",
       "    <tr>\n",
       "      <th>7</th>\n",
       "      <td>STD_006</td>\n",
       "      <td>SOLAR ARRAY CELL GaAs</td>\n",
       "      <td>015</td>\n",
       "      <td>NaN</td>\n",
       "      <td>HIGH</td>\n",
       "      <td>since 1991</td>\n",
       "      <td>GaAs</td>\n",
       "      <td>Triple-Junction</td>\n",
       "      <td>GEO  LEO</td>\n",
       "      <td>-100Â°C &lt; TÂ° &lt;100Â°C</td>\n",
       "      <td>NaN</td>\n",
       "      <td>NaN</td>\n",
       "      <td>NaN</td>\n",
       "      <td>NaN</td>\n",
       "      <td>YES</td>\n",
       "    </tr>\n",
       "    <tr>\n",
       "      <th>8</th>\n",
       "      <td>STD_007</td>\n",
       "      <td>SADM GEO</td>\n",
       "      <td>210</td>\n",
       "      <td>150</td>\n",
       "      <td>HIGH</td>\n",
       "      <td>since 1992</td>\n",
       "      <td>SlipRing</td>\n",
       "      <td>NaN</td>\n",
       "      <td>GEO</td>\n",
       "      <td>-100Â°C &lt; TÂ° &lt;100Â°C</td>\n",
       "      <td>some kW</td>\n",
       "      <td>NaN</td>\n",
       "      <td>100%</td>\n",
       "      <td>NaN</td>\n",
       "      <td>YES</td>\n",
       "    </tr>\n",
       "    <tr>\n",
       "      <th>9</th>\n",
       "      <td>STD_008</td>\n",
       "      <td>SADM LEO</td>\n",
       "      <td>213</td>\n",
       "      <td>105</td>\n",
       "      <td>HIGH</td>\n",
       "      <td>since 1992</td>\n",
       "      <td>SlipRing</td>\n",
       "      <td>NaN</td>\n",
       "      <td>LEO</td>\n",
       "      <td>-100Â°C &lt; TÂ° &lt;100Â°C</td>\n",
       "      <td>some kW</td>\n",
       "      <td>NaN</td>\n",
       "      <td>100%</td>\n",
       "      <td>NaN</td>\n",
       "      <td>YES</td>\n",
       "    </tr>\n",
       "    <tr>\n",
       "      <th>10</th>\n",
       "      <td>PROP - Propulsion</td>\n",
       "      <td>PROP - Propulsion</td>\n",
       "      <td>PROP - Propulsion</td>\n",
       "      <td>PROP - Propulsion</td>\n",
       "      <td>PROP - Propulsion</td>\n",
       "      <td>PROP - Propulsion</td>\n",
       "      <td>PROP - Propulsion</td>\n",
       "      <td>PROP - Propulsion</td>\n",
       "      <td>PROP - Propulsion</td>\n",
       "      <td>PROP - Propulsion</td>\n",
       "      <td>PROP - Propulsion</td>\n",
       "      <td>PROP - Propulsion</td>\n",
       "      <td>PROP - Propulsion</td>\n",
       "      <td>PROP - Propulsion</td>\n",
       "      <td>PROP - Propulsion</td>\n",
       "    </tr>\n",
       "    <tr>\n",
       "      <th>11</th>\n",
       "      <td>STD_009</td>\n",
       "      <td>THRUSTER</td>\n",
       "      <td>82</td>\n",
       "      <td>71</td>\n",
       "      <td>HIGH</td>\n",
       "      <td>since 1990</td>\n",
       "      <td>Cold gas  Hot gas</td>\n",
       "      <td>1N â 10N</td>\n",
       "      <td>GEO  LEO</td>\n",
       "      <td>NaN</td>\n",
       "      <td>NaN</td>\n",
       "      <td>ALL</td>\n",
       "      <td>from low to high rate</td>\n",
       "      <td>NaN</td>\n",
       "      <td>YES</td>\n",
       "    </tr>\n",
       "    <tr>\n",
       "      <th>12</th>\n",
       "      <td>STD_010</td>\n",
       "      <td>TANK TUBING (SPF)</td>\n",
       "      <td>3,27%</td>\n",
       "      <td>2,4%</td>\n",
       "      <td>HIGH</td>\n",
       "      <td>since 2000</td>\n",
       "      <td>Ti  Al</td>\n",
       "      <td>PIPING</td>\n",
       "      <td>GEO  LEO</td>\n",
       "      <td>NaN</td>\n",
       "      <td>NaN</td>\n",
       "      <td>NaN</td>\n",
       "      <td>NaN</td>\n",
       "      <td>MEOP up to 200bars</td>\n",
       "      <td>NO</td>\n",
       "    </tr>\n",
       "    <tr>\n",
       "      <th>13</th>\n",
       "      <td>AOCS â Attitude and Orbit Control System</td>\n",
       "      <td>AOCS â Attitude and Orbit Control System</td>\n",
       "      <td>AOCS â Attitude and Orbit Control System</td>\n",
       "      <td>AOCS â Attitude and Orbit Control System</td>\n",
       "      <td>AOCS â Attitude and Orbit Control System</td>\n",
       "      <td>AOCS â Attitude and Orbit Control System</td>\n",
       "      <td>AOCS â Attitude and Orbit Control System</td>\n",
       "      <td>AOCS â Attitude and Orbit Control System</td>\n",
       "      <td>AOCS â Attitude and Orbit Control System</td>\n",
       "      <td>AOCS â Attitude and Orbit Control System</td>\n",
       "      <td>AOCS â Attitude and Orbit Control System</td>\n",
       "      <td>AOCS â Attitude and Orbit Control System</td>\n",
       "      <td>AOCS â Attitude and Orbit Control System</td>\n",
       "      <td>AOCS â Attitude and Orbit Control System</td>\n",
       "      <td>AOCS â Attitude and Orbit Control System</td>\n",
       "    </tr>\n",
       "    <tr>\n",
       "      <th>14</th>\n",
       "      <td>STD_011</td>\n",
       "      <td>RW GEO</td>\n",
       "      <td>250</td>\n",
       "      <td>205</td>\n",
       "      <td>HIGH</td>\n",
       "      <td>since 1990</td>\n",
       "      <td>bearing  magnetic</td>\n",
       "      <td>NaN</td>\n",
       "      <td>GEO</td>\n",
       "      <td>-30Â° C &lt; TÂ° &lt; 80Â°C</td>\n",
       "      <td>NaN</td>\n",
       "      <td>NaN</td>\n",
       "      <td>100%</td>\n",
       "      <td>REACTION  MOMENUM</td>\n",
       "      <td>YES</td>\n",
       "    </tr>\n",
       "    <tr>\n",
       "      <th>15</th>\n",
       "      <td>STD_012</td>\n",
       "      <td>RW LEO</td>\n",
       "      <td>140</td>\n",
       "      <td>112</td>\n",
       "      <td>HIGH</td>\n",
       "      <td>Since 1990</td>\n",
       "      <td>Bearing  magnetic</td>\n",
       "      <td>NaN</td>\n",
       "      <td>LEO</td>\n",
       "      <td>-30Â° C &lt; TÂ° &lt; 80Â°C</td>\n",
       "      <td>NaN</td>\n",
       "      <td>NaN</td>\n",
       "      <td>100%</td>\n",
       "      <td>REACTION  MOMENTUM</td>\n",
       "      <td>YES</td>\n",
       "    </tr>\n",
       "    <tr>\n",
       "      <th>16</th>\n",
       "      <td>DEP - Deployment</td>\n",
       "      <td>DEP - Deployment</td>\n",
       "      <td>DEP - Deployment</td>\n",
       "      <td>DEP - Deployment</td>\n",
       "      <td>DEP - Deployment</td>\n",
       "      <td>DEP - Deployment</td>\n",
       "      <td>DEP - Deployment</td>\n",
       "      <td>DEP - Deployment</td>\n",
       "      <td>DEP - Deployment</td>\n",
       "      <td>DEP - Deployment</td>\n",
       "      <td>DEP - Deployment</td>\n",
       "      <td>DEP - Deployment</td>\n",
       "      <td>DEP - Deployment</td>\n",
       "      <td>DEP - Deployment</td>\n",
       "      <td>DEP - Deployment</td>\n",
       "    </tr>\n",
       "    <tr>\n",
       "      <th>17</th>\n",
       "      <td>STD_013</td>\n",
       "      <td>DEPLOYMENT DEVICE Antenna</td>\n",
       "      <td>0,2%</td>\n",
       "      <td>NaN</td>\n",
       "      <td>HIGH</td>\n",
       "      <td>since 1990</td>\n",
       "      <td>hinge</td>\n",
       "      <td>NaN</td>\n",
       "      <td>GEO  LEO</td>\n",
       "      <td>NaN</td>\n",
       "      <td>NaN</td>\n",
       "      <td>NaN</td>\n",
       "      <td>one-shot</td>\n",
       "      <td>NaN</td>\n",
       "      <td>no</td>\n",
       "    </tr>\n",
       "    <tr>\n",
       "      <th>18</th>\n",
       "      <td>STD_014</td>\n",
       "      <td>DEPLOYMENT DEVICE Solar Array</td>\n",
       "      <td>0,3%</td>\n",
       "      <td>NaN</td>\n",
       "      <td>HIGH</td>\n",
       "      <td>since 1990</td>\n",
       "      <td>hinge</td>\n",
       "      <td>NaN</td>\n",
       "      <td>GEO  LEO</td>\n",
       "      <td>NaN</td>\n",
       "      <td>NaN</td>\n",
       "      <td>NaN</td>\n",
       "      <td>one-shot</td>\n",
       "      <td>NaN</td>\n",
       "      <td>no</td>\n",
       "    </tr>\n",
       "  </tbody>\n",
       "</table>\n",
       "</div>"
      ],
      "text/plain": [
       "                                           REF  \\\n",
       "0                       RF â Radio Frequency   \n",
       "1                                      STD_001   \n",
       "2                                      STD_002   \n",
       "3                                  PWR - Power   \n",
       "4                                      STD_003   \n",
       "5                                      STD_004   \n",
       "6                                      STD_005   \n",
       "7                                      STD_006   \n",
       "8                                      STD_007   \n",
       "9                                      STD_008   \n",
       "10                           PROP - Propulsion   \n",
       "11                                     STD_009   \n",
       "12                                     STD_010   \n",
       "13  AOCS â Attitude and Orbit Control System   \n",
       "14                                     STD_011   \n",
       "15                                     STD_012   \n",
       "16                            DEP - Deployment   \n",
       "17                                     STD_013   \n",
       "18                                     STD_014   \n",
       "\n",
       "                                    EQUIPEMENT  \\\n",
       "0                       RF â Radio Frequency   \n",
       "1          TWTA, Single HPA  (refer to note 1)   \n",
       "2                               TWTA, Dual HPA   \n",
       "3                                  PWR - Power   \n",
       "4                           BATTERY CELL (GEO)   \n",
       "5                           BATTERY CELL (LEO)   \n",
       "6                          SOLAR ARRAY CELL Si   \n",
       "7                        SOLAR ARRAY CELL GaAs   \n",
       "8                                     SADM GEO   \n",
       "9                                     SADM LEO   \n",
       "10                           PROP - Propulsion   \n",
       "11                                    THRUSTER   \n",
       "12                           TANK TUBING (SPF)   \n",
       "13  AOCS â Attitude and Orbit Control System   \n",
       "14                                      RW GEO   \n",
       "15                                      RW LEO   \n",
       "16                            DEP - Deployment   \n",
       "17                   DEPLOYMENT DEVICE Antenna   \n",
       "18               DEPLOYMENT DEVICE Solar Array   \n",
       "\n",
       "                                 FR  (fit) / %  \\\n",
       "0                       RF â Radio Frequency   \n",
       "1                                          200   \n",
       "2                                          400   \n",
       "3                                  PWR - Power   \n",
       "4                                            5   \n",
       "5                                            1   \n",
       "6                                          015   \n",
       "7                                          015   \n",
       "8                                          210   \n",
       "9                                          213   \n",
       "10                           PROP - Propulsion   \n",
       "11                                          82   \n",
       "12                                       3,27%   \n",
       "13  AOCS â Attitude and Orbit Control System   \n",
       "14                                         250   \n",
       "15                                         140   \n",
       "16                            DEP - Deployment   \n",
       "17                                        0,2%   \n",
       "18                                        0,3%   \n",
       "\n",
       "                                  POINT ESTIM.  \\\n",
       "0                       RF â Radio Frequency   \n",
       "1                                          NaN   \n",
       "2                                          NaN   \n",
       "3                                  PWR - Power   \n",
       "4                                            2   \n",
       "5                                          NaN   \n",
       "6                                          NaN   \n",
       "7                                          NaN   \n",
       "8                                          150   \n",
       "9                                          105   \n",
       "10                           PROP - Propulsion   \n",
       "11                                          71   \n",
       "12                                        2,4%   \n",
       "13  AOCS â Attitude and Orbit Control System   \n",
       "14                                         205   \n",
       "15                                         112   \n",
       "16                            DEP - Deployment   \n",
       "17                                         NaN   \n",
       "18                                         NaN   \n",
       "\n",
       "                                       QUALITY  \\\n",
       "0                       RF â Radio Frequency   \n",
       "1                                         HIGH   \n",
       "2                                         HIGH   \n",
       "3                                  PWR - Power   \n",
       "4                                         HIGH   \n",
       "5                                         HIGH   \n",
       "6                                         HIGH   \n",
       "7                                         HIGH   \n",
       "8                                         HIGH   \n",
       "9                                         HIGH   \n",
       "10                           PROP - Propulsion   \n",
       "11                                        HIGH   \n",
       "12                                        HIGH   \n",
       "13  AOCS â Attitude and Orbit Control System   \n",
       "14                                        HIGH   \n",
       "15                                        HIGH   \n",
       "16                            DEP - Deployment   \n",
       "17                                        HIGH   \n",
       "18                                        HIGH   \n",
       "\n",
       "                                      MATURITY  \\\n",
       "0                       RF â Radio Frequency   \n",
       "1                                   since 1990   \n",
       "2                                   since 1990   \n",
       "3                                  PWR - Power   \n",
       "4                                   since 2000   \n",
       "5                                   since 2000   \n",
       "6                                   since 1990   \n",
       "7                                   since 1991   \n",
       "8                                   since 1992   \n",
       "9                                   since 1992   \n",
       "10                           PROP - Propulsion   \n",
       "11                                  since 1990   \n",
       "12                                  since 2000   \n",
       "13  AOCS â Attitude and Orbit Control System   \n",
       "14                                  since 1990   \n",
       "15                                  Since 1990   \n",
       "16                            DEP - Deployment   \n",
       "17                                  since 1990   \n",
       "18                                  since 1990   \n",
       "\n",
       "                                    TECHNOLOGY  \\\n",
       "0                       RF â Radio Frequency   \n",
       "1                                   HPA (TWTA)   \n",
       "2                                   HPA (TWTA)   \n",
       "3                                  PWR - Power   \n",
       "4                                       Li-Ion   \n",
       "5                                       Li-Ion   \n",
       "6                                           Si   \n",
       "7                                         GaAs   \n",
       "8                                     SlipRing   \n",
       "9                                     SlipRing   \n",
       "10                           PROP - Propulsion   \n",
       "11                           Cold gas  Hot gas   \n",
       "12                                      Ti  Al   \n",
       "13  AOCS â Attitude and Orbit Control System   \n",
       "14                           bearing  magnetic   \n",
       "15                           Bearing  magnetic   \n",
       "16                            DEP - Deployment   \n",
       "17                                       hinge   \n",
       "18                                       hinge   \n",
       "\n",
       "                                    COMPLEXITY  \\\n",
       "0                       RF â Radio Frequency   \n",
       "1                              TWTA complexity   \n",
       "2                              TWTA complexity   \n",
       "3                                  PWR - Power   \n",
       "4                          X S - Y P  Z P- A S   \n",
       "5                                        18560   \n",
       "6                              Triple-Junction   \n",
       "7                              Triple-Junction   \n",
       "8                                          NaN   \n",
       "9                                          NaN   \n",
       "10                           PROP - Propulsion   \n",
       "11                                  1N â 10N   \n",
       "12                                      PIPING   \n",
       "13  AOCS â Attitude and Orbit Control System   \n",
       "14                                         NaN   \n",
       "15                                         NaN   \n",
       "16                            DEP - Deployment   \n",
       "17                                         NaN   \n",
       "18                                         NaN   \n",
       "\n",
       "                                         ORBIT  \\\n",
       "0                       RF â Radio Frequency   \n",
       "1                                     GEO  LEO   \n",
       "2                                     GEO  LEO   \n",
       "3                                  PWR - Power   \n",
       "4                                          GEO   \n",
       "5                                          LEO   \n",
       "6                                     GEO  LEO   \n",
       "7                                     GEO  LEO   \n",
       "8                                          GEO   \n",
       "9                                          LEO   \n",
       "10                           PROP - Propulsion   \n",
       "11                                    GEO  LEO   \n",
       "12                                    GEO  LEO   \n",
       "13  AOCS â Attitude and Orbit Control System   \n",
       "14                                         GEO   \n",
       "15                                         LEO   \n",
       "16                            DEP - Deployment   \n",
       "17                                    GEO  LEO   \n",
       "18                                    GEO  LEO   \n",
       "\n",
       "                                           TÂ°  \\\n",
       "0                       RF â Radio Frequency   \n",
       "1                         30Â° C < TÂ° < 60Â°C   \n",
       "2                         30Â° C < TÂ° < 60Â°C   \n",
       "3                                  PWR - Power   \n",
       "4                          0Â°C < TÂ°C < 20Â°C   \n",
       "5                          0Â°C < TÂ°C < 20Â°C   \n",
       "6                        -100Â°C < TÂ° <100Â°C   \n",
       "7                        -100Â°C < TÂ° <100Â°C   \n",
       "8                        -100Â°C < TÂ° <100Â°C   \n",
       "9                        -100Â°C < TÂ° <100Â°C   \n",
       "10                           PROP - Propulsion   \n",
       "11                                         NaN   \n",
       "12                                         NaN   \n",
       "13  AOCS â Attitude and Orbit Control System   \n",
       "14                       -30Â° C < TÂ° < 80Â°C   \n",
       "15                       -30Â° C < TÂ° < 80Â°C   \n",
       "16                            DEP - Deployment   \n",
       "17                                         NaN   \n",
       "18                                         NaN   \n",
       "\n",
       "                                         POWER  \\\n",
       "0                       RF â Radio Frequency   \n",
       "1                                          ALL   \n",
       "2                                          ALL   \n",
       "3                                  PWR - Power   \n",
       "4                                          NaN   \n",
       "5                                          NaN   \n",
       "6                                          NaN   \n",
       "7                                          NaN   \n",
       "8                                      some kW   \n",
       "9                                      some kW   \n",
       "10                           PROP - Propulsion   \n",
       "11                                         NaN   \n",
       "12                                         NaN   \n",
       "13  AOCS â Attitude and Orbit Control System   \n",
       "14                                         NaN   \n",
       "15                                         NaN   \n",
       "16                            DEP - Deployment   \n",
       "17                                         NaN   \n",
       "18                                         NaN   \n",
       "\n",
       "                                       CYCLING  \\\n",
       "0                       RF â Radio Frequency   \n",
       "1                         30Â° C < TÂ° < 60Â°C   \n",
       "2                         30Â° C < TÂ° < 60Â°C   \n",
       "3                                  PWR - Power   \n",
       "4                                         n /a   \n",
       "5                                         90mn   \n",
       "6                                          NaN   \n",
       "7                                          NaN   \n",
       "8                                          NaN   \n",
       "9                                          NaN   \n",
       "10                           PROP - Propulsion   \n",
       "11                                         ALL   \n",
       "12                                         NaN   \n",
       "13  AOCS â Attitude and Orbit Control System   \n",
       "14                                         NaN   \n",
       "15                                         NaN   \n",
       "16                            DEP - Deployment   \n",
       "17                                         NaN   \n",
       "18                                         NaN   \n",
       "\n",
       "                                    DUTY CYCLE  \\\n",
       "0                       RF â Radio Frequency   \n",
       "1                                   ON  ON/OFF   \n",
       "2                                   ON  ON/OFF   \n",
       "3                                  PWR - Power   \n",
       "4                                         100%   \n",
       "5                                         100%   \n",
       "6                                          NaN   \n",
       "7                                          NaN   \n",
       "8                                         100%   \n",
       "9                                         100%   \n",
       "10                           PROP - Propulsion   \n",
       "11                       from low to high rate   \n",
       "12                                         NaN   \n",
       "13  AOCS â Attitude and Orbit Control System   \n",
       "14                                        100%   \n",
       "15                                        100%   \n",
       "16                            DEP - Deployment   \n",
       "17                                    one-shot   \n",
       "18                                    one-shot   \n",
       "\n",
       "                                         OTHER  \\\n",
       "0                       RF â Radio Frequency   \n",
       "1              All frequencies C, X, Ku, Ka, L   \n",
       "2              All frequencies C, X, Ku, Ka, L   \n",
       "3                                  PWR - Power   \n",
       "4                           DoD < 70%  V < 50v   \n",
       "5                          DoD < 70%  CID, PTC   \n",
       "6                                          NaN   \n",
       "7                                          NaN   \n",
       "8                                          NaN   \n",
       "9                                          NaN   \n",
       "10                           PROP - Propulsion   \n",
       "11                                         NaN   \n",
       "12                          MEOP up to 200bars   \n",
       "13  AOCS â Attitude and Orbit Control System   \n",
       "14                           REACTION  MOMENUM   \n",
       "15                          REACTION  MOMENTUM   \n",
       "16                            DEP - Deployment   \n",
       "17                                         NaN   \n",
       "18                                         NaN   \n",
       "\n",
       "                                            WO  \n",
       "0                       RF â Radio Frequency  \n",
       "1                                          YES  \n",
       "2                                          YES  \n",
       "3                                  PWR - Power  \n",
       "4                                          YES  \n",
       "5                                          YES  \n",
       "6                                          YES  \n",
       "7                                          YES  \n",
       "8                                          YES  \n",
       "9                                          YES  \n",
       "10                           PROP - Propulsion  \n",
       "11                                         YES  \n",
       "12                                          NO  \n",
       "13  AOCS â Attitude and Orbit Control System  \n",
       "14                                         YES  \n",
       "15                                         YES  \n",
       "16                            DEP - Deployment  \n",
       "17                                          no  \n",
       "18                                          no  "
      ]
     },
     "metadata": {
      "scrapbook": {
       "mime_prefix": "",
       "name": "table4_8"
      }
     },
     "output_type": "display_data"
    }
   ],
   "source": [
    "df8 = pd.read_html(\"table4_8.html\")\n",
    "datas8 = pd.DataFrame(df8[0])\n",
    "glue(\"table4_8\",datas8)"
   ]
  },
  {
   "cell_type": "code",
   "execution_count": 18,
   "metadata": {},
   "outputs": [
    {
     "data": {
      "text/html": [
       "<div>\n",
       "<style scoped>\n",
       "    .dataframe tbody tr th:only-of-type {\n",
       "        vertical-align: middle;\n",
       "    }\n",
       "\n",
       "    .dataframe tbody tr th {\n",
       "        vertical-align: top;\n",
       "    }\n",
       "\n",
       "    .dataframe thead th {\n",
       "        text-align: right;\n",
       "    }\n",
       "</style>\n",
       "<table border=\"1\" class=\"dataframe\">\n",
       "  <thead>\n",
       "    <tr style=\"text-align: right;\">\n",
       "      <th></th>\n",
       "      <th>Column</th>\n",
       "      <th>Description</th>\n",
       "      <th>Remark</th>\n",
       "    </tr>\n",
       "  </thead>\n",
       "  <tbody>\n",
       "    <tr>\n",
       "      <th>0</th>\n",
       "      <td>REF</td>\n",
       "      <td>Identifies the miscellaneous item</td>\n",
       "      <td>NaN</td>\n",
       "    </tr>\n",
       "    <tr>\n",
       "      <th>1</th>\n",
       "      <td>EQUIPMENT</td>\n",
       "      <td>Name of the item</td>\n",
       "      <td>NaN</td>\n",
       "    </tr>\n",
       "    <tr>\n",
       "      <th>2</th>\n",
       "      <td>FR</td>\n",
       "      <td>Depending on the model either a constant Failu...</td>\n",
       "      <td>Constant failure rate @60% LoC (Chi Square) or...</td>\n",
       "    </tr>\n",
       "    <tr>\n",
       "      <th>3</th>\n",
       "      <td>POINT ESTIMATE</td>\n",
       "      <td>When relevant - observed failure(s) â point ...</td>\n",
       "      <td>NaN</td>\n",
       "    </tr>\n",
       "    <tr>\n",
       "      <th>4</th>\n",
       "      <td>QUALITY</td>\n",
       "      <td>Level of quality used to define the âstandar...</td>\n",
       "      <td>HIGH, MEDIUM, LOW</td>\n",
       "    </tr>\n",
       "    <tr>\n",
       "      <th>5</th>\n",
       "      <td>MATURITY</td>\n",
       "      <td>Indicates the level of maturity, generally bas...</td>\n",
       "      <td>NaN</td>\n",
       "    </tr>\n",
       "    <tr>\n",
       "      <th>6</th>\n",
       "      <td>TECHNOLOGY</td>\n",
       "      <td>Indicates when relevant which technology is co...</td>\n",
       "      <td>NaN</td>\n",
       "    </tr>\n",
       "    <tr>\n",
       "      <th>7</th>\n",
       "      <td>COMPLEXITY</td>\n",
       "      <td>Indicates when relevant the level of complexity</td>\n",
       "      <td>NaN</td>\n",
       "    </tr>\n",
       "    <tr>\n",
       "      <th>8</th>\n",
       "      <td>ORBIT</td>\n",
       "      <td>Indicates which orbit is relevant to the âst...</td>\n",
       "      <td>LEO, GEO</td>\n",
       "    </tr>\n",
       "    <tr>\n",
       "      <th>9</th>\n",
       "      <td>TÂ°</td>\n",
       "      <td>Indicates the range of TÂ° when TÂ° has to be ...</td>\n",
       "      <td>NaN</td>\n",
       "    </tr>\n",
       "    <tr>\n",
       "      <th>10</th>\n",
       "      <td>POWER</td>\n",
       "      <td>Indicates the range of Power when Power has to...</td>\n",
       "      <td>NaN</td>\n",
       "    </tr>\n",
       "    <tr>\n",
       "      <th>11</th>\n",
       "      <td>CYCLING</td>\n",
       "      <td>Indicates the fact that cycling is a contribut...</td>\n",
       "      <td>NaN</td>\n",
       "    </tr>\n",
       "    <tr>\n",
       "      <th>12</th>\n",
       "      <td>DUTY CYCLE</td>\n",
       "      <td>The percentage of time during which the item i...</td>\n",
       "      <td>NaN</td>\n",
       "    </tr>\n",
       "    <tr>\n",
       "      <th>13</th>\n",
       "      <td>OTHER</td>\n",
       "      <td>Any other parameters or data to be considered</td>\n",
       "      <td>NaN</td>\n",
       "    </tr>\n",
       "    <tr>\n",
       "      <th>14</th>\n",
       "      <td>WO</td>\n",
       "      <td>Wear-Out is to be considered when âYESâ</td>\n",
       "      <td>NaN</td>\n",
       "    </tr>\n",
       "  </tbody>\n",
       "</table>\n",
       "</div>"
      ],
      "text/plain": [
       "            Column                                        Description  \\\n",
       "0              REF                  Identifies the miscellaneous item   \n",
       "1        EQUIPMENT                                   Name of the item   \n",
       "2               FR  Depending on the model either a constant Failu...   \n",
       "3   POINT ESTIMATE  When relevant - observed failure(s) â point ...   \n",
       "4          QUALITY  Level of quality used to define the âstandar...   \n",
       "5         MATURITY  Indicates the level of maturity, generally bas...   \n",
       "6       TECHNOLOGY  Indicates when relevant which technology is co...   \n",
       "7       COMPLEXITY    Indicates when relevant the level of complexity   \n",
       "8            ORBIT  Indicates which orbit is relevant to the âst...   \n",
       "9              TÂ°  Indicates the range of TÂ° when TÂ° has to be ...   \n",
       "10           POWER  Indicates the range of Power when Power has to...   \n",
       "11         CYCLING  Indicates the fact that cycling is a contribut...   \n",
       "12      DUTY CYCLE  The percentage of time during which the item i...   \n",
       "13           OTHER      Any other parameters or data to be considered   \n",
       "14              WO        Wear-Out is to be considered when âYESâ   \n",
       "\n",
       "                                               Remark  \n",
       "0                                                 NaN  \n",
       "1                                                 NaN  \n",
       "2   Constant failure rate @60% LoC (Chi Square) or...  \n",
       "3                                                 NaN  \n",
       "4                                   HIGH, MEDIUM, LOW  \n",
       "5                                                 NaN  \n",
       "6                                                 NaN  \n",
       "7                                                 NaN  \n",
       "8                                            LEO, GEO  \n",
       "9                                                 NaN  \n",
       "10                                                NaN  \n",
       "11                                                NaN  \n",
       "12                                                NaN  \n",
       "13                                                NaN  \n",
       "14                                                NaN  "
      ]
     },
     "metadata": {
      "scrapbook": {
       "mime_prefix": "",
       "name": "table4_7"
      }
     },
     "output_type": "display_data"
    }
   ],
   "source": [
    "df7 = pd.read_html(\"table4_7.html\")\n",
    "datas7 = pd.DataFrame(df7[0])\n",
    "glue(\"table4_7\",datas7)"
   ]
  },
  {
   "cell_type": "markdown",
   "metadata": {},
   "source": [
    "### Salut\n",
    "\n",
    "```{note}\n",
    "hgyguyg\n",
    "```"
   ]
  },
  {
   "cell_type": "code",
   "execution_count": 1,
   "metadata": {},
   "outputs": [
    {
     "name": "stdout",
     "output_type": "stream",
     "text": [
      "hello\n"
     ]
    }
   ],
   "source": [
    "print(\"hello\")"
   ]
  },
  {
   "cell_type": "code",
   "execution_count": null,
   "metadata": {},
   "outputs": [],
   "source": []
  }
 ],
 "metadata": {
  "interpreter": {
   "hash": "b3ba2566441a7c06988d0923437866b63cedc61552a5af99d1f4fb67d367b25f"
  },
  "kernelspec": {
   "display_name": "Python 3 (ipykernel)",
   "language": "python",
   "name": "python3"
  },
  "language_info": {
   "codemirror_mode": {
    "name": "ipython",
    "version": 3
   },
   "file_extension": ".py",
   "mimetype": "text/x-python",
   "name": "python",
   "nbconvert_exporter": "python",
   "pygments_lexer": "ipython3",
   "version": "3.8.10"
  }
 },
 "nbformat": 4,
 "nbformat_minor": 2
}
