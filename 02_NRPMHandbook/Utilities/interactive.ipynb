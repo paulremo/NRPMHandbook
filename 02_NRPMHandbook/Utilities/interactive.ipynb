{
 "cells": [
  {
   "cell_type": "markdown",
   "id": "5ff83f3e",
   "metadata": {},
   "source": [
    "# Soil lubricant wear model\n",
    "\n",
    "```{note}\n",
    "To run the interactive reliability prediction on this page, click the {fa}`rocket` --> {guilabel}`Live Code` botton on the top of the page. Wait a few seconds until the Kernel has loaded and run the cell below with {guilabel}`Run`.\n",
    "```\n",
    "\n",
    "## Model description\n",
    "\n",
    "Solid lubricant wear modelling is described taking example in a ball bearing. The modelling is applicable to other cases of solid lubricant wear, however, the number of revolution has to be substituted with another measure of sliding distance. \n",
    "For solid lubricant reservoir wear (e.g. cage of a ball bearing), the limit state function for the adhesive wear model is formulated as follows:\n",
    "\n",
    "$g\\left( {\\bf{X}} \\right) = {V_{{\\text{lim}}}} - \\Theta  \\sum\\limits_{i = 1}^{{n_p}} {{K_{H,i}} {\\alpha _i} r_i}$\n",
    "\n",
    "Where $\\alpha$ denotes the average work of ball/cage interaction forces per revolution and $r_i$ the number of revolutions in time interval $i$ . The parameter $\\alpha$ will typically be estimated from tests and is, thus dependent on the wear rate $K_H$, which is used to estimate $\\alpha$ from the test results. Therefore, $K_H$ cannot be taken out of the sum.\n",
    "\n",
    "The following calculation is done by using First Order Reliability Analysis (FORM) for one time interval i=1.\n",
    "\n",
    "## Interactive reliability prediction\n",
    "\n",
    "The input variables of the reliability analysis are:\n",
    "- Limiting value (worn volume), $V_{\\text{lim}}$ $[m^3]$, described by: Mean Value, Coefficient of Variation and Distribution\n",
    "- Specific wear rate, $K_H$ $[Pa^{-1}=m^2/N]$ , described by: Mean Value, Coefficient of Variation and Distribution\n",
    "- Ball-cage interaction, $\\alpha$ $[N/m]$ , described by: Mean Value, Coefficient of Variation and Distribution\n",
    "- Model uncertainty, $\\Theta$ $[-]$ , described by: Mean Value, Coefficient of Variation, Lognomal distribution\n",
    "- Nominal number of revolutions, $r$ $[ \\# ]$, described by: Integer Value\n",
    "- Average number of revolution per hour $r_h$ (for plotting only) \n",
    "\n",
    "$$\n",
    "\\sum_{i\\in I} x_i^2\n",
    "$$"
   ]
  },
  {
   "cell_type": "code",
   "execution_count": 3,
   "id": "f241b1d5-0047-4063-83ac-68b90a366dbf",
   "metadata": {
    "tags": [
     "thebe-init",
     "hide-input"
    ]
   },
   "outputs": [
    {
     "data": {
      "application/vnd.jupyter.widget-view+json": {
       "model_id": "7a303179b88c4b8591640a989f7ae054",
       "version_major": 2,
       "version_minor": 0
      },
      "text/plain": [
       "HBox(children=(VBox(children=(Dropdown(description='Dist $V_{\\\\text{lim}}$', index=2, options=('LogNormal', 'N…"
      ]
     },
     "metadata": {},
     "output_type": "display_data"
    },
    {
     "data": {
      "application/vnd.jupyter.widget-view+json": {
       "model_id": "fd609db7214141c8a46816f315838f9f",
       "version_major": 2,
       "version_minor": 0
      },
      "text/plain": [
       "Output()"
      ]
     },
     "metadata": {},
     "output_type": "display_data"
    }
   ],
   "source": [
    "from nrpmint.booktools import solid_lubricant_wear\n",
    "\n",
    "# start the web user-interface\n",
    "solid_lubricant_wear.web_ui()"
   ]
  }
 ],
 "metadata": {
  "celltoolbar": "Tags",
  "kernelspec": {
   "display_name": "Python 3 (ipykernel)",
   "language": "python",
   "name": "python3"
  },
  "language_info": {
   "codemirror_mode": {
    "name": "ipython",
    "version": 3
   },
   "file_extension": ".py",
   "mimetype": "text/x-python",
   "name": "python",
   "nbconvert_exporter": "python",
   "pygments_lexer": "ipython3",
   "version": "3.7.13"
  },
  "widgets": {
   "state": {
    "22ea00fffbee4f46961dd5ea7ffcf700": {
     "views": [
      {
       "cell_index": 11
      }
     ]
    },
    "2de67b7b7a1447edbc0e91aa70c76648": {
     "views": [
      {
       "cell_index": 8
      }
     ]
    },
    "524b148e79714d0dbe85485c1ff51f38": {
     "views": [
      {
       "cell_index": 24
      }
     ]
    },
    "7366de862a02405fab8fc32adcadb0d3": {
     "views": [
      {
       "cell_index": 8
      }
     ]
    },
    "7cb3f3570a3b4ecaa0317fca906f6abb": {
     "views": [
      {
       "cell_index": 17
      }
     ]
    },
    "86de5981dec240c28a1ac069cbaf2935": {
     "views": [
      {
       "cell_index": 13
      }
     ]
    },
    "8e31192019484534b83183be86d5d316": {
     "views": [
      {
       "cell_index": 8
      }
     ]
    },
    "974421a2c12f4c628466219075447458": {
     "views": [
      {
       "cell_index": 13
      }
     ]
    },
    "974d69c13fe948cfaf5fb8e388bbcbdc": {
     "views": [
      {
       "cell_index": 13
      }
     ]
    },
    "b23ba940214141e9900a3070a4117cd0": {
     "views": [
      {
       "cell_index": 15
      }
     ]
    },
    "b72b8a684f194743aebb0c094994b447": {
     "views": [
      {
       "cell_index": 11
      }
     ]
    },
    "bb484098f3674f578934e2f2860f0db5": {
     "views": [
      {
       "cell_index": 15
      }
     ]
    },
    "c3543ef432744b7c99453496c0fac9cf": {
     "views": [
      {
       "cell_index": 11
      }
     ]
    },
    "dc537f8822cd4909bf69bdbfbb7b6e5a": {
     "views": [
      {
       "cell_index": 15
      }
     ]
    }
   },
   "version": "1.2.0"
  }
 },
 "nbformat": 4,
 "nbformat_minor": 5
}
