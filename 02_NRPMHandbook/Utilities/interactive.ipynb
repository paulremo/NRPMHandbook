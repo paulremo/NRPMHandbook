{
 "cells": [
  {
   "cell_type": "markdown",
   "id": "5ff83f3e",
   "metadata": {},
   "source": [
    "# Interactivity test\n",
    "## Reliability Prediction - FORM\n",
    "### Bearing:     solid lubricant wear model"
   ]
  },
  {
   "cell_type": "markdown",
   "id": "a92bdf4a",
   "metadata": {},
   "source": [
    "For ESA RFP 17225,\n",
    "by Matthias Schubert, 2021-09-23"
   ]
  },
  {
   "cell_type": "markdown",
   "id": "ae9551c2",
   "metadata": {},
   "source": [
    "## General model"
   ]
  },
  {
   "cell_type": "markdown",
   "id": "ccce3c38",
   "metadata": {},
   "source": [
    "Solid lubricant wear modelling is described taking example in a ball bearing. The modelling is applicable to other cases of solid lubricant wear, however, the number of revolution has to be substituted with another measure of sliding distance. \n",
    "For solid lubricant reservoir wear (e.g. cage of a ball bearing), the limit state function for the adhesive wear model is formulated as follows:\n",
    "\n",
    "$g\\left( {\\bf{X}} \\right) = {V_{{\\text{lim}}}} - \\Theta  \\sum\\limits_{i = 1}^{{n_p}} {{K_{H,i}} {\\alpha _i} r_i}$\n",
    "\n",
    "Where $\\alpha$ denotes the average work of ball/cage interaction forces per revolution and $r_i$ the number of revolutions in time interval $i$ . The parameter $\\alpha$ will typically be estimated from tests and is, thus dependent on the wear rate $K_H$, which is used to estimate $\\alpha$ from the test results. Therefore, $K_H$ cannot be taken out of the sum.\n",
    "\n",
    "The following calculation is done by using First Order Reliability Analysis (FORM) for one time interval i=1."
   ]
  },
  {
   "cell_type": "code",
   "execution_count": 7,
   "id": "873b3351",
   "metadata": {
    "tags": [
     "thebe-init",
     "hide-input"
    ]
   },
   "outputs": [],
   "source": [
    "# display packages\n",
    "from IPython.display import display, Markdown\n",
    "import ipywidgets as widgets\n",
    "from ipywidgets import interactive, Layout, HBox, VBox\n",
    "\n",
    "# scientific packages\n",
    "import numpy as np\n",
    "import matplotlib\n",
    "from matplotlib import pyplot as plt\n",
    "from scipy import stats\n",
    "import pystra\n",
    "\n",
    "\n",
    "\n",
    "def proF(Dist_Vlim, E_Vlim, COV_Vlim, Dist_KH, E_KH, COV_KH, Dist_alpha, E_alpha, COV_alpha, Dist_MU, E_MU, COV_MU, \n",
    "         E_nrev, Rev_per_hour):\n",
    "    E_vlimit_val = float(E_Vlim)\n",
    "    nu_vlimit_val = float(COV_Vlim)\n",
    "    E_KH_val = float(E_KH)\n",
    "    nu_KH_val = float(COV_KH)\n",
    "    E_alpha_val = float(E_alpha)\n",
    "    nu_alpha_val = float(COV_alpha)\n",
    "    E_theta_val = float(E_MU)\n",
    "    nu_theta_val = float(COV_MU)\n",
    "    rev_val = float(E_nrev)\n",
    "    rev_hour = float(Rev_per_hour)\n",
    "\n",
    "    rev_min = rev_val * 0.5  # for plotting\n",
    "    rev_max = rev_val * 2  # for plotting\n",
    "\n",
    "    mu_R = E_vlimit_val\n",
    "    sigma_R = E_vlimit_val * nu_vlimit_val\n",
    "    x_R_mat = np.linspace(mu_R - sigma_R * 4, mu_R + sigma_R * 4, 50)\n",
    "\n",
    "    mu_S = E_KH_val * E_alpha_val * E_theta_val * rev_val\n",
    "    cov_S = ((nu_KH_val) ** 2 + (nu_alpha_val) ** 2 + (nu_theta_val) ** 2) ** 0.5\n",
    "    sigma_S = cov_S * mu_S\n",
    "    x_S_mat = np.linspace(max(mu_S - sigma_S * 3, 1e-12), mu_S + sigma_S * 6, 100)\n",
    "\n",
    "    zeta_S = (np.log(1 + (sigma_S / mu_S) ** 2)) ** 0.5\n",
    "    lamb_S = np.log(mu_S) - 0.5 * zeta_S ** 2\n",
    "\n",
    "    # construct distribution and evaluate PDF\n",
    "    my_dist = pystra.distributions.lognormal.Lognormal('my_dist', lamb_S, zeta_S, input_type='parameters')\n",
    "    S_pdf = my_dist.pdf(x_S_mat)\n",
    "\n",
    "    # revolutions per hour\n",
    "    # rev_hour=100;\n",
    "    ######################################################\n",
    "\n",
    "    # FORM ANALYSIS pystra\n",
    "\n",
    "    stochastic_model = pystra.StochasticModel()\n",
    "    # Define random variables\n",
    "\n",
    "    if Dist_Vlim == 'Normal':\n",
    "        stochastic_model.addVariable(pystra.Normal('X1', E_vlimit_val, E_vlimit_val * nu_vlimit_val))\n",
    "\n",
    "        # evaluate PDF\n",
    "        R_pdf = stats.norm.pdf(x_R_mat, mu_R, sigma_R)\n",
    "\n",
    "    elif Dist_Vlim == 'LogNormal':\n",
    "        stochastic_model.addVariable(pystra.Lognormal('X1', E_vlimit_val, E_vlimit_val * nu_vlimit_val))\n",
    "\n",
    "        # Lognormal\n",
    "        zeta_R = (np.log(1 + nu_vlimit_val ** 2)) ** 0.5\n",
    "        lamb_R = np.log(mu_R) - 0.5 * zeta_R ** 2\n",
    "\n",
    "        # evaluate PDF\n",
    "        R_pdf = stats.lognorm.pdf(x_R_mat, 1, mu_R, sigma_R)\n",
    "\n",
    "    elif Dist_Vlim == 'Gumbel':\n",
    "        stochastic_model.addVariable(pystra.Gumbel('X1', E_vlimit_val, E_vlimit_val * nu_vlimit_val))\n",
    "\n",
    "        # construct distribution and evaluate PDF\n",
    "        R_pdf = stats.gumbel_r.pdf(x_R_mat, mu_R, sigma_R)\n",
    "\n",
    "    if Dist_KH == 'Normal':\n",
    "        stochastic_model.addVariable(pystra.Normal('X2', E_KH_val, E_KH_val * nu_KH_val))\n",
    "\n",
    "    elif Dist_KH == 'LogNormal':\n",
    "        stochastic_model.addVariable(pystra.Lognormal('X2', E_KH_val, E_KH_val * nu_KH_val))\n",
    "\n",
    "    elif Dist_KH == 'Gumbel':\n",
    "        stochastic_model.addVariable(pystra.Gumbel('X2', E_KH_val, E_KH_val * nu_KH_val))\n",
    "\n",
    "    if Dist_alpha == 'Normal':\n",
    "        stochastic_model.addVariable(pystra.Normal('X3', E_alpha_val, E_alpha_val * nu_alpha_val))\n",
    "    elif Dist_alpha == 'LogNormal':\n",
    "        stochastic_model.addVariable(pystra.Lognormal('X3', E_alpha_val, E_alpha_val * nu_alpha_val))\n",
    "    elif Dist_alpha == 'Gumbel':\n",
    "        stochastic_model.addVariable(pystra.Gumbel('X3', E_alpha_val, E_alpha_val * nu_alpha_val))\n",
    "\n",
    "    stochastic_model.addVariable(pystra.Lognormal('X4', E_theta_val, E_theta_val * nu_theta_val))\n",
    "\n",
    "    stochastic_model.setCorrelation(pystra.CorrelationMatrix([[1.0, 0.0, 0.0, 0.0],\n",
    "                                                       [0.0, 1.0, 0.5, 0.0],\n",
    "                                                       [0.0, 0.5, 1.0, 0.0],\n",
    "                                                       [0.0, 0.0, 0.0, 1.0]]))\n",
    "\n",
    "    # Set some options (optional)\n",
    "    options = pystra.AnalysisOptions()\n",
    "\n",
    "    # Define limit state function\n",
    "    limit_state = pystra.LimitState(lambda X1, X2, X3, X4: X1 - X2 * X3 * X4 * rev_val)\n",
    "    # Performe FORM analysis\n",
    "    Analysis = pystra.Form(analysis_options=options, stochastic_model=stochastic_model, limit_state=limit_state)\n",
    "    # Some single results:\n",
    "    beta = Analysis.getBeta()\n",
    "    pf = Analysis.getFailure()\n",
    "\n",
    "    pf_mat = []\n",
    "    rev_mat = np.linspace(rev_val * 0.8, rev_val * 1.2, 5)\n",
    "    # for plot of the \"Resistance\"\n",
    "    for i_rev in range(rev_mat.shape[0]):\n",
    "        # Define limit state function\n",
    "        limit_state = pystra.LimitState(lambda X1, X2, X3, X4: X1 - X2 * X3 * X4 * rev_mat[i_rev])\n",
    "        # Performe FORM analysis\n",
    "        options.printResults(False)\n",
    "        Analysis = pystra.Form(analysis_options=options, stochastic_model=stochastic_model, limit_state=limit_state)\n",
    "        pf_mat.append(Analysis.getFailure())\n",
    "\n",
    "    # plots\n",
    "    plt.figure(1)\n",
    "    # %matplotlib inline\n",
    "    plt.plot(x_R_mat, R_pdf, 'b-')\n",
    "    plt.plot(x_S_mat, S_pdf, 'r-')\n",
    "    # plt.plot(np.log10(rev_val), pf,'ro')\n",
    "    plt.xlabel('Volume [m^3]')\n",
    "    plt.ylabel('probability density function')\n",
    "    plt.legend(['Limiting Volume', 'Volume worn away'])\n",
    "\n",
    "    # plt.yscale('log')\n",
    "    plt.figure(2)\n",
    "\n",
    "    plt.plot(rev_val / (rev_hour * 365 * 24), pf, 'ro')\n",
    "    plt.plot(rev_mat / (rev_hour * 365 * 24), pf_mat, 'r--')\n",
    "\n",
    "    plt.ylabel('probability of failure')\n",
    "    plt.xlabel('years')\n",
    "    # plt.legend(['Limiting Volume','Volume worn away'])\n",
    "\n",
    "    \n",
    "    # write markdown output to cell\n",
    "    display(Markdown(f'The **probability of failure** is $P_f$={pf[0]:.2E} at {rev_val:.2E} revolutions!'))"
   ]
  },
  {
   "cell_type": "markdown",
   "id": "9e5dd7e5-3060-441d-8848-87f1e7113be0",
   "metadata": {},
   "source": [
    "## Interactive reliability prediction\n",
    "\n",
    "The input variables of the reliability analysis are:\n",
    "- Limiting value (worn volume), $V_{\\text{lim}}$ $[m^3]$, described by: Mean Value, Coefficient of Variation and Distribution\n",
    "- Specific wear rate, $K_H$ $[Pa^{-1}=m^2/N]$ , described by: Mean Value, Coefficient of Variation and Distribution\n",
    "- Ball-cage interaction, $\\alpha$ $[N/m]$ , described by: Mean Value, Coefficient of Variation and Distribution\n",
    "- Model uncertainty, $\\Theta$ $[-]$ , described by: Mean Value, Coefficient of Variation, Lognomal distribution\n",
    "- Nominal number of revolutions, $r$ $[ \\# ]$, described by: Integer Value\n",
    "- Average number of revolution per hour $r_h$ (for plotting only) \n",
    "\n",
    "$$\n",
    "\\sum_{i\\in I} x_i^2\n",
    "$$\n",
    "\n",
    "```{note}\n",
    "To run the interactive reliability prediction on this page, click the {fa}`rocket` --> {guilabel}`Live Code` botton on the top of the page. Wait a few seconds until the Kernel has loaded and run the cell below with {guilabel}`Run`.\n",
    "```"
   ]
  },
  {
   "cell_type": "code",
   "execution_count": 8,
   "id": "f241b1d5-0047-4063-83ac-68b90a366dbf",
   "metadata": {
    "tags": [
     "thebe-init",
     "hide-input"
    ]
   },
   "outputs": [],
   "source": [
    "# prepare sliders and drop downs\n",
    "Dist_Vlim_dd = widgets.Dropdown(options=['LogNormal', 'Normal','Gumbel'], value='Gumbel', description='Dist $V_{\\\\text{lim}}$', disabled=False,)\n",
    "E_Vlim_fs = widgets.FloatSlider(value=6.5e-8, min=1e-8, max=1e-7, step=1e-9, description='$\\\\text{E}[V_{\\\\text{lim}}]$', disabled=False, continuous_update=True, orientation='horizontal', readout=True, readout_format='.1e',)\n",
    "COV_Vlim_fs = widgets.FloatSlider(value=0.2, min=0.05, max=1, step=0.05, description='$\\\\text{C.o.V.}[V_{\\\\text{lim}}]$', disabled=False, continuous_update=True, orientation='horizontal', readout=True, readout_format='.2f',)\n",
    "Dist_KH_dd = widgets.Dropdown(options=['LogNormal', 'Normal','Gumbel'], value='Normal', description='Dist $K_H$', disabled=False,)\n",
    "E_KH_fs = widgets.FloatSlider(value=4e-15, min=1e-15, max=1e-14, step=1e-15, description='$\\\\text{E}[K_H]$', disabled=False, continuous_update=True, orientation='horizontal', readout=True, readout_format='.1e',)\n",
    "COV_KH_fs = widgets.FloatSlider(value=0.65, min=0.05, max=1, step=0.05, description='$\\\\text{C.o.V.}[K_H]$', disabled=False, continuous_update=True, orientation='horizontal', readout=True, readout_format='.2f',)\n",
    "Dist_alpha_dd = widgets.Dropdown(options=['LogNormal', 'Normal','Gumbel'], value='Gumbel', description='Dist $\\\\alpha$', disabled=False,)\n",
    "E_alpha_fs = widgets.FloatSlider(value=0.018, min=0.01, max=0.1, step=0.001, description='$\\\\text{E}[\\\\alpha]$', disabled=False, continuous_update=True, orientation='horizontal', readout=True, readout_format='.1e',)\n",
    "COV_alpha_fs = widgets.FloatSlider(value=0.2, min=0.05, max=1, step=0.05, description='$\\\\text{C.o.V.}[\\\\alpha]$', disabled=False, continuous_update=True, orientation='horizontal', readout=True, readout_format='.2f',)\n",
    "Dist_MU_dd = widgets.Dropdown(options=['LogNormal'], value='LogNormal', description='Dist $\\Theta$', disabled=False,)\n",
    "E_MU_fs = widgets.FloatSlider(value=1, min=0.01, max=1, step=0.01, description='$\\\\text{E}[\\Theta]$', disabled=False, continuous_update=True, orientation='horizontal', readout=True, readout_format='.1e',)\n",
    "COV_MU_fs = widgets.FloatSlider(value=0.2, min=0.05, max=1, step=0.05, description='$\\\\text{C.o.V.}[\\Theta]$', disabled=False, continuous_update=True, orientation='horizontal', readout=True, readout_format='.2f',)\n",
    "E_nrev_fs = widgets.FloatSlider(value=2.45e+8, min=1e+8, max=1e+9, step=5e+6, description='$\\\\text{E}[r]$', disabled=False, continuous_update=True, orientation='horizontal', readout=True, readout_format='.1e',)\n",
    "Rev_per_hour_fs = widgets.FloatSlider(value=1e+6, min=1e6, max=1e+7, step=1e+6, description='$\\\\text{E}[r_h]$', disabled=False, continuous_update=True, orientation='horizontal', readout=True, readout_format='.1e',)\n",
    "\n",
    "# put inside interactive\n",
    "ip = interactive(proF,\\\n",
    "         Dist_Vlim = Dist_Vlim_dd,\\\n",
    "         E_Vlim = E_Vlim_fs,\\\n",
    "         COV_Vlim = COV_Vlim_fs,\\\n",
    "         Dist_KH = Dist_KH_dd,\\\n",
    "         E_KH = E_KH_fs,\\\n",
    "         COV_KH = COV_KH_fs,\\\n",
    "         Dist_alpha = Dist_alpha_dd,\\\n",
    "         E_alpha = E_alpha_fs,\\\n",
    "         COV_alpha = COV_alpha_fs,\\\n",
    "         Dist_MU = Dist_MU_dd,\\\n",
    "         E_MU = E_MU_fs,\\\n",
    "         COV_MU = COV_MU_fs,\\\n",
    "         E_nrev = E_nrev_fs,\\\n",
    "         Rev_per_hour= Rev_per_hour_fs\\\n",
    "        )\n",
    "\n",
    "ip.children\n",
    "# setup input controls\n",
    "input_controls = ip.children[:-1]\n",
    "column_1 = VBox(input_controls[:6])\n",
    "column_2 = VBox(input_controls[6:12])\n",
    "column_3 = VBox(input_controls[12:])\n",
    "input_box = HBox([column_1, column_2, column_3])\n",
    "\n",
    "# setup output \n",
    "output_stream = ip.children[-1]"
   ]
  },
  {
   "cell_type": "code",
   "execution_count": 9,
   "id": "348b1744",
   "metadata": {
    "tags": [
     "thebe-init"
    ]
   },
   "outputs": [
    {
     "data": {
      "application/vnd.jupyter.widget-view+json": {
       "model_id": "97216de878f940b4b874a83c71799089",
       "version_major": 2,
       "version_minor": 0
      },
      "text/plain": [
       "HBox(children=(VBox(children=(Dropdown(description='Dist $V_{\\\\text{lim}}$', index=2, options=('LogNormal', 'N…"
      ]
     },
     "metadata": {},
     "output_type": "display_data"
    },
    {
     "data": {
      "application/vnd.jupyter.widget-view+json": {
       "model_id": "cf68c16ebc2a4ff4b420c445ddae5fd2",
       "version_major": 2,
       "version_minor": 0
      },
      "text/plain": [
       "Output()"
      ]
     },
     "metadata": {},
     "output_type": "display_data"
    }
   ],
   "source": [
    "# show input fields\n",
    "display(input_box)\n",
    "\n",
    "# show output\n",
    "display(output_stream)"
   ]
  }
 ],
 "metadata": {
  "celltoolbar": "Tags",
  "kernelspec": {
   "display_name": "Python 3 (ipykernel)",
   "language": "python",
   "name": "python3"
  },
  "language_info": {
   "codemirror_mode": {
    "name": "ipython",
    "version": 3
   },
   "file_extension": ".py",
   "mimetype": "text/x-python",
   "name": "python",
   "nbconvert_exporter": "python",
   "pygments_lexer": "ipython3",
   "version": "3.7.0"
  },
  "widgets": {
   "state": {
    "22ea00fffbee4f46961dd5ea7ffcf700": {
     "views": [
      {
       "cell_index": 11
      }
     ]
    },
    "2de67b7b7a1447edbc0e91aa70c76648": {
     "views": [
      {
       "cell_index": 8
      }
     ]
    },
    "524b148e79714d0dbe85485c1ff51f38": {
     "views": [
      {
       "cell_index": 24
      }
     ]
    },
    "7366de862a02405fab8fc32adcadb0d3": {
     "views": [
      {
       "cell_index": 8
      }
     ]
    },
    "7cb3f3570a3b4ecaa0317fca906f6abb": {
     "views": [
      {
       "cell_index": 17
      }
     ]
    },
    "86de5981dec240c28a1ac069cbaf2935": {
     "views": [
      {
       "cell_index": 13
      }
     ]
    },
    "8e31192019484534b83183be86d5d316": {
     "views": [
      {
       "cell_index": 8
      }
     ]
    },
    "974421a2c12f4c628466219075447458": {
     "views": [
      {
       "cell_index": 13
      }
     ]
    },
    "974d69c13fe948cfaf5fb8e388bbcbdc": {
     "views": [
      {
       "cell_index": 13
      }
     ]
    },
    "b23ba940214141e9900a3070a4117cd0": {
     "views": [
      {
       "cell_index": 15
      }
     ]
    },
    "b72b8a684f194743aebb0c094994b447": {
     "views": [
      {
       "cell_index": 11
      }
     ]
    },
    "bb484098f3674f578934e2f2860f0db5": {
     "views": [
      {
       "cell_index": 15
      }
     ]
    },
    "c3543ef432744b7c99453496c0fac9cf": {
     "views": [
      {
       "cell_index": 11
      }
     ]
    },
    "dc537f8822cd4909bf69bdbfbb7b6e5a": {
     "views": [
      {
       "cell_index": 15
      }
     ]
    }
   },
   "version": "1.2.0"
  }
 },
 "nbformat": 4,
 "nbformat_minor": 5
}
