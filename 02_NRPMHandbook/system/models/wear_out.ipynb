{
 "cells": [
  {
   "cell_type": "markdown",
   "id": "123a67e4",
   "metadata": {},
   "source": [
    "# Wear-out model"
   ]
  },
  {
   "cell_type": "markdown",
   "id": "c66fcc01",
   "metadata": {},
   "source": [
    "<a href=\"../handbook/reliability_prediction/system_level_modelling_wear_out.html#syst_4_8_1\" class=\"back-forward-button\">Go to handbook</a>"
   ]
  },
  {
   "cell_type": "markdown",
   "id": "5ff83f3e",
   "metadata": {},
   "source": [
    "## Model description\n",
    "\n",
    "Wear-out can occur at component level and the associated failure rates are, in general, not constant. To calculate the reliability of components prone to wear-out, three approaches are introduced in the following for the failure rate $\\lambda$ and the reliability $R$:\n",
    "\n",
    "* **Model 1**\n",
    "\n",
    "$$\n",
    "\\lambda(t) &= \\lambda_{R} + \\left( \\frac{\\beta}{\\alpha} \\right)\\left( \\frac{t}{\\alpha} \\right)^{\\beta - 1}\\\\\n",
    "R(t) &= {\\exp\\left\\lbrack - \\left( \\lambda_{R} + \\left( \\frac{t}{\\alpha} \\right)^{\\beta} \\right) \\right\\rbrack}\n",
    "$$\n",
    "\n",
    "* **Model 2**\n",
    "\n",
    "$$\n",
    "\\lambda(t) &= \n",
    "\\begin{cases}\n",
    "\\lambda_{R}, &\\text{if} \\qquad t \\le \\tau\\\\\n",
    "\\lambda_{R} + \\left( \\frac{\\beta}{\\alpha} \\right)\\left( \\frac{t - \\tau}{\\alpha} \\right)^{\\beta - 1}, &\\text{if} \\qquad t > \\tau\n",
    "\\end{cases}\\\\\n",
    "R(t) &=\n",
    "\\begin{cases}\n",
    "\\exp\\left( - \\lambda_{R} t \\right), &\\text{if} \\qquad t \\le \\tau\\\\\n",
    "\\exp\\left( - \\left( \\lambda_{R} + \\left( \\frac{t - \\tau}{\\alpha} \\right)^{\\beta} \\right) \\right)&\\text{if} \\qquad t > \\tau\n",
    "\\end{cases}\n",
    "$$\n",
    "\n",
    "* **Model 3**\n",
    "\n",
    "$$\n",
    "\\lambda(t) &= \n",
    "\\begin{cases}\n",
    "\\lambda_{R}, &\\text{if} \\qquad t \\le \\tau\\\\\n",
    "\\left( \\frac{\\beta}{\\alpha} \\right)\\left( \\frac{t}{\\alpha} \\right)^{\\beta - 1}, &\\text{if} \\qquad t > \\tau\n",
    "\\end{cases}\\\\\n",
    "R(t) &=\n",
    "\\begin{cases}\n",
    "\\exp\\left( - \\lambda_{R}t \\right), &\\text{if} \\qquad t \\le \\tau\\\\\n",
    "\\exp\\left( - \\left( \\frac{t}{\\alpha} \\right)^{\\beta} \\right) &\\text{if} \\qquad t > \\tau\n",
    "\\end{cases}\n",
    "$$\n",
    "\n",
    "This expressions contain a set of parameters that influence the failure rate and reliability evolution ($\\tau, \\lambda_R, \\alpha, \\beta$). A summary of these parameters and their meaning is given in {numref}`wear_out_model_inputs_table`.\n",
    "\n",
    "```{list-table} Input variables for reliability analysis\n",
    ":header-rows: 1\n",
    ":widths: 15 45 20\n",
    ":name: wear_out_model_inputs_table\n",
    "\n",
    "* - Name\n",
    "  - Description\n",
    "  - Unit\n",
    "* - $\\tau$/tau\n",
    "  - End time for Model 1 and Model 2 time-invariant behaviour \n",
    "  - $h$\n",
    "* - $\\lambda_R$/lambda_r\n",
    "  - Time-invariant failure rate \n",
    "  - $1/h$\n",
    "* - $\\alpha$/alpha\n",
    "  - Model scale parameter\n",
    "  - $h$\n",
    "* - $\\beta$/beta\n",
    "  - Model shape parameter\n",
    "  - $-$\n",
    "```\n",
    "\n",
    "\n",
    "## Interactive failure rate and reliability prediction\n",
    "\n",
    "This page offers an interactive failure rate and reliability prediction tool that lets the user specify the properties of all variables listed in {numref}`wear_out_model_inputs_table`. Additionally, a drop-down menu lets the user select the model type and a slider lets the user choose the maximum simulation time $t_{\\text{max}}$/t_max so that $t\\in[0,t_{\\text{max}}]$. \n",
    "\n",
    "```{note}\n",
    "To run the interactive reliability prediction on this page, click the {fa}`rocket` --> {guilabel}`Live Code` button on the top of the page. Wait a few seconds until the Kernel has loaded and run the cell below with {guilabel}`Run`.\n",
    "```"
   ]
  },
  {
   "cell_type": "code",
   "execution_count": 2,
   "id": "f241b1d5-0047-4063-83ac-68b90a366dbf",
   "metadata": {
    "tags": [
     "thebe-init",
     "remove-output"
    ]
   },
   "outputs": [
    {
     "data": {
      "application/vnd.jupyter.widget-view+json": {
       "model_id": "e293938376fd43c78ec733c502360f3a",
       "version_major": 2,
       "version_minor": 0
      },
      "text/plain": [
       "VBox(children=(HBox(children=(VBox(children=(Dropdown(description='type', index=1, layout=Layout(align_items='…"
      ]
     },
     "metadata": {},
     "output_type": "display_data"
    },
    {
     "data": {
      "application/vnd.jupyter.widget-view+json": {
       "model_id": "7642aad78d8749099e4d493fa003046f",
       "version_major": 2,
       "version_minor": 0
      },
      "text/plain": [
       "Output()"
      ]
     },
     "metadata": {},
     "output_type": "display_data"
    }
   ],
   "source": [
    "from nrpmint.booktools import wear_out\n",
    "\n",
    "# start the web user-interface\n",
    "wear_out.web_ui()"
   ]
  },
  {
   "cell_type": "code",
   "execution_count": null,
   "id": "badc9978",
   "metadata": {},
   "outputs": [],
   "source": []
  }
 ],
 "metadata": {
  "celltoolbar": "Tags",
  "kernelspec": {
   "display_name": "Python 3 (ipykernel)",
   "language": "python",
   "name": "python3"
  },
  "language_info": {
   "codemirror_mode": {
    "name": "ipython",
    "version": 3
   },
   "file_extension": ".py",
   "mimetype": "text/x-python",
   "name": "python",
   "nbconvert_exporter": "python",
   "pygments_lexer": "ipython3",
   "version": "3.8.0"
  }
 },
 "nbformat": 4,
 "nbformat_minor": 5
}
