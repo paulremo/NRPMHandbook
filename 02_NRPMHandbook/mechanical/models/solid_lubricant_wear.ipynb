{
 "cells": [
  {
   "cell_type": "markdown",
   "id": "d92fcd40",
   "metadata": {},
   "source": [
    "# Simplified solid lubricant wear model"
   ]
  },
  {
   "cell_type": "markdown",
   "id": "c66fcc01",
   "metadata": {},
   "source": [
    "<a href=\"../handbook/reliability_prediction/structural_models_equations.html?highlight=fluid lubricant wear#solid-lubricant-wear\" class=\"back-forward-button\">Go to handbook</a>"
   ]
  },
  {
   "cell_type": "markdown",
   "id": "5ff83f3e",
   "metadata": {},
   "source": [
    "## Model description\n",
    "\n",
    "Solid lubricant wear modelling is described on the example of a ball bearing. The modelling is applicable to other cases of solid lubricant wear, however, the number of revolution has to be substituted with another measure of sliding distance. \n",
    "For solid lubricant reservoir wear (e.g., cage of a ball bearing), the limit state function for the adhesive wear model is formulated for single time interval (simplification) as follows:\n",
    "\n",
    "$$\n",
    "g\\left( V_{\\text{lim}}, K_H, \\alpha, \\Theta \\right) = {V_{{\\text{lim}}}} - \\Theta {{K_{H}} {\\alpha} r}\n",
    "$$\n",
    "\n",
    "Where $\\alpha$ denotes the average work of ball/cage interaction forces per revolution and $r$ is the number of revolutions in the considered time interval. The parameter $\\alpha$ will typically be estimated from tests and thus depends on the wear rate $K_H$, which is used to estimate $\\alpha$ from the test results. A summary of these variables and their meaning is given in {numref}`solid_lubricant_model_inputs_table`.\n",
    "\n",
    "```{list-table} Input variables for reliability analysis\n",
    ":header-rows: 1\n",
    ":widths: 15 45 20 20\n",
    ":name: solid_lubricant_model_inputs_table\n",
    "\n",
    "* - Name\n",
    "  - Description\n",
    "  - Unit\n",
    "  - Type\n",
    "* - $V_{\\text{lim}}$/V_lim\n",
    "  - Limiting value (worn volume),\n",
    "  - $m^3/10^6$\n",
    "  - uncertain\n",
    "* - $K_H$/K_H\n",
    "  - Specific wear rate\n",
    "  - $Pa^{-1}=m^2/N/10^{12}$\n",
    "  - uncertain\n",
    "* - $\\alpha$/alpha\n",
    "  - Ball-cage interaction\n",
    "  - $N/m$\n",
    "  - uncertain\n",
    "* - $r$/r\n",
    "  - Nominal number of revolutions\n",
    "  - $-$\n",
    "  - deterministic\n",
    "* - $\\Theta$/Theta\n",
    "  - Model uncertainty\n",
    "  - $-$\n",
    "  - uncertain\n",
    "```\n",
    "\n",
    "## Interactive reliability prediction\n",
    "\n",
    "This page offers an interactive reliability prediction that lets the user specify the properties of all variables listed in {numref}`solid_lubricant_model_inputs_table`. The value of **deterministic variables** can be selected with a slider. **Uncertain variables** are characterized by:\n",
    "- _Distribution_ denoted by \"Dist\" and can be choosen from a set of parametric probability distributions;\n",
    "- _Mean_ value denoted by \"E\" and can be selected with a slider;\n",
    "- _Coefficient of variation_ denoted by \"C.o.V.\" and can be selected with a slider.\n",
    "\n",
    "The variable $r_h$ denotes the average number of revolutions per hour and is only required for plotting the probability of failure as a function of time.\n",
    "\n",
    "```{note}\n",
    "To run the interactive reliability prediction on this page, click the {fa}`rocket` --> {guilabel}`Live Code` button on the top of the page. Wait a few seconds until the Kernel has loaded and run the cell below with {guilabel}`Run`.\n",
    "```\n",
    "```{admonition} Under construction\n",
    ":class: todo\n",
    "The numerical values and bounds for the input variables are not finalized yet. Therefore, computed failure probabilities might not be representative of the considered components.\n",
    "```"
   ]
  },
  {
   "cell_type": "code",
   "execution_count": 1,
   "id": "f241b1d5-0047-4063-83ac-68b90a366dbf",
   "metadata": {
    "tags": [
     "thebe-init",
     "remove-output"
    ]
   },
   "outputs": [
    {
     "ename": "ModuleNotFoundError",
     "evalue": "No module named 'nrpmint'",
     "output_type": "error",
     "traceback": [
      "\u001b[0;31m---------------------------------------------------------------------------\u001b[0m",
      "\u001b[0;31mModuleNotFoundError\u001b[0m                       Traceback (most recent call last)",
      "\u001b[1;32m/home/senaux/project_dir/NRPMHandbook/02_NRPMHandbook/mechanical/models/solid_lubricant_wear.ipynb Cell 4'\u001b[0m in \u001b[0;36m<cell line: 1>\u001b[0;34m()\u001b[0m\n\u001b[0;32m----> <a href='vscode-notebook-cell:/home/senaux/project_dir/NRPMHandbook/02_NRPMHandbook/mechanical/models/solid_lubricant_wear.ipynb#ch0000003?line=0'>1</a>\u001b[0m \u001b[39mfrom\u001b[39;00m \u001b[39mnrpmint\u001b[39;00m\u001b[39m.\u001b[39;00m\u001b[39mbooktools\u001b[39;00m \u001b[39mimport\u001b[39;00m solid_lubricant_wear\n\u001b[1;32m      <a href='vscode-notebook-cell:/home/senaux/project_dir/NRPMHandbook/02_NRPMHandbook/mechanical/models/solid_lubricant_wear.ipynb#ch0000003?line=2'>3</a>\u001b[0m \u001b[39m# start the web user-interface\u001b[39;00m\n\u001b[1;32m      <a href='vscode-notebook-cell:/home/senaux/project_dir/NRPMHandbook/02_NRPMHandbook/mechanical/models/solid_lubricant_wear.ipynb#ch0000003?line=3'>4</a>\u001b[0m solid_lubricant_wear\u001b[39m.\u001b[39mweb_ui()\n",
      "\u001b[0;31mModuleNotFoundError\u001b[0m: No module named 'nrpmint'"
     ]
    }
   ],
   "source": [
    "from nrpmint.booktools import solid_lubricant_wear\n",
    "\n",
    "# start the web user-interface\n",
    "solid_lubricant_wear.web_ui()"
   ]
  },
  {
   "cell_type": "code",
   "execution_count": null,
   "id": "42f442db",
   "metadata": {},
   "outputs": [],
   "source": []
  }
 ],
 "metadata": {
  "celltoolbar": "Tags",
  "kernelspec": {
   "display_name": "Python 3 (ipykernel)",
   "language": "python",
   "name": "python3"
  },
  "language_info": {
   "codemirror_mode": {
    "name": "ipython",
    "version": 3
   },
   "file_extension": ".py",
   "mimetype": "text/x-python",
   "name": "python",
   "nbconvert_exporter": "python",
   "pygments_lexer": "ipython3",
   "version": "3.8.10"
  }
 },
 "nbformat": 4,
 "nbformat_minor": 5
}
