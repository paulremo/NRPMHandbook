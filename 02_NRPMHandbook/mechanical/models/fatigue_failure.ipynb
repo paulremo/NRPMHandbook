{
 "cells": [
  {
   "cell_type": "markdown",
   "id": "5ff83f3e",
   "metadata": {},
   "source": [
    "# Fatigue failure model\n",
    "\n",
    "```{note}\n",
    "To run the interactive reliability prediction on this page, click the {fa}`rocket` --> {guilabel}`Live Code` botton on the top of the page. Wait a few seconds until the Kernel has loaded and run the cell below with {guilabel}`Run`.\n",
    "```\n",
    "\n",
    "## Model description\n",
    "\n",
    "Fatigue is a failure mechanism incurred by cyclic loading, leading to the initiation and extension of cracks, which degrade the strength of materials and structures. We consider here case of high-cycle fatigue failure, i.e., failures that occurs after a modelled component is exposed to large numbers of load cycles. The limit state function for this type of failure can be written as:\n",
    "\n",
    "$$\n",
    "g\\left( D_{cr}, A, \\text{SSF}, \\Theta  \\right) = D_{cr} - \\Theta \\cdot 10^{- A} {\\text{SSF}}^{B} \\sum_{j = 1}^{k}{N_{j} {S_{eq,j}}^{B}},\n",
    "$$\n",
    "\n",
    "This expression contains a set of variables that we consider uncertain ($D_{cr}, A, \\text{SSF}, \\Theta$) and parameters that we consider to be known with a sufficiently high accuracy ($B, \\{S_{eq,j}, N_j\\}_{j=1,\\cdots,N}$). An overview of these variables and their meaning is given in - REFERENCE TABLE.\n",
    "\n",
    "### Load collective\n",
    "\n",
    "The load collective is the set of load events that the component was subjected to during its lifetime. The collective is denoted here by $\\{S_{eq,j}, N_j\\}_{j=1,\\cdots,N}$. To simplify usage of this interactive tool, the user can specify a distribution from which the load collective is sampled and a number of total load cycles $N$. The generated distribution is then shown in a plot after the analysis.\n",
    "\n",
    "## Interactive reliability prediction\n",
    "\n",
    "The input variables of the reliability analysis are:\n",
    "\n",
    "| Name | Unit | Type |\n",
    "| :--- | ---- | ---: |\n",
    "| $D_{cr}$: Threshold for accumulated damage | $-$ | uncertain |\n",
    "| $A$: S/N curve slope | $\\log(N/m^2)^{-1}$ | uncertain |\n",
    "| $B$: S/N curve intercept| $-$ | deterministic |\n",
    "| SSF: Global stress scaling factor| $-$ | uncertain |\n",
    "| $S$: Load collective distribution| $N/m^2$ | uncertain |\n",
    "| $N$: Number of load cycles| $-$ | deterministic |"
   ]
  },
  {
   "cell_type": "markdown",
   "id": "c66fcc01",
   "metadata": {},
   "source": [
    "<button class=\"back-forward-button\" onclick=\"redirect('../handbook/reliability_prediction/structural_models_equations.html#fatigue_failure_button')\">Go to handbook</button>"
   ]
  },
  {
   "cell_type": "code",
   "execution_count": 1,
   "id": "f241b1d5-0047-4063-83ac-68b90a366dbf",
   "metadata": {
    "tags": [
     "thebe-init",
     "remove-output"
    ]
   },
   "outputs": [
    {
     "data": {
      "application/vnd.jupyter.widget-view+json": {
       "model_id": "ec93ae45a6484d11aebcdfa054384d60",
       "version_major": 2,
       "version_minor": 0
      },
      "text/plain": [
       "HBox(children=(VBox(children=(Dropdown(description='Dist $D_{\\\\text{CR}}$', options=('LogNormal', 'Normal', 'G…"
      ]
     },
     "metadata": {},
     "output_type": "display_data"
    },
    {
     "data": {
      "application/vnd.jupyter.widget-view+json": {
       "model_id": "c95fc75c5f9f4f7a9c96c64a134a104c",
       "version_major": 2,
       "version_minor": 0
      },
      "text/plain": [
       "Output()"
      ]
     },
     "metadata": {},
     "output_type": "display_data"
    }
   ],
   "source": [
    "from nrpmint.booktools import fatigue_failure\n",
    "\n",
    "# start the web user-interface\n",
    "fatigue_failure.web_ui()"
   ]
  },
  {
   "cell_type": "code",
   "execution_count": null,
   "id": "42f442db",
   "metadata": {},
   "outputs": [],
   "source": []
  }
 ],
 "metadata": {
  "celltoolbar": "Tags",
  "kernelspec": {
   "display_name": "Python 3 (ipykernel)",
   "language": "python",
   "name": "python3"
  },
  "language_info": {
   "codemirror_mode": {
    "name": "ipython",
    "version": 3
   },
   "file_extension": ".py",
   "mimetype": "text/x-python",
   "name": "python",
   "nbconvert_exporter": "python",
   "pygments_lexer": "ipython3",
   "version": "3.8.0"
  }
 },
 "nbformat": 4,
 "nbformat_minor": 5
}
