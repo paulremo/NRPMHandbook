{
 "cells": [
  {
   "cell_type": "markdown",
   "id": "44bb104f",
   "metadata": {},
   "source": [
    "# Simplified fluid lubricant wear model"
   ]
  },
  {
   "cell_type": "markdown",
   "id": "c66fcc01",
   "metadata": {},
   "source": [
    "<button class=\"back-forward-button\" onclick=\"redirect('../handbook/reliability_prediction/structural_models_equations.html#fluid_lubricant_button')\">Go to handbook</button>"
   ]
  },
  {
   "cell_type": "markdown",
   "id": "5ff83f3e",
   "metadata": {},
   "source": [
    "## Model description\n",
    "\n",
    "Fluid lubricant wear modelling is described on the example of a ball bearing. The modelling is applicable to other cases of fluid lubricant wear, however, the number of revolution has to be substituted with another measure of sliding distance. \n",
    "For fluid lubricant reservoir wear, the limit state function is formulated as follows:\n",
    "\n",
    "$$\n",
    "g\\left( K, \\Theta \\right) = M_0 - M_{\\text{inact}} - \\Theta\\frac{N_b(1-b_d/p_d\\cos{\\vartheta})}{4K\\exp{(-3.35 p_m)}}r\n",
    "$$\n",
    "\n",
    "Where $M_0$ denotes the initial mass of the lubricant in the bearing, $M_{\\text{inact}}$ is the mass not participating in the contact, $K$ is the empirical constant of the lubricant life model, $N_b$ is the number of balls in the bearing, $p_d$ ist the pitch diameter, $b_d$ is the ball diameter, $\\vartheta$ is the contact angle, $p_m$ is the contact pressure, $r$ is the number of revolutions, and $\\Theta$ is the model uncertainty. A summary of these variables and their meaning is given in {numref}`fluid_lubricant_model_inputs_table`.\n",
    "\n",
    "\n",
    "```{list-table} Input variables for reliability analysis\n",
    ":header-rows: 1\n",
    ":widths: 15 45 20 20\n",
    ":name: fluid_lubricant_model_inputs_table\n",
    "\n",
    "* - Name\n",
    "  - Description\n",
    "  - Unit\n",
    "  - Type\n",
    "* - $M_0$/M_0\n",
    "  - Initial mass of the lubricant in the bearing\n",
    "  - $g$\n",
    "  - deterministic\n",
    "* - $M_{\\text{inact}}$/M_inact\n",
    "  - Mass of lubricant not participating in the contact (e.g. due to evaporation)\n",
    "  - $g$\n",
    "  - deterministic\n",
    "* - $K$/K\n",
    "  - Empirical constant of the lubricant life model\n",
    "  - $-$\n",
    "  - uncertain\n",
    "* - $N_b$/N_b\n",
    "  - Number of balls in the bearing\n",
    "  - $-$\n",
    "  - deterministic\n",
    "* - $p_d$/p_d\n",
    "  - Pitch diameter \n",
    "  - $m$\n",
    "  - deterministic\n",
    "* - $b_d$/b_d\n",
    "  - Ball diameter \n",
    "  - $m$\n",
    "  - deterministic\n",
    "* - $\\vartheta$/theta\n",
    "  - Contact angle\n",
    "  - $rad$\n",
    "  - deterministic\n",
    "* - $p_m$/p_m\n",
    "  - Contact pressure\n",
    "  - $GPa$\n",
    "  - deterministic\n",
    "* - $r$/r\n",
    "  - Number of revolutions\n",
    "  - $-$\n",
    "  - deterministic\n",
    "* - $\\Theta$/Theta\n",
    "  - Model uncertainty\n",
    "  - $-$\n",
    "  - uncertain\n",
    "```\n",
    "\n",
    "\n",
    "## Interactive reliability prediction\n",
    "\n",
    "This page offers an interactive reliability prediction that lets the user specify the properties of all variables listed in {numref}`fluid_lubricant_model_inputs_table`. The value of **deterministic variables** can be selected with a slider. **Uncertain variables** are characterized by:\n",
    "- _Distribution_ denoted by \"Dist\" and can be choosen from a set of parametric probability distributions;\n",
    "- _Mean_ value denoted by \"E\" and can be selected with a slider;\n",
    "- _Coefficient of variation_ denoted by \"C.o.V.\" and can be selected with a slider.\n",
    "\n",
    "The variable $r_h$ denotes the average number of revolutions per hour and is only required for plotting the probability of failure as a function of time.\n",
    "\n",
    "```{note}\n",
    "To run the interactive reliability prediction on this page, click the {fa}`rocket` --> {guilabel}`Live Code` botton on the top of the page. Wait a few seconds until the Kernel has loaded and run the cell below with {guilabel}`Run`.\n",
    "```"
   ]
  },
  {
   "cell_type": "code",
   "execution_count": 1,
   "id": "f241b1d5-0047-4063-83ac-68b90a366dbf",
   "metadata": {
    "tags": [
     "thebe-init",
     "remove-output"
    ]
   },
   "outputs": [
    {
     "data": {
      "application/vnd.jupyter.widget-view+json": {
       "model_id": "f0a97cd3c668441f96830f5507e12015",
       "version_major": 2,
       "version_minor": 0
      },
      "text/plain": [
       "HBox(children=(VBox(children=(Dropdown(description='Dist $K$', index=2, options=('LogNormal', 'Normal', 'Gumbe…"
      ]
     },
     "metadata": {},
     "output_type": "display_data"
    },
    {
     "data": {
      "application/vnd.jupyter.widget-view+json": {
       "model_id": "260a69ffffa04125a7871991502ad633",
       "version_major": 2,
       "version_minor": 0
      },
      "text/plain": [
       "Output()"
      ]
     },
     "metadata": {},
     "output_type": "display_data"
    }
   ],
   "source": [
    "from nrpmint.booktools import fluid_lubricant_wear\n",
    "\n",
    "# start the web user-interface\n",
    "fluid_lubricant_wear.web_ui()"
   ]
  },
  {
   "cell_type": "code",
   "execution_count": null,
   "id": "42f442db",
   "metadata": {},
   "outputs": [],
   "source": []
  }
 ],
 "metadata": {
  "celltoolbar": "Tags",
  "kernelspec": {
   "display_name": "Python 3 (ipykernel)",
   "language": "python",
   "name": "python3"
  },
  "language_info": {
   "codemirror_mode": {
    "name": "ipython",
    "version": 3
   },
   "file_extension": ".py",
   "mimetype": "text/x-python",
   "name": "python",
   "nbconvert_exporter": "python",
   "pygments_lexer": "ipython3",
   "version": "3.8.0"
  }
 },
 "nbformat": 4,
 "nbformat_minor": 5
}
