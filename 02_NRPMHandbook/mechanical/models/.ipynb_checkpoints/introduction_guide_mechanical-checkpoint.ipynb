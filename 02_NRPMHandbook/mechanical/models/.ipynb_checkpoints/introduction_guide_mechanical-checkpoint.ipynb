{
 "cells": [
  {
   "cell_type": "markdown",
   "id": "aeb1bd40",
   "metadata": {},
   "source": [
    "# Welcome to the interactive guide for the mechanical RP calculation !\n",
    "\n",
    "Here you can follow step by step the process to calculate the RP for any item classified in _Mechanical_. Each part contains a link to the corresponding Handbook part."
   ]
  }
 ],
 "metadata": {
  "kernelspec": {
   "display_name": "Python 3 (ipykernel)",
   "language": "python",
   "name": "python3"
  },
  "language_info": {
   "codemirror_mode": {
    "name": "ipython",
    "version": 3
   },
   "file_extension": ".py",
   "mimetype": "text/x-python",
   "name": "python",
   "nbconvert_exporter": "python",
   "pygments_lexer": "ipython3",
   "version": "3.8.10"
  }
 },
 "nbformat": 4,
 "nbformat_minor": 5
}
