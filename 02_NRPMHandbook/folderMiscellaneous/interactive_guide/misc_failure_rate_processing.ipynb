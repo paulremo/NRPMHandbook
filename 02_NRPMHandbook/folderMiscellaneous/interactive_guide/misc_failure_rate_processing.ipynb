{
 "cells": [
  {
   "cell_type": "markdown",
   "id": "93b6a22e",
   "metadata": {},
   "source": [
    "# Failure rate processing"
   ]
  },
  {
   "cell_type": "markdown",
   "id": "a59a7c1f",
   "metadata": {},
   "source": [
    "## Lambda 1 calculation\n",
    "\n",
    "Here we calculate with the formula 𝜆1=𝜆𝐵\n",
    "from the Equation 4.1 in the section Reliability prediction of the Miscellaneous Digital Handbook\n",
    "\n",
    "## Lambda 2 calculation\n",
    "\n",
    "Here we calculate with the formula $\\lambda_{2} = \\lambda_{1} * K_{parameters}$ from the [Equation 4.2](misc_equation4_2) in the section [Reliability prediction](../digital_handbook/rp_miscellaneous.md) of the [Miscellaneous Digital Handbook](../mainMiscellaneous.md)\n",
    "\n",
    "## Lambda 3 calculation\n",
    "\n",
    "Here you can calculate the failure rate $\\lambda_{3}$ with the formula $\\lambda_{3} = \\lambda_{2} * \\Pi_{Q} * \\Pi_{M} * \\Pi_{CT} * \\Pi_{C} * \\Pi_{OP}$ from the [Equation 4.3](misc_equation4_3) in the section [Reliability prediction](../digital_handbook/rp_miscellaneous.md) of the [Miscellaneous Digital Handbook](../mainMiscellaneous.md)"
   ]
  },
  {
   "cell_type": "markdown",
   "id": "685aff33",
   "metadata": {},
   "source": [
    " <div w3-include-html=\"../../_static/html/misc_failure_rate_buttons.html\"></div> "
   ]
  },
  {
   "cell_type": "code",
   "execution_count": null,
   "id": "9382fa1a",
   "metadata": {},
   "outputs": [],
   "source": []
  }
 ],
 "metadata": {
  "celltoolbar": "Edit Metadata",
  "kernelspec": {
   "display_name": "Python 3 (ipykernel)",
   "language": "python",
   "name": "python3"
  },
  "language_info": {
   "codemirror_mode": {
    "name": "ipython",
    "version": 3
   },
   "file_extension": ".py",
   "mimetype": "text/x-python",
   "name": "python",
   "nbconvert_exporter": "python",
   "pygments_lexer": "ipython3",
   "version": "3.8.10"
  }
 },
 "nbformat": 4,
 "nbformat_minor": 5
}
